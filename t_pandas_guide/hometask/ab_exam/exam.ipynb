{
 "cells": [
  {
   "cell_type": "code",
   "execution_count": 84,
   "id": "f54941ad",
   "metadata": {},
   "outputs": [
    {
     "name": "stdout",
     "output_type": "stream",
     "text": [
      "Requirement already satisfied: scipy in /Users/karlkorhonen/проекты/Python/Python_guides/python_sql_guide/venv/lib/python3.12/site-packages (1.16.0)\n",
      "Requirement already satisfied: statsmodels in /Users/karlkorhonen/проекты/Python/Python_guides/python_sql_guide/venv/lib/python3.12/site-packages (0.14.5)\n",
      "Requirement already satisfied: tqdm in /Users/karlkorhonen/проекты/Python/Python_guides/python_sql_guide/venv/lib/python3.12/site-packages (4.67.1)\n",
      "Requirement already satisfied: numpy<2.6,>=1.25.2 in /Users/karlkorhonen/проекты/Python/Python_guides/python_sql_guide/venv/lib/python3.12/site-packages (from scipy) (2.3.1)\n",
      "Requirement already satisfied: pandas!=2.1.0,>=1.4 in /Users/karlkorhonen/проекты/Python/Python_guides/python_sql_guide/venv/lib/python3.12/site-packages (from statsmodels) (2.3.0)\n",
      "Requirement already satisfied: patsy>=0.5.6 in /Users/karlkorhonen/проекты/Python/Python_guides/python_sql_guide/venv/lib/python3.12/site-packages (from statsmodels) (1.0.1)\n",
      "Requirement already satisfied: packaging>=21.3 in /Users/karlkorhonen/проекты/Python/Python_guides/python_sql_guide/venv/lib/python3.12/site-packages (from statsmodels) (25.0)\n",
      "Requirement already satisfied: python-dateutil>=2.8.2 in /Users/karlkorhonen/проекты/Python/Python_guides/python_sql_guide/venv/lib/python3.12/site-packages (from pandas!=2.1.0,>=1.4->statsmodels) (2.9.0.post0)\n",
      "Requirement already satisfied: pytz>=2020.1 in /Users/karlkorhonen/проекты/Python/Python_guides/python_sql_guide/venv/lib/python3.12/site-packages (from pandas!=2.1.0,>=1.4->statsmodels) (2025.2)\n",
      "Requirement already satisfied: tzdata>=2022.7 in /Users/karlkorhonen/проекты/Python/Python_guides/python_sql_guide/venv/lib/python3.12/site-packages (from pandas!=2.1.0,>=1.4->statsmodels) (2025.2)\n",
      "Requirement already satisfied: six>=1.5 in /Users/karlkorhonen/проекты/Python/Python_guides/python_sql_guide/venv/lib/python3.12/site-packages (from python-dateutil>=2.8.2->pandas!=2.1.0,>=1.4->statsmodels) (1.17.0)\n",
      "\n",
      "\u001b[1m[\u001b[0m\u001b[34;49mnotice\u001b[0m\u001b[1;39;49m]\u001b[0m\u001b[39;49m A new release of pip is available: \u001b[0m\u001b[31;49m24.2\u001b[0m\u001b[39;49m -> \u001b[0m\u001b[32;49m25.1.1\u001b[0m\n",
      "\u001b[1m[\u001b[0m\u001b[34;49mnotice\u001b[0m\u001b[1;39;49m]\u001b[0m\u001b[39;49m To update, run: \u001b[0m\u001b[32;49mpip install --upgrade pip\u001b[0m\n",
      "Note: you may need to restart the kernel to use updated packages.\n"
     ]
    }
   ],
   "source": [
    "%pip install scipy statsmodels tqdm\n",
    "import numpy as np\n",
    "import scipy.stats as stats\n",
    "from tqdm import tqdm as tqdm\n",
    "import pandas as pd\n",
    "import random\n",
    "import pandas as pd\n",
    "from scipy.optimize import bisect\n",
    "import matplotlib.pyplot as plt\n",
    "import seaborn as sns\n",
    "from scipy.stats import ttest_ind\n",
    "from statsmodels.stats.multitest import multipletests"
   ]
  },
  {
   "cell_type": "code",
   "execution_count": 85,
   "id": "356b9c0f",
   "metadata": {},
   "outputs": [
    {
     "name": "stdout",
     "output_type": "stream",
     "text": [
      "<class 'pandas.core.frame.DataFrame'>\n",
      "RangeIndex: 1601993 entries, 0 to 1601992\n",
      "Data columns (total 2 columns):\n",
      " #   Column   Non-Null Count    Dtype \n",
      "---  ------   --------------    ----- \n",
      " 0   user_id  1601993 non-null  object\n",
      " 1   gmv      1601993 non-null  int64 \n",
      "dtypes: int64(1), object(1)\n",
      "memory usage: 24.4+ MB\n"
     ]
    }
   ],
   "source": [
    "df = pd.read_csv(\n",
    "    filepath_or_buffer=\"data1.csv\"\n",
    ")\n",
    "df.info()"
   ]
  },
  {
   "cell_type": "code",
   "execution_count": 86,
   "id": "4550058d",
   "metadata": {},
   "outputs": [
    {
     "data": {
      "text/html": [
       "<div>\n",
       "<style scoped>\n",
       "    .dataframe tbody tr th:only-of-type {\n",
       "        vertical-align: middle;\n",
       "    }\n",
       "\n",
       "    .dataframe tbody tr th {\n",
       "        vertical-align: top;\n",
       "    }\n",
       "\n",
       "    .dataframe thead th {\n",
       "        text-align: right;\n",
       "    }\n",
       "</style>\n",
       "<table border=\"1\" class=\"dataframe\">\n",
       "  <thead>\n",
       "    <tr style=\"text-align: right;\">\n",
       "      <th></th>\n",
       "      <th>user_id</th>\n",
       "      <th>gmv</th>\n",
       "    </tr>\n",
       "  </thead>\n",
       "  <tbody>\n",
       "    <tr>\n",
       "      <th>0</th>\n",
       "      <td>guo0pdwqvg</td>\n",
       "      <td>506</td>\n",
       "    </tr>\n",
       "    <tr>\n",
       "      <th>1</th>\n",
       "      <td>guo0pdwqvg</td>\n",
       "      <td>760</td>\n",
       "    </tr>\n",
       "    <tr>\n",
       "      <th>2</th>\n",
       "      <td>guo0pdwqvg</td>\n",
       "      <td>633</td>\n",
       "    </tr>\n",
       "    <tr>\n",
       "      <th>3</th>\n",
       "      <td>guo0pdwqvg</td>\n",
       "      <td>506</td>\n",
       "    </tr>\n",
       "    <tr>\n",
       "      <th>4</th>\n",
       "      <td>guo0pdwqvg</td>\n",
       "      <td>760</td>\n",
       "    </tr>\n",
       "    <tr>\n",
       "      <th>...</th>\n",
       "      <td>...</td>\n",
       "      <td>...</td>\n",
       "    </tr>\n",
       "    <tr>\n",
       "      <th>1601988</th>\n",
       "      <td>3vbm7rz5vu</td>\n",
       "      <td>910</td>\n",
       "    </tr>\n",
       "    <tr>\n",
       "      <th>1601989</th>\n",
       "      <td>3vbm7rz5vu</td>\n",
       "      <td>809</td>\n",
       "    </tr>\n",
       "    <tr>\n",
       "      <th>1601990</th>\n",
       "      <td>3vbm7rz5vu</td>\n",
       "      <td>1011</td>\n",
       "    </tr>\n",
       "    <tr>\n",
       "      <th>1601991</th>\n",
       "      <td>npbrhympo0</td>\n",
       "      <td>1349</td>\n",
       "    </tr>\n",
       "    <tr>\n",
       "      <th>1601992</th>\n",
       "      <td>npbrhympo0</td>\n",
       "      <td>1124</td>\n",
       "    </tr>\n",
       "  </tbody>\n",
       "</table>\n",
       "<p>1601993 rows × 2 columns</p>\n",
       "</div>"
      ],
      "text/plain": [
       "            user_id   gmv\n",
       "0        guo0pdwqvg   506\n",
       "1        guo0pdwqvg   760\n",
       "2        guo0pdwqvg   633\n",
       "3        guo0pdwqvg   506\n",
       "4        guo0pdwqvg   760\n",
       "...             ...   ...\n",
       "1601988  3vbm7rz5vu   910\n",
       "1601989  3vbm7rz5vu   809\n",
       "1601990  3vbm7rz5vu  1011\n",
       "1601991  npbrhympo0  1349\n",
       "1601992  npbrhympo0  1124\n",
       "\n",
       "[1601993 rows x 2 columns]"
      ]
     },
     "execution_count": 86,
     "metadata": {},
     "output_type": "execute_result"
    }
   ],
   "source": [
    "\n",
    "groupped = df.groupby(by=\"user_id\").agg(\"sum\").reset_index()\n",
    "df"
   ]
  },
  {
   "cell_type": "code",
   "execution_count": 87,
   "id": "b9c42284",
   "metadata": {},
   "outputs": [],
   "source": [
    "mat_long = groupped[\"gmv\"].mean()"
   ]
  },
  {
   "cell_type": "code",
   "execution_count": 88,
   "id": "b4d8b7af",
   "metadata": {},
   "outputs": [],
   "source": [
    "var_long = groupped[\"gmv\"].var(ddof=1)\n",
    "\n",
    "mat_r = 2750.847\n",
    "var_r = 3646228.409\n",
    "alpha = 0.05\n",
    "beta = 0.2"
   ]
  },
  {
   "cell_type": "code",
   "execution_count": 89,
   "id": "f769d217",
   "metadata": {},
   "outputs": [],
   "source": [
    "def size_mde(var, effect, k = 1, alpha = 0.05, beta = 0.2):\n",
    "    dist = stats.norm(loc=0, scale=1)\n",
    "    const = (dist.ppf(1- alpha/2) + dist.ppf(1- beta))**2 \n",
    "    return const*(1+k)*var/(effect**2)"
   ]
  },
  {
   "cell_type": "code",
   "execution_count": 90,
   "id": "bc2cf066",
   "metadata": {},
   "outputs": [
    {
     "data": {
      "text/plain": [
       "np.float64(201705.34238964328)"
      ]
     },
     "execution_count": 90,
     "metadata": {},
     "output_type": "execute_result"
    }
   ],
   "source": [
    "effect = mat_r*0.01\n",
    "k = 3\n",
    "m = size_mde(effect=effect, var = var_r, k = k, alpha=alpha, beta=beta)\n",
    "n = m / k\n",
    "total_size = m*(k+1)/k\n",
    "total_size"
   ]
  },
  {
   "cell_type": "code",
   "execution_count": 91,
   "id": "1f6c212e",
   "metadata": {},
   "outputs": [
    {
     "data": {
      "text/plain": [
       "np.float64(201706.0)"
      ]
     },
     "execution_count": 91,
     "metadata": {},
     "output_type": "execute_result"
    }
   ],
   "source": [
    "\n",
    "mat_r = 2750.847\n",
    "var_r = 3646228.409\n",
    "alpha = 0.05\n",
    "beta = 0.2\n",
    "k = 3  # соотношение контрольной к тестовой группе (3:1)\n",
    "\n",
    "# Точный расчет размера выборки\n",
    "def calculate_sample_size(mean, variance, mde_percent, k=1, alpha=0.05, beta=0.2):\n",
    "    # Преобразуем MDE из процентов в абсолютное значение\n",
    "    effect_size = mean * (mde_percent / 100)\n",
    "    \n",
    "    # Квантили нормального распределения\n",
    "    z_alpha = stats.norm.ppf(1 - alpha/2)\n",
    "    z_beta = stats.norm.ppf(1 - beta)\n",
    "    \n",
    "    # Расчет размера тестовой группы (n2)\n",
    "    n2 = (variance * (1 + 1/k) * (z_alpha + z_beta)**2) / (effect_size**2)\n",
    "    \n",
    "    # Размер контрольной группы (n1 = k * n2)\n",
    "    n1 = k * n2\n",
    "    \n",
    "    # Общий размер выборки\n",
    "    total_size = n1 + n2\n",
    "    \n",
    "    return np.ceil(n2), np.ceil(n1), np.ceil(total_size)\n",
    "\n",
    "# Расчет для MDE = 1%\n",
    "test_size, control_size, total_size = calculate_sample_size(\n",
    "    mean=mat_r,\n",
    "    variance=var_r,\n",
    "    mde_percent=1,\n",
    "    k=k,\n",
    "    alpha=alpha,\n",
    "    beta=beta\n",
    ")\n",
    "\n",
    "total_size"
   ]
  }
 ],
 "metadata": {
  "kernelspec": {
   "display_name": "venv",
   "language": "python",
   "name": "python3"
  },
  "language_info": {
   "codemirror_mode": {
    "name": "ipython",
    "version": 3
   },
   "file_extension": ".py",
   "mimetype": "text/x-python",
   "name": "python",
   "nbconvert_exporter": "python",
   "pygments_lexer": "ipython3",
   "version": "3.12.7"
  }
 },
 "nbformat": 4,
 "nbformat_minor": 5
}
