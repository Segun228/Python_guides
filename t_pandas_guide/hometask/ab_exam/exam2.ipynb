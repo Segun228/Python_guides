{
 "cells": [
  {
   "cell_type": "code",
   "execution_count": 102,
   "id": "f54941ad",
   "metadata": {},
   "outputs": [
    {
     "name": "stdout",
     "output_type": "stream",
     "text": [
      "Requirement already satisfied: scipy in /Users/karlkorhonen/проекты/Python/Python_guides/python_sql_guide/venv/lib/python3.12/site-packages (1.16.0)\n",
      "Requirement already satisfied: statsmodels in /Users/karlkorhonen/проекты/Python/Python_guides/python_sql_guide/venv/lib/python3.12/site-packages (0.14.5)\n",
      "Requirement already satisfied: tqdm in /Users/karlkorhonen/проекты/Python/Python_guides/python_sql_guide/venv/lib/python3.12/site-packages (4.67.1)\n",
      "Requirement already satisfied: numpy<2.6,>=1.25.2 in /Users/karlkorhonen/проекты/Python/Python_guides/python_sql_guide/venv/lib/python3.12/site-packages (from scipy) (2.3.1)\n",
      "Requirement already satisfied: pandas!=2.1.0,>=1.4 in /Users/karlkorhonen/проекты/Python/Python_guides/python_sql_guide/venv/lib/python3.12/site-packages (from statsmodels) (2.3.0)\n",
      "Requirement already satisfied: patsy>=0.5.6 in /Users/karlkorhonen/проекты/Python/Python_guides/python_sql_guide/venv/lib/python3.12/site-packages (from statsmodels) (1.0.1)\n",
      "Requirement already satisfied: packaging>=21.3 in /Users/karlkorhonen/проекты/Python/Python_guides/python_sql_guide/venv/lib/python3.12/site-packages (from statsmodels) (25.0)\n",
      "Requirement already satisfied: python-dateutil>=2.8.2 in /Users/karlkorhonen/проекты/Python/Python_guides/python_sql_guide/venv/lib/python3.12/site-packages (from pandas!=2.1.0,>=1.4->statsmodels) (2.9.0.post0)\n",
      "Requirement already satisfied: pytz>=2020.1 in /Users/karlkorhonen/проекты/Python/Python_guides/python_sql_guide/venv/lib/python3.12/site-packages (from pandas!=2.1.0,>=1.4->statsmodels) (2025.2)\n",
      "Requirement already satisfied: tzdata>=2022.7 in /Users/karlkorhonen/проекты/Python/Python_guides/python_sql_guide/venv/lib/python3.12/site-packages (from pandas!=2.1.0,>=1.4->statsmodels) (2025.2)\n",
      "Requirement already satisfied: six>=1.5 in /Users/karlkorhonen/проекты/Python/Python_guides/python_sql_guide/venv/lib/python3.12/site-packages (from python-dateutil>=2.8.2->pandas!=2.1.0,>=1.4->statsmodels) (1.17.0)\n",
      "\n",
      "\u001b[1m[\u001b[0m\u001b[34;49mnotice\u001b[0m\u001b[1;39;49m]\u001b[0m\u001b[39;49m A new release of pip is available: \u001b[0m\u001b[31;49m24.2\u001b[0m\u001b[39;49m -> \u001b[0m\u001b[32;49m25.1.1\u001b[0m\n",
      "\u001b[1m[\u001b[0m\u001b[34;49mnotice\u001b[0m\u001b[1;39;49m]\u001b[0m\u001b[39;49m To update, run: \u001b[0m\u001b[32;49mpip install --upgrade pip\u001b[0m\n",
      "Note: you may need to restart the kernel to use updated packages.\n"
     ]
    }
   ],
   "source": [
    "%pip install scipy statsmodels tqdm\n",
    "import numpy as np\n",
    "import scipy.stats as stats\n",
    "from tqdm import tqdm as tqdm\n",
    "import pandas as pd\n",
    "import random\n",
    "import pandas as pd\n",
    "from scipy.optimize import bisect\n",
    "import matplotlib.pyplot as plt\n",
    "import seaborn as sns\n",
    "from scipy.stats import ttest_ind\n",
    "from statsmodels.stats.multitest import multipletests"
   ]
  },
  {
   "cell_type": "code",
   "execution_count": 103,
   "id": "fdd97f79",
   "metadata": {},
   "outputs": [
    {
     "name": "stdout",
     "output_type": "stream",
     "text": [
      "<class 'pandas.core.frame.DataFrame'>\n",
      "RangeIndex: 799061 entries, 0 to 799060\n",
      "Data columns (total 3 columns):\n",
      " #   Column      Non-Null Count   Dtype \n",
      "---  ------      --------------   ----- \n",
      " 0   user_id     799061 non-null  object\n",
      " 1   gmv         799061 non-null  int64 \n",
      " 2   group_name  799061 non-null  object\n",
      "dtypes: int64(1), object(2)\n",
      "memory usage: 18.3+ MB\n"
     ]
    }
   ],
   "source": [
    "df = pd.read_csv(\n",
    "    filepath_or_buffer=\"data2.csv\"\n",
    ")\n",
    "df.info()"
   ]
  },
  {
   "cell_type": "code",
   "execution_count": 104,
   "id": "4550058d",
   "metadata": {},
   "outputs": [],
   "source": [
    "\n",
    "groupped = df.groupby(by=[\"user_id\", \"group_name\"]).agg(\"sum\").reset_index()\n",
    "control = groupped[groupped['group_name'] == 'control']['gmv']\n",
    "test = groupped[groupped['group_name'] == 'test']['gmv']\n",
    "t_stat, p_value = stats.ttest_ind(test, control, equal_var=False)\n",
    "rounded_t = round(t_stat, 3)\n",
    "rounded_p = round(p_value, 3)\n"
   ]
  },
  {
   "cell_type": "code",
   "execution_count": 105,
   "id": "b5130d3d",
   "metadata": {},
   "outputs": [
    {
     "data": {
      "text/plain": [
       "np.float64(2.36)"
      ]
     },
     "execution_count": 105,
     "metadata": {},
     "output_type": "execute_result"
    }
   ],
   "source": [
    "rounded_t"
   ]
  },
  {
   "cell_type": "code",
   "execution_count": 106,
   "id": "4c97d3f4",
   "metadata": {},
   "outputs": [
    {
     "data": {
      "text/plain": [
       "np.float64(0.018)"
      ]
     },
     "execution_count": 106,
     "metadata": {},
     "output_type": "execute_result"
    }
   ],
   "source": [
    "rounded_p"
   ]
  },
  {
   "cell_type": "code",
   "execution_count": 107,
   "id": "ff02d8a2",
   "metadata": {},
   "outputs": [],
   "source": [
    "\n",
    "df = pd.read_csv(\"data2.csv\")\n",
    "\n",
    "\n",
    "user_gmv = df.groupby(['user_id', 'group_name'])['gmv'].sum().reset_index()\n",
    "\n",
    "\n",
    "control = user_gmv[user_gmv['group_name'] == 'control']['gmv']\n",
    "test = user_gmv[user_gmv['group_name'] == 'test']['gmv']\n",
    "\n",
    "\n",
    "t_stat2, p_value2 = stats.ttest_ind(test, control, equal_var=False)\n",
    "\n"
   ]
  },
  {
   "cell_type": "code",
   "execution_count": 108,
   "id": "1ac728eb",
   "metadata": {},
   "outputs": [
    {
     "data": {
      "text/plain": [
       "np.float64(2.3604123426626256)"
      ]
     },
     "execution_count": 108,
     "metadata": {},
     "output_type": "execute_result"
    }
   ],
   "source": [
    "t_stat2"
   ]
  },
  {
   "cell_type": "code",
   "execution_count": 109,
   "id": "fffb24aa",
   "metadata": {},
   "outputs": [
    {
     "data": {
      "text/plain": [
       "np.float64(0.018256922180307746)"
      ]
     },
     "execution_count": 109,
     "metadata": {},
     "output_type": "execute_result"
    }
   ],
   "source": [
    "p_value2"
   ]
  },
  {
   "cell_type": "code",
   "execution_count": 110,
   "id": "b0e068d5",
   "metadata": {},
   "outputs": [
    {
     "name": "stdout",
     "output_type": "stream",
     "text": [
      "2.971 0.003\n"
     ]
    }
   ],
   "source": [
    "import pandas as pd\n",
    "from scipy import stats\n",
    "\n",
    "# Загрузка данных\n",
    "df = pd.read_csv(\"data2.csv\")\n",
    "\n",
    "# Добавляем признак транзакции\n",
    "df['transactions'] = 1\n",
    "\n",
    "# Агрегируем до пользователя: сумма GMV и кол-во транзакций\n",
    "user_level = df.groupby(['user_id', 'group_name']).agg({\n",
    "    'gmv': 'sum',\n",
    "    'transactions': 'sum'\n",
    "}).reset_index()\n",
    "\n",
    "# Считаем средний чек на пользователя\n",
    "user_level['mean_check'] = user_level['gmv'] / user_level['transactions']\n",
    "\n",
    "# Разбиваем на группы\n",
    "control = user_level[user_level['group_name'] == 'control']['mean_check']\n",
    "test = user_level[user_level['group_name'] == 'test']['mean_check']\n",
    "\n",
    "# Считаем t-статистику и p-value\n",
    "t_stat, p_val = stats.ttest_ind(test, control, equal_var=False)\n",
    "\n",
    "# Вывод\n",
    "print(f\"{t_stat:.3f} {p_val:.3f}\")\n"
   ]
  },
  {
   "cell_type": "code",
   "execution_count": 113,
   "id": "5d376122",
   "metadata": {},
   "outputs": [
    {
     "name": "stdout",
     "output_type": "stream",
     "text": [
      "2.983 0.003\n"
     ]
    }
   ],
   "source": [
    "import pandas as pd\n",
    "import numpy as np\n",
    "from scipy import stats\n",
    "\n",
    "# Загрузка экспериментальных данных\n",
    "experiment_df = pd.read_csv(\"data2.csv\")\n",
    "\n",
    "# Расчет агрегированных метрик по юзерам\n",
    "user_metrics = experiment_df.groupby(['user_id', 'group_name']).agg(\n",
    "    sum_transactions=('gmv', 'sum'),\n",
    "    count_transactions=('gmv', 'count')\n",
    ").reset_index()\n",
    "\n",
    "# Вычисление среднего чека\n",
    "user_metrics['avg_transaction'] = user_metrics['sum_transactions'] / user_metrics['count_transactions']\n",
    "\n",
    "# Разделение на экспериментальные группы\n",
    "control_group_metrics = user_metrics[user_metrics['group_name'] == 'control']\n",
    "test_group_metrics = user_metrics[user_metrics['group_name'] == 'test']\n",
    "\n",
    "# Извлечение значений среднего чека\n",
    "control_avg_values = control_group_metrics['avg_transaction'].values\n",
    "test_avg_values = test_group_metrics['avg_transaction'].values\n",
    "\n",
    "# Параметры выборок\n",
    "num_control = len(control_avg_values)\n",
    "num_test = len(test_avg_values)\n",
    "degrees_of_freedom = num_control + num_test - 2\n",
    "\n",
    "# Статистические характеристики\n",
    "mean_control = np.mean(control_avg_values)\n",
    "mean_test = np.mean(test_avg_values)\n",
    "\n",
    "# Несмещенные оценки дисперсии\n",
    "variance_control = np.var(control_avg_values, ddof=1)\n",
    "variance_test = np.var(test_avg_values, ddof=1)\n",
    "\n",
    "# Объединенная дисперсия (дельта-метод)\n",
    "combined_variance = ((num_control-1)*variance_control + (num_test-1)*variance_test) / degrees_of_freedom\n",
    "\n",
    "# Стандартная ошибка разности\n",
    "std_error_diff = np.sqrt(combined_variance * (1/num_control + 1/num_test))\n",
    "\n",
    "# Расчет t-статистики\n",
    "t_value_result = (mean_test - mean_control) / std_error_diff\n",
    "\n",
    "# Расчет p-value (двусторонний тест)\n",
    "p_value_result = 2 * (1 - stats.t.cdf(abs(t_value_result), degrees_of_freedom))\n",
    "\n",
    "# Форматирование результатов\n",
    "formatted_t = round(t_value_result, 3)\n",
    "formatted_p = round(p_value_result, 3)\n",
    "\n",
    "# Вывод финальных результатов\n",
    "print(f\"{formatted_t:.3f} {formatted_p:.3f}\")"
   ]
  },
  {
   "cell_type": "code",
   "execution_count": 114,
   "id": "ea69a301",
   "metadata": {},
   "outputs": [
    {
     "name": "stdout",
     "output_type": "stream",
     "text": [
      "С поправкой Уэлча: 2.971 0.003\n",
      "С упрощенными df: 2.983 0.003\n",
      "Финальный ответ: 2.971 0.003\n"
     ]
    }
   ],
   "source": [
    "import pandas as pd\n",
    "import numpy as np\n",
    "from scipy import stats\n",
    "\n",
    "# Загрузка данных\n",
    "df = pd.read_csv(\"data2.csv\")\n",
    "\n",
    "# 1. Агрегация до уровня пользователя\n",
    "user_stats = df.groupby(['user_id', 'group_name']).agg(\n",
    "    total_gmv=('gmv', 'sum'),\n",
    "    tx_count=('gmv', 'count')\n",
    ").reset_index()\n",
    "\n",
    "# 2. Расчет среднего чека на пользователя\n",
    "user_stats['avg_check'] = user_stats['total_gmv'] / user_stats['tx_count']\n",
    "\n",
    "# 3. Разделение на группы\n",
    "control = user_stats[user_stats['group_name'] == 'control']['avg_check']\n",
    "test = user_stats[user_stats['group_name'] == 'test']['avg_check']\n",
    "\n",
    "# Вариант 1: Встроенный t-test с поправкой Уэлча (equal_var=False)\n",
    "t_welch, p_welch = stats.ttest_ind(test, control, equal_var=False)\n",
    "print(f\"С поправкой Уэлча: {t_welch:.3f} {p_welch:.3f}\")\n",
    "\n",
    "# Вариант 2: Ручной расчет с упрощенными степенями свободы (n+m-2)\n",
    "n, m = len(control), len(test)\n",
    "df_simple = n + m - 2\n",
    "\n",
    "# Разность средних\n",
    "mean_diff = test.mean() - control.mean()\n",
    "\n",
    "# Объединенная дисперсия\n",
    "pooled_var = ((n-1)*control.var(ddof=1) + (m-1)*test.var(ddof=1)) / df_simple\n",
    "\n",
    "# Стандартная ошибка\n",
    "se = np.sqrt(pooled_var * (1/n + 1/m))\n",
    "\n",
    "# t-статистика\n",
    "t_simple = mean_diff / se\n",
    "\n",
    "# p-value\n",
    "p_simple = 2 * (1 - stats.t.cdf(abs(t_simple), df_simple))\n",
    "print(f\"С упрощенными df: {t_simple:.3f} {p_simple:.3f}\")\n",
    "\n",
    "# Итоговый ответ (оба варианта верны, можно выбрать любой)\n",
    "final_t = round(t_welch, 3)  # или round(t_simple, 3)\n",
    "final_p = round(p_welch, 3)  # или round(p_simple, 3)\n",
    "print(f\"Финальный ответ: {final_t:.3f} {final_p:.3f}\")"
   ]
  },
  {
   "cell_type": "code",
   "execution_count": 115,
   "id": "562b6331",
   "metadata": {},
   "outputs": [
    {
     "name": "stdout",
     "output_type": "stream",
     "text": [
      "2.344 0.019\n"
     ]
    }
   ],
   "source": [
    "import pandas as pd\n",
    "import numpy as np\n",
    "from scipy import stats\n",
    "\n",
    "# Загрузка данных\n",
    "df = pd.read_csv(\"data2.csv\")\n",
    "\n",
    "# Агрегация по пользователям\n",
    "user_data = df.groupby(['user_id', 'group_name']).agg(\n",
    "    user_gmv=('gmv', 'sum'),\n",
    "    user_tx=('gmv', 'count')\n",
    ").reset_index()\n",
    "\n",
    "# Разделение на группы\n",
    "control = user_data[user_data['group_name'] == 'control']\n",
    "test = user_data[user_data['group_name'] == 'test']\n",
    "\n",
    "# Функция для дельта-метода\n",
    "def delta_method(gmv, tx):\n",
    "    mean_gmv = np.mean(gmv)\n",
    "    mean_tx = np.mean(tx)\n",
    "    var_gmv = np.var(gmv, ddof=1)\n",
    "    var_tx = np.var(tx, ddof=1)\n",
    "    cov = np.cov(gmv, tx, ddof=1)[0,1]\n",
    "    \n",
    "    variance = (var_gmv/mean_tx**2) + (mean_gmv**2*var_tx/mean_tx**4) - (2*mean_gmv*cov/mean_tx**3)\n",
    "    return variance / len(gmv)  # делим на n для дисперсии среднего\n",
    "\n",
    "# Применяем к группам\n",
    "var_control = delta_method(control['user_gmv'], control['user_tx'])\n",
    "var_test = delta_method(test['user_gmv'], test['user_tx'])\n",
    "\n",
    "# Средние чеки\n",
    "theta_control = control['user_gmv'].sum() / control['user_tx'].sum()\n",
    "theta_test = test['user_gmv'].sum() / test['user_tx'].sum()\n",
    "\n",
    "# t-статистика\n",
    "t_value = (theta_test - theta_control) / np.sqrt(var_control + var_test)\n",
    "\n",
    "# Степени свободы (упрощенная формула)\n",
    "df = len(control) + len(test) - 2\n",
    "\n",
    "# p-value\n",
    "p_value = 2 * (1 - stats.t.cdf(abs(t_value), df))\n",
    "\n",
    "# Округление\n",
    "print(f\"{t_value:.3f} {p_value:.3f}\")"
   ]
  }
 ],
 "metadata": {
  "kernelspec": {
   "display_name": "venv",
   "language": "python",
   "name": "python3"
  },
  "language_info": {
   "codemirror_mode": {
    "name": "ipython",
    "version": 3
   },
   "file_extension": ".py",
   "mimetype": "text/x-python",
   "name": "python",
   "nbconvert_exporter": "python",
   "pygments_lexer": "ipython3",
   "version": "3.12.7"
  }
 },
 "nbformat": 4,
 "nbformat_minor": 5
}
