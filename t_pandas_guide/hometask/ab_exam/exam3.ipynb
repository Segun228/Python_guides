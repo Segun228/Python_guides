{
 "cells": [
  {
   "cell_type": "code",
   "execution_count": 1,
   "id": "53bb3d14",
   "metadata": {},
   "outputs": [
    {
     "name": "stdout",
     "output_type": "stream",
     "text": [
      "Requirement already satisfied: scipy in /Users/karlkorhonen/проекты/Python/Python_guides/python_sql_guide/venv/lib/python3.12/site-packages (1.16.0)\n",
      "Requirement already satisfied: statsmodels in /Users/karlkorhonen/проекты/Python/Python_guides/python_sql_guide/venv/lib/python3.12/site-packages (0.14.5)\n",
      "Requirement already satisfied: tqdm in /Users/karlkorhonen/проекты/Python/Python_guides/python_sql_guide/venv/lib/python3.12/site-packages (4.67.1)\n",
      "Requirement already satisfied: numpy<2.6,>=1.25.2 in /Users/karlkorhonen/проекты/Python/Python_guides/python_sql_guide/venv/lib/python3.12/site-packages (from scipy) (2.3.1)\n",
      "Requirement already satisfied: pandas!=2.1.0,>=1.4 in /Users/karlkorhonen/проекты/Python/Python_guides/python_sql_guide/venv/lib/python3.12/site-packages (from statsmodels) (2.3.0)\n",
      "Requirement already satisfied: patsy>=0.5.6 in /Users/karlkorhonen/проекты/Python/Python_guides/python_sql_guide/venv/lib/python3.12/site-packages (from statsmodels) (1.0.1)\n",
      "Requirement already satisfied: packaging>=21.3 in /Users/karlkorhonen/проекты/Python/Python_guides/python_sql_guide/venv/lib/python3.12/site-packages (from statsmodels) (25.0)\n",
      "Requirement already satisfied: python-dateutil>=2.8.2 in /Users/karlkorhonen/проекты/Python/Python_guides/python_sql_guide/venv/lib/python3.12/site-packages (from pandas!=2.1.0,>=1.4->statsmodels) (2.9.0.post0)\n",
      "Requirement already satisfied: pytz>=2020.1 in /Users/karlkorhonen/проекты/Python/Python_guides/python_sql_guide/venv/lib/python3.12/site-packages (from pandas!=2.1.0,>=1.4->statsmodels) (2025.2)\n",
      "Requirement already satisfied: tzdata>=2022.7 in /Users/karlkorhonen/проекты/Python/Python_guides/python_sql_guide/venv/lib/python3.12/site-packages (from pandas!=2.1.0,>=1.4->statsmodels) (2025.2)\n",
      "Requirement already satisfied: six>=1.5 in /Users/karlkorhonen/проекты/Python/Python_guides/python_sql_guide/venv/lib/python3.12/site-packages (from python-dateutil>=2.8.2->pandas!=2.1.0,>=1.4->statsmodels) (1.17.0)\n",
      "\n",
      "\u001b[1m[\u001b[0m\u001b[34;49mnotice\u001b[0m\u001b[1;39;49m]\u001b[0m\u001b[39;49m A new release of pip is available: \u001b[0m\u001b[31;49m24.2\u001b[0m\u001b[39;49m -> \u001b[0m\u001b[32;49m25.1.1\u001b[0m\n",
      "\u001b[1m[\u001b[0m\u001b[34;49mnotice\u001b[0m\u001b[1;39;49m]\u001b[0m\u001b[39;49m To update, run: \u001b[0m\u001b[32;49mpip install --upgrade pip\u001b[0m\n",
      "Note: you may need to restart the kernel to use updated packages.\n"
     ]
    }
   ],
   "source": [
    "%pip install scipy statsmodels tqdm\n",
    "import numpy as np\n",
    "import scipy.stats as stats\n",
    "from tqdm import tqdm as tqdm\n",
    "import pandas as pd\n",
    "import random\n",
    "import pandas as pd\n",
    "from scipy.optimize import bisect\n",
    "import matplotlib.pyplot as plt\n",
    "import seaborn as sns\n",
    "from scipy.stats import ttest_ind\n",
    "from statsmodels.stats.multitest import multipletests"
   ]
  },
  {
   "cell_type": "code",
   "execution_count": 3,
   "id": "bceb131b",
   "metadata": {},
   "outputs": [
    {
     "name": "stdout",
     "output_type": "stream",
     "text": [
      "<class 'pandas.core.frame.DataFrame'>\n",
      "RangeIndex: 250000 entries, 0 to 249999\n",
      "Data columns (total 3 columns):\n",
      " #   Column      Non-Null Count   Dtype  \n",
      "---  ------      --------------   -----  \n",
      " 0   gmv_hist    250000 non-null  float64\n",
      " 1   gmv_exp     250000 non-null  float64\n",
      " 2   group_name  250000 non-null  object \n",
      "dtypes: float64(2), object(1)\n",
      "memory usage: 5.7+ MB\n"
     ]
    }
   ],
   "source": [
    "df = pd.read_csv(\n",
    "    filepath_or_buffer=\"data3.csv\"\n",
    ")\n",
    "df.info()"
   ]
  },
  {
   "cell_type": "code",
   "execution_count": 9,
   "id": "b41e6377",
   "metadata": {},
   "outputs": [
    {
     "name": "stdout",
     "output_type": "stream",
     "text": [
      "θ (theta): 0.5579\n",
      "P-value без CUPED: 0.233\n",
      "P-value с CUPED:  0.047\n"
     ]
    }
   ],
   "source": [
    "import pandas as pd\n",
    "from scipy import stats\n",
    "\n",
    "# Загрузка данных\n",
    "df = pd.read_csv(\"data3.csv\")\n",
    "\n",
    "# 1. Расчёт θ\n",
    "X = df[\"gmv_hist\"]\n",
    "Y = df[\"gmv_exp\"]\n",
    "theta = X.cov(Y) / X.var()\n",
    "\n",
    "# 2. CUPED-преобразование\n",
    "X_mean = X.mean()\n",
    "df[\"gmv_exp_cuped\"] = Y - theta * (X - X_mean)\n",
    "\n",
    "# 3. Разделение на контроль и тест\n",
    "control = df[df[\"group_name\"] == \"control\"]\n",
    "test = df[df[\"group_name\"] == \"test\"]\n",
    "\n",
    "# 4. Расчёт p-value БЕЗ CUPED\n",
    "t_stat_orig, p_value_orig = stats.ttest_ind(control[\"gmv_exp\"], test[\"gmv_exp\"], equal_var=False)\n",
    "\n",
    "# 5. Расчёт p-value С CUPED\n",
    "t_stat_cuped, p_value_cuped = stats.ttest_ind(control[\"gmv_exp_cuped\"], test[\"gmv_exp_cuped\"], equal_var=False)\n",
    "\n",
    "# 6. Вывод результатов\n",
    "print(f\"θ (theta): {theta:.4f}\")\n",
    "print(f\"P-value без CUPED: {p_value_orig:.3f}\")\n",
    "print(f\"P-value с CUPED:  {p_value_cuped:.3f}\")"
   ]
  }
 ],
 "metadata": {
  "kernelspec": {
   "display_name": "venv",
   "language": "python",
   "name": "python3"
  },
  "language_info": {
   "codemirror_mode": {
    "name": "ipython",
    "version": 3
   },
   "file_extension": ".py",
   "mimetype": "text/x-python",
   "name": "python",
   "nbconvert_exporter": "python",
   "pygments_lexer": "ipython3",
   "version": "3.12.7"
  }
 },
 "nbformat": 4,
 "nbformat_minor": 5
}
