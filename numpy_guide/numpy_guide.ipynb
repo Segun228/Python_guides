{
 "cells": [
  {
   "cell_type": "markdown",
   "id": "d8f4cf8a",
   "metadata": {},
   "source": [
    "# Numpy"
   ]
  },
  {
   "cell_type": "markdown",
   "id": "c3a68d13",
   "metadata": {},
   "source": [
    "## Lesson 1"
   ]
  },
  {
   "cell_type": "markdown",
   "id": "6d10077f",
   "metadata": {},
   "source": [
    "### Importing numpy to the project"
   ]
  },
  {
   "cell_type": "code",
   "execution_count": 250,
   "id": "490f293e",
   "metadata": {},
   "outputs": [],
   "source": [
    "import numpy as np"
   ]
  },
  {
   "cell_type": "markdown",
   "id": "db9a5086",
   "metadata": {},
   "source": [
    "### Creating numpy array"
   ]
  },
  {
   "cell_type": "code",
   "execution_count": 251,
   "id": "b9a8d4c4",
   "metadata": {},
   "outputs": [
    {
     "data": {
      "text/plain": [
       "array([1, 2, 3, 4])"
      ]
     },
     "execution_count": 251,
     "metadata": {},
     "output_type": "execute_result"
    }
   ],
   "source": [
    "object = [1, 2, 3, 4]\n",
    "np.array(object)"
   ]
  },
  {
   "cell_type": "markdown",
   "id": "ffcd88d9",
   "metadata": {},
   "source": [
    "### Special features"
   ]
  },
  {
   "cell_type": "markdown",
   "id": "827f273e",
   "metadata": {},
   "source": [
    "### Getting entities from the array"
   ]
  },
  {
   "cell_type": "code",
   "execution_count": 252,
   "id": "a7c15a4f",
   "metadata": {},
   "outputs": [
    {
     "data": {
      "text/plain": [
       "18"
      ]
     },
     "execution_count": 252,
     "metadata": {},
     "output_type": "execute_result"
    }
   ],
   "source": [
    "array_3d = np.array([\n",
    "    [\n",
    "        [1, 2, 3, 4],\n",
    "        [5, 6, 7, 8],\n",
    "        [9, 10, 11, 12]\n",
    "    ],\n",
    "    [\n",
    "        [13, 14, 15, 16],\n",
    "        [17, 18, 19, 20],\n",
    "        [21, 22, 23, 24]\n",
    "    ]\n",
    "])\n",
    "\n",
    "array_3d[(1, 1, 1)]\n"
   ]
  },
  {
   "cell_type": "markdown",
   "id": "e6111912",
   "metadata": {},
   "source": [
    "### Changing entities in the array"
   ]
  },
  {
   "cell_type": "code",
   "execution_count": 253,
   "id": "85e17c46",
   "metadata": {},
   "outputs": [
    {
     "data": {
      "text/plain": [
       "777"
      ]
     },
     "execution_count": 253,
     "metadata": {},
     "output_type": "execute_result"
    }
   ],
   "source": [
    "array_3d[(1, 1, 1)] = 777\n",
    "array_3d[(1, 1, 1)]"
   ]
  },
  {
   "cell_type": "markdown",
   "id": "b032a892",
   "metadata": {},
   "source": [
    "### Array from exact element"
   ]
  },
  {
   "cell_type": "code",
   "execution_count": 254,
   "id": "d99e4898",
   "metadata": {},
   "outputs": [
    {
     "data": {
      "text/plain": [
       "array([2, 2, 2, 2, 2, 2])"
      ]
     },
     "execution_count": 254,
     "metadata": {},
     "output_type": "execute_result"
    }
   ],
   "source": [
    "object = [1, 2, 3, 4, 5]\n",
    "a = np.array(object)\n",
    "a[[1, 1, 1, 1, 1, 1]]"
   ]
  },
  {
   "cell_type": "markdown",
   "id": "045106b7",
   "metadata": {},
   "source": [
    "### Boolean array"
   ]
  },
  {
   "cell_type": "code",
   "execution_count": 255,
   "id": "ed8bd7ef",
   "metadata": {},
   "outputs": [
    {
     "data": {
      "text/plain": [
       "array([1, 2, 5])"
      ]
     },
     "execution_count": 255,
     "metadata": {},
     "output_type": "execute_result"
    }
   ],
   "source": [
    "object = [1, 2, 3, 4, 5]\n",
    "a = np.array(object)\n",
    "a[[True, True, False, False, True]]"
   ]
  },
  {
   "cell_type": "markdown",
   "id": "a550fcbd",
   "metadata": {},
   "source": [
    "### Reshape function"
   ]
  },
  {
   "cell_type": "code",
   "execution_count": 256,
   "id": "c4b53f8e",
   "metadata": {},
   "outputs": [
    {
     "data": {
      "text/plain": [
       "array([[1, 2, 3],\n",
       "       [4, 5, 6],\n",
       "       [7, 8, 9]])"
      ]
     },
     "execution_count": 256,
     "metadata": {},
     "output_type": "execute_result"
    }
   ],
   "source": [
    "object = [1, 2, 3, 4, 5, 6, 7, 8, 9]\n",
    "a = np.array(object)\n",
    "a.reshape(3, 3)"
   ]
  },
  {
   "cell_type": "markdown",
   "id": "a7a63219",
   "metadata": {},
   "source": [
    "## Lesson 2"
   ]
  },
  {
   "cell_type": "markdown",
   "id": "df1167b2",
   "metadata": {},
   "source": [
    "### Array function"
   ]
  },
  {
   "cell_type": "code",
   "execution_count": 257,
   "id": "8e983609",
   "metadata": {},
   "outputs": [],
   "source": [
    "some_array = np.array([1, 2, 3, 4, 5]) # Will create an array from a list\n",
    "\n",
    "some_array1 = np.array((1, 2, 3, 4, 5)) # Will create an array from a tuple\n",
    "\n",
    "some_array2 = np.array(\"Hello, World!\") # Will create an array of strings from a string"
   ]
  },
  {
   "cell_type": "markdown",
   "id": "9e0fda30",
   "metadata": {},
   "source": [
    "### All data types in Numpy"
   ]
  },
  {
   "cell_type": "code",
   "execution_count": 258,
   "id": "478e09c1",
   "metadata": {},
   "outputs": [
    {
     "data": {
      "text/plain": [
       "{'?': numpy.bool_,\n",
       " 0: numpy.bool_,\n",
       " 'byte': numpy.int8,\n",
       " 'b': numpy.int8,\n",
       " 1: numpy.int8,\n",
       " 'ubyte': numpy.uint8,\n",
       " 'B': numpy.uint8,\n",
       " 2: numpy.uint8,\n",
       " 'short': numpy.int16,\n",
       " 'h': numpy.int16,\n",
       " 3: numpy.int16,\n",
       " 'ushort': numpy.uint16,\n",
       " 'H': numpy.uint16,\n",
       " 4: numpy.uint16,\n",
       " 'i': numpy.int32,\n",
       " 5: numpy.int32,\n",
       " 'uint': numpy.uint64,\n",
       " 'I': numpy.uint32,\n",
       " 6: numpy.uint32,\n",
       " 'intp': numpy.int64,\n",
       " 'p': numpy.int64,\n",
       " 7: numpy.int64,\n",
       " 'uintp': numpy.uint64,\n",
       " 'P': numpy.uint64,\n",
       " 8: numpy.uint64,\n",
       " 'long': numpy.int64,\n",
       " 'l': numpy.int64,\n",
       " 'ulong': numpy.uint64,\n",
       " 'L': numpy.uint64,\n",
       " 'longlong': numpy.longlong,\n",
       " 'q': numpy.longlong,\n",
       " 9: numpy.longlong,\n",
       " 'ulonglong': numpy.ulonglong,\n",
       " 'Q': numpy.ulonglong,\n",
       " 10: numpy.ulonglong,\n",
       " 'half': numpy.float16,\n",
       " 'e': numpy.float16,\n",
       " 23: numpy.float16,\n",
       " 'f': numpy.float32,\n",
       " 11: numpy.float32,\n",
       " 'double': numpy.float64,\n",
       " 'd': numpy.float64,\n",
       " 12: numpy.float64,\n",
       " 'longdouble': numpy.longdouble,\n",
       " 'g': numpy.longdouble,\n",
       " 13: numpy.longdouble,\n",
       " 'cfloat': numpy.complex128,\n",
       " 'F': numpy.complex64,\n",
       " 14: numpy.complex64,\n",
       " 'cdouble': numpy.complex128,\n",
       " 'D': numpy.complex128,\n",
       " 15: numpy.complex128,\n",
       " 'clongdouble': numpy.clongdouble,\n",
       " 'G': numpy.clongdouble,\n",
       " 16: numpy.clongdouble,\n",
       " 'O': numpy.object_,\n",
       " 17: numpy.object_,\n",
       " 'S': numpy.bytes_,\n",
       " 18: numpy.bytes_,\n",
       " 'unicode': numpy.str_,\n",
       " 'U': numpy.str_,\n",
       " 19: numpy.str_,\n",
       " 'void': numpy.void,\n",
       " 'V': numpy.void,\n",
       " 20: numpy.void,\n",
       " 'M': numpy.datetime64,\n",
       " 21: numpy.datetime64,\n",
       " 'm': numpy.timedelta64,\n",
       " 22: numpy.timedelta64,\n",
       " 'b1': numpy.bool_,\n",
       " 'bool8': numpy.bool_,\n",
       " 'i8': numpy.int64,\n",
       " 'int64': numpy.int64,\n",
       " 'u8': numpy.uint64,\n",
       " 'uint64': numpy.uint64,\n",
       " 'f2': numpy.float16,\n",
       " 'float16': numpy.float16,\n",
       " 'f4': numpy.float32,\n",
       " 'float32': numpy.float32,\n",
       " 'f8': numpy.float64,\n",
       " 'float64': numpy.float64,\n",
       " 'c8': numpy.complex64,\n",
       " 'complex64': numpy.complex64,\n",
       " 'c16': numpy.complex128,\n",
       " 'complex128': numpy.complex128,\n",
       " 'object0': numpy.object_,\n",
       " 'bytes0': numpy.bytes_,\n",
       " 'str0': numpy.str_,\n",
       " 'void0': numpy.void,\n",
       " 'M8': numpy.datetime64,\n",
       " 'datetime64': numpy.datetime64,\n",
       " 'm8': numpy.timedelta64,\n",
       " 'timedelta64': numpy.timedelta64,\n",
       " 'int32': numpy.int32,\n",
       " 'i4': numpy.int32,\n",
       " 'uint32': numpy.uint32,\n",
       " 'u4': numpy.uint32,\n",
       " 'int16': numpy.int16,\n",
       " 'i2': numpy.int16,\n",
       " 'uint16': numpy.uint16,\n",
       " 'u2': numpy.uint16,\n",
       " 'int8': numpy.int8,\n",
       " 'i1': numpy.int8,\n",
       " 'uint8': numpy.uint8,\n",
       " 'u1': numpy.uint8,\n",
       " 'complex_': numpy.complex128,\n",
       " 'single': numpy.float32,\n",
       " 'csingle': numpy.complex64,\n",
       " 'singlecomplex': numpy.complex64,\n",
       " 'float_': numpy.float64,\n",
       " 'intc': numpy.int32,\n",
       " 'uintc': numpy.uint32,\n",
       " 'int_': numpy.int64,\n",
       " 'longfloat': numpy.longdouble,\n",
       " 'clongfloat': numpy.clongdouble,\n",
       " 'longcomplex': numpy.clongdouble,\n",
       " 'bool_': numpy.bool_,\n",
       " 'bytes_': numpy.bytes_,\n",
       " 'string_': numpy.bytes_,\n",
       " 'str_': numpy.str_,\n",
       " 'unicode_': numpy.str_,\n",
       " 'object_': numpy.object_,\n",
       " 'int': numpy.int64,\n",
       " 'float': numpy.float64,\n",
       " 'complex': numpy.complex128,\n",
       " 'bool': numpy.bool_,\n",
       " 'object': numpy.object_,\n",
       " 'str': numpy.str_,\n",
       " 'bytes': numpy.bytes_,\n",
       " 'a': numpy.bytes_,\n",
       " 'int0': numpy.int64,\n",
       " 'uint0': numpy.uint64}"
      ]
     },
     "execution_count": 258,
     "metadata": {},
     "output_type": "execute_result"
    }
   ],
   "source": [
    "np.sctypeDict"
   ]
  },
  {
   "cell_type": "markdown",
   "id": "212853c6",
   "metadata": {},
   "source": [
    "## Auto-fill functions"
   ]
  },
  {
   "cell_type": "markdown",
   "id": "16d84714",
   "metadata": {},
   "source": [
    "##### That`s how it is done without Numpy"
   ]
  },
  {
   "cell_type": "code",
   "execution_count": 259,
   "id": "82d07834",
   "metadata": {},
   "outputs": [
    {
     "data": {
      "text/plain": [
       "array([ 0,  1,  2,  3,  4,  5,  6,  7,  8,  9, 10, 11, 12, 13, 14])"
      ]
     },
     "execution_count": 259,
     "metadata": {},
     "output_type": "execute_result"
    }
   ],
   "source": [
    "np.array([0]*15)\n",
    "\n",
    "np.array([x for x in range(15)])"
   ]
  },
  {
   "cell_type": "markdown",
   "id": "824595ab",
   "metadata": {},
   "source": [
    "### Empty function"
   ]
  },
  {
   "cell_type": "code",
   "execution_count": 260,
   "id": "00f0034f",
   "metadata": {},
   "outputs": [
    {
     "data": {
      "text/plain": [
       "array([[-1717986918,  1069128089, -1717986918,  1070176665],\n",
       "       [  858993459,  1070805811, -1717986918,  1071225241]], dtype=int32)"
      ]
     },
     "execution_count": 260,
     "metadata": {},
     "output_type": "execute_result"
    }
   ],
   "source": [
    "np.empty((2, 4), \"int32\") # creates an empty mattrix"
   ]
  },
  {
   "cell_type": "markdown",
   "id": "582fff3b",
   "metadata": {},
   "source": [
    "### Eye function"
   ]
  },
  {
   "cell_type": "code",
   "execution_count": 261,
   "id": "d4884185",
   "metadata": {},
   "outputs": [
    {
     "data": {
      "text/plain": [
       "array([[1, 0, 0, 0, 0],\n",
       "       [0, 1, 0, 0, 0],\n",
       "       [0, 0, 1, 0, 0],\n",
       "       [0, 0, 0, 1, 0]], dtype=int32)"
      ]
     },
     "execution_count": 261,
     "metadata": {},
     "output_type": "execute_result"
    }
   ],
   "source": [
    "np.eye(4, 5, 0, \"int32\") # creates mattrix with 1 on the main diagonal"
   ]
  },
  {
   "cell_type": "markdown",
   "id": "15416ba1",
   "metadata": {},
   "source": [
    "### Identity function"
   ]
  },
  {
   "cell_type": "code",
   "execution_count": 262,
   "id": "05283cb5",
   "metadata": {},
   "outputs": [
    {
     "data": {
      "text/plain": [
       "array([[1, 0, 0, 0, 0, 0, 0, 0],\n",
       "       [0, 1, 0, 0, 0, 0, 0, 0],\n",
       "       [0, 0, 1, 0, 0, 0, 0, 0],\n",
       "       [0, 0, 0, 1, 0, 0, 0, 0],\n",
       "       [0, 0, 0, 0, 1, 0, 0, 0],\n",
       "       [0, 0, 0, 0, 0, 1, 0, 0],\n",
       "       [0, 0, 0, 0, 0, 0, 1, 0],\n",
       "       [0, 0, 0, 0, 0, 0, 0, 1]], dtype=int32)"
      ]
     },
     "execution_count": 262,
     "metadata": {},
     "output_type": "execute_result"
    }
   ],
   "source": [
    "np.identity(8, \"int32\") # creates square mattrix with 1 on the main diagonal"
   ]
  },
  {
   "cell_type": "markdown",
   "id": "07012493",
   "metadata": {},
   "source": [
    "### Ones function"
   ]
  },
  {
   "cell_type": "code",
   "execution_count": 263,
   "id": "480249cf",
   "metadata": {},
   "outputs": [
    {
     "data": {
      "text/plain": [
       "array([[1, 1, 1, 1, 1, 1, 1, 1, 1],\n",
       "       [1, 1, 1, 1, 1, 1, 1, 1, 1],\n",
       "       [1, 1, 1, 1, 1, 1, 1, 1, 1],\n",
       "       [1, 1, 1, 1, 1, 1, 1, 1, 1],\n",
       "       [1, 1, 1, 1, 1, 1, 1, 1, 1],\n",
       "       [1, 1, 1, 1, 1, 1, 1, 1, 1],\n",
       "       [1, 1, 1, 1, 1, 1, 1, 1, 1],\n",
       "       [1, 1, 1, 1, 1, 1, 1, 1, 1]], dtype=int32)"
      ]
     },
     "execution_count": 263,
     "metadata": {},
     "output_type": "execute_result"
    }
   ],
   "source": [
    "np.ones((8, 9), \"int32\") # creates  mattrix with 1 in all values"
   ]
  },
  {
   "cell_type": "markdown",
   "id": "bf6bb4e1",
   "metadata": {},
   "source": [
    "### Zeros function"
   ]
  },
  {
   "cell_type": "code",
   "execution_count": 264,
   "id": "62bc4bbb",
   "metadata": {},
   "outputs": [
    {
     "data": {
      "text/plain": [
       "array([[0, 0, 0, 0, 0, 0, 0, 0, 0],\n",
       "       [0, 0, 0, 0, 0, 0, 0, 0, 0],\n",
       "       [0, 0, 0, 0, 0, 0, 0, 0, 0],\n",
       "       [0, 0, 0, 0, 0, 0, 0, 0, 0],\n",
       "       [0, 0, 0, 0, 0, 0, 0, 0, 0],\n",
       "       [0, 0, 0, 0, 0, 0, 0, 0, 0],\n",
       "       [0, 0, 0, 0, 0, 0, 0, 0, 0],\n",
       "       [0, 0, 0, 0, 0, 0, 0, 0, 0]], dtype=int32)"
      ]
     },
     "execution_count": 264,
     "metadata": {},
     "output_type": "execute_result"
    }
   ],
   "source": [
    "np.zeros((8, 9), \"int32\") # creates mattrix with 0 in all the values"
   ]
  },
  {
   "cell_type": "markdown",
   "id": "2764e97f",
   "metadata": {},
   "source": [
    "### Full function"
   ]
  },
  {
   "cell_type": "code",
   "execution_count": 265,
   "id": "1e73fa46",
   "metadata": {},
   "outputs": [
    {
     "data": {
      "text/plain": [
       "array([[777, 777, 777],\n",
       "       [777, 777, 777],\n",
       "       [777, 777, 777]], dtype=int32)"
      ]
     },
     "execution_count": 265,
     "metadata": {},
     "output_type": "execute_result"
    }
   ],
   "source": [
    "np.full((3, 3), 777, \"int32\") # creates mattrix with 0 in all the values"
   ]
  },
  {
   "cell_type": "markdown",
   "id": "cba48c7a",
   "metadata": {},
   "source": [
    "## Mattrix creators"
   ]
  },
  {
   "cell_type": "markdown",
   "id": "5ee59e19",
   "metadata": {},
   "source": [
    "### mat function"
   ]
  },
  {
   "cell_type": "code",
   "execution_count": 266,
   "id": "1347b6e9",
   "metadata": {},
   "outputs": [
    {
     "data": {
      "text/plain": [
       "matrix([[1, 2],\n",
       "        [3, 4]])"
      ]
     },
     "execution_count": 266,
     "metadata": {},
     "output_type": "execute_result"
    }
   ],
   "source": [
    "np.mat('1 2 3 4') # creates mattrix from given values 1x4\n",
    "np.mat('1, 2, 3, 4') # 1x4\n",
    "np.mat('1, 2; 3, 4') # 2x4"
   ]
  },
  {
   "cell_type": "markdown",
   "id": "bd990795",
   "metadata": {},
   "source": [
    "### diag function"
   ]
  },
  {
   "cell_type": "code",
   "execution_count": 267,
   "id": "0bd405ce",
   "metadata": {},
   "outputs": [
    {
     "data": {
      "text/plain": [
       "array([1, 5, 9])"
      ]
     },
     "execution_count": 267,
     "metadata": {},
     "output_type": "execute_result"
    }
   ],
   "source": [
    "np.diag([1, 2, 3, 4])\n",
    "np.diag([(1, 2, 3), (4, 5, 6), (7, 8, 9)])"
   ]
  },
  {
   "cell_type": "markdown",
   "id": "4d614aa1",
   "metadata": {},
   "source": [
    "### diagflat function"
   ]
  },
  {
   "cell_type": "code",
   "execution_count": 268,
   "id": "6ca83d87",
   "metadata": {},
   "outputs": [
    {
     "data": {
      "text/plain": [
       "array([[1, 0, 0, 0, 0, 0, 0, 0, 0],\n",
       "       [0, 2, 0, 0, 0, 0, 0, 0, 0],\n",
       "       [0, 0, 3, 0, 0, 0, 0, 0, 0],\n",
       "       [0, 0, 0, 4, 0, 0, 0, 0, 0],\n",
       "       [0, 0, 0, 0, 5, 0, 0, 0, 0],\n",
       "       [0, 0, 0, 0, 0, 6, 0, 0, 0],\n",
       "       [0, 0, 0, 0, 0, 0, 7, 0, 0],\n",
       "       [0, 0, 0, 0, 0, 0, 0, 8, 0],\n",
       "       [0, 0, 0, 0, 0, 0, 0, 0, 9]])"
      ]
     },
     "execution_count": 268,
     "metadata": {},
     "output_type": "execute_result"
    }
   ],
   "source": [
    "np.diagflat([(1, 2, 3), (4, 5, 6), (7, 8, 9)])"
   ]
  },
  {
   "cell_type": "markdown",
   "id": "269b6462",
   "metadata": {},
   "source": [
    "### tri function"
   ]
  },
  {
   "cell_type": "code",
   "execution_count": 269,
   "id": "504d4d3f",
   "metadata": {},
   "outputs": [
    {
     "data": {
      "text/plain": [
       "array([[1., 0., 0., 0., 0., 0.],\n",
       "       [1., 1., 0., 0., 0., 0.],\n",
       "       [1., 1., 1., 0., 0., 0.],\n",
       "       [1., 1., 1., 1., 0., 0.]])"
      ]
     },
     "execution_count": 269,
     "metadata": {},
     "output_type": "execute_result"
    }
   ],
   "source": [
    "np.tri(4, 6)"
   ]
  },
  {
   "cell_type": "markdown",
   "id": "1aad09c4",
   "metadata": {},
   "source": [
    "### tril function"
   ]
  },
  {
   "cell_type": "code",
   "execution_count": 270,
   "id": "fd22e136",
   "metadata": {},
   "outputs": [
    {
     "data": {
      "text/plain": [
       "array([[1, 0, 0],\n",
       "       [4, 5, 0],\n",
       "       [7, 8, 9]])"
      ]
     },
     "execution_count": 270,
     "metadata": {},
     "output_type": "execute_result"
    }
   ],
   "source": [
    "a = np.array([(1, 2, 3), (4, 5, 6), (7, 8, 9)])\n",
    "np.tril(a)"
   ]
  },
  {
   "cell_type": "markdown",
   "id": "3486d04e",
   "metadata": {},
   "source": [
    "### triu function"
   ]
  },
  {
   "cell_type": "code",
   "execution_count": 271,
   "id": "ea3ac9a5",
   "metadata": {},
   "outputs": [
    {
     "data": {
      "text/plain": [
       "array([[1, 2, 3],\n",
       "       [0, 5, 6],\n",
       "       [0, 0, 9]])"
      ]
     },
     "execution_count": 271,
     "metadata": {},
     "output_type": "execute_result"
    }
   ],
   "source": [
    "a = np.array([(1, 2, 3), (4, 5, 6), (7, 8, 9)])\n",
    "np.triu(a)"
   ]
  },
  {
   "cell_type": "markdown",
   "id": "1adaa800",
   "metadata": {},
   "source": [
    "### vander function"
   ]
  },
  {
   "cell_type": "code",
   "execution_count": 272,
   "id": "46ab9f22",
   "metadata": {},
   "outputs": [
    {
     "data": {
      "text/plain": [
       "array([[1, 1, 1],\n",
       "       [4, 2, 1],\n",
       "       [9, 3, 1]])"
      ]
     },
     "execution_count": 272,
     "metadata": {},
     "output_type": "execute_result"
    }
   ],
   "source": [
    "\n",
    "np.vander([1, 2, 3])"
   ]
  },
  {
   "cell_type": "markdown",
   "id": "64cc2da7",
   "metadata": {},
   "source": [
    "## Numeric diapasons"
   ]
  },
  {
   "cell_type": "markdown",
   "id": "134cbfd1",
   "metadata": {},
   "source": [
    "### arange function"
   ]
  },
  {
   "cell_type": "code",
   "execution_count": 273,
   "id": "c9b2cfaf",
   "metadata": {},
   "outputs": [
    {
     "ename": "AttributeError",
     "evalue": "module 'numpy' has no attribute 'arcange'",
     "output_type": "error",
     "traceback": [
      "\u001b[0;31m---------------------------------------------------------------------------\u001b[0m",
      "\u001b[0;31mAttributeError\u001b[0m                            Traceback (most recent call last)",
      "Cell \u001b[0;32mIn[273], line 1\u001b[0m\n\u001b[0;32m----> 1\u001b[0m np\u001b[38;5;241m.\u001b[39marcange(\u001b[38;5;241m8\u001b[39m)\n",
      "File \u001b[0;32m/opt/anaconda3/lib/python3.12/site-packages/numpy/__init__.py:333\u001b[0m, in \u001b[0;36m__getattr__\u001b[0;34m(attr)\u001b[0m\n\u001b[1;32m    330\u001b[0m     \u001b[38;5;124m\"\u001b[39m\u001b[38;5;124mRemoved in NumPy 1.25.0\u001b[39m\u001b[38;5;124m\"\u001b[39m\n\u001b[1;32m    331\u001b[0m     \u001b[38;5;28;01mraise\u001b[39;00m \u001b[38;5;167;01mRuntimeError\u001b[39;00m(\u001b[38;5;124m\"\u001b[39m\u001b[38;5;124mTester was removed in NumPy 1.25.\u001b[39m\u001b[38;5;124m\"\u001b[39m)\n\u001b[0;32m--> 333\u001b[0m \u001b[38;5;28;01mraise\u001b[39;00m \u001b[38;5;167;01mAttributeError\u001b[39;00m(\u001b[38;5;124m\"\u001b[39m\u001b[38;5;124mmodule \u001b[39m\u001b[38;5;132;01m{!r}\u001b[39;00m\u001b[38;5;124m has no attribute \u001b[39m\u001b[38;5;124m\"\u001b[39m\n\u001b[1;32m    334\u001b[0m                      \u001b[38;5;124m\"\u001b[39m\u001b[38;5;132;01m{!r}\u001b[39;00m\u001b[38;5;124m\"\u001b[39m\u001b[38;5;241m.\u001b[39mformat(\u001b[38;5;18m__name__\u001b[39m, attr))\n",
      "\u001b[0;31mAttributeError\u001b[0m: module 'numpy' has no attribute 'arcange'"
     ]
    }
   ],
   "source": [
    "np.arcange(8)"
   ]
  },
  {
   "cell_type": "markdown",
   "id": "479e0329",
   "metadata": {},
   "source": [
    "### linspace function"
   ]
  },
  {
   "cell_type": "code",
   "execution_count": null,
   "id": "b37e7b2e",
   "metadata": {},
   "outputs": [
    {
     "data": {
      "text/plain": [
       "array([ 8. ,  9.2, 10.4, 11.6, 12.8, 14. , 15.2, 16.4, 17.6, 18.8, 20. ])"
      ]
     },
     "execution_count": 85,
     "metadata": {},
     "output_type": "execute_result"
    }
   ],
   "source": [
    "np.linspace(8, 20)"
   ]
  },
  {
   "cell_type": "markdown",
   "id": "aa073da9",
   "metadata": {},
   "source": [
    "### logspace function"
   ]
  },
  {
   "cell_type": "code",
   "execution_count": null,
   "id": "f4afb9fc",
   "metadata": {},
   "outputs": [
    {
     "data": {
      "text/plain": [
       "array([1.e+08, 1.e+12, 1.e+16, 1.e+20])"
      ]
     },
     "execution_count": 88,
     "metadata": {},
     "output_type": "execute_result"
    }
   ],
   "source": [
    "np.logspace(8, 20, 4)"
   ]
  },
  {
   "cell_type": "markdown",
   "id": "31533756",
   "metadata": {},
   "source": [
    "### geomspace function"
   ]
  },
  {
   "cell_type": "code",
   "execution_count": null,
   "id": "52a85c8e",
   "metadata": {},
   "outputs": [
    {
     "data": {
      "text/plain": [
       "array([ 8.        , 10.85767047, 14.73612599, 20.        ])"
      ]
     },
     "execution_count": 89,
     "metadata": {},
     "output_type": "execute_result"
    }
   ],
   "source": [
    "np.geomspace(8, 20, 4)"
   ]
  },
  {
   "cell_type": "markdown",
   "id": "b7779f12",
   "metadata": {},
   "source": [
    "## Copying arrays"
   ]
  },
  {
   "cell_type": "markdown",
   "id": "3012da20",
   "metadata": {},
   "source": [
    "### copy"
   ]
  },
  {
   "cell_type": "code",
   "execution_count": null,
   "id": "83ebce94",
   "metadata": {},
   "outputs": [
    {
     "data": {
      "text/plain": [
       "array([[0, 1, 2, 3, 4, 5, 6, 7, 8, 9]])"
      ]
     },
     "execution_count": 91,
     "metadata": {},
     "output_type": "execute_result"
    }
   ],
   "source": [
    "a = np.array([range(10)])\n",
    "b = np.copy(a)\n",
    "b"
   ]
  },
  {
   "cell_type": "markdown",
   "id": "c54f556a",
   "metadata": {},
   "source": [
    "### fromfunction"
   ]
  },
  {
   "cell_type": "code",
   "execution_count": null,
   "id": "6deb0f34",
   "metadata": {},
   "outputs": [
    {
     "data": {
      "text/plain": [
       "array([[  0.,   1.],\n",
       "       [100., 101.]])"
      ]
     },
     "execution_count": 92,
     "metadata": {},
     "output_type": "execute_result"
    }
   ],
   "source": [
    "a = np.array([range(10)])\n",
    "\n",
    "def getRange(x, y):\n",
    "    return 100*x + y\n",
    "\n",
    "np.fromfunction(getRange, (2, 2))"
   ]
  },
  {
   "cell_type": "markdown",
   "id": "b93250af",
   "metadata": {},
   "source": [
    "### fromiter"
   ]
  },
  {
   "cell_type": "code",
   "execution_count": null,
   "id": "0d65fcd7",
   "metadata": {},
   "outputs": [
    {
     "data": {
      "text/plain": [
       "array(['H', 'e', 'l', 'l', 'o'], dtype='<U1')"
      ]
     },
     "execution_count": 95,
     "metadata": {},
     "output_type": "execute_result"
    }
   ],
   "source": [
    "np.fromiter(\"Hello\", dtype=\"U1\")"
   ]
  },
  {
   "cell_type": "markdown",
   "id": "2104a079",
   "metadata": {},
   "source": [
    "### fromstring"
   ]
  },
  {
   "cell_type": "code",
   "execution_count": null,
   "id": "e23632d5",
   "metadata": {},
   "outputs": [
    {
     "data": {
      "text/plain": [
       "array([1, 1, 3], dtype=int32)"
      ]
     },
     "execution_count": 99,
     "metadata": {},
     "output_type": "execute_result"
    }
   ],
   "source": [
    "np.fromstring(\"1;1;3\", dtype=\"int32\", sep=\";\")"
   ]
  },
  {
   "cell_type": "markdown",
   "id": "67459738",
   "metadata": {},
   "source": [
    "## Array properties"
   ]
  },
  {
   "cell_type": "markdown",
   "id": "a9f463c5",
   "metadata": {},
   "source": [
    "### dtype"
   ]
  },
  {
   "cell_type": "code",
   "execution_count": null,
   "id": "51a33f89",
   "metadata": {},
   "outputs": [
    {
     "data": {
      "text/plain": [
       "dtype('int64')"
      ]
     },
     "execution_count": 100,
     "metadata": {},
     "output_type": "execute_result"
    }
   ],
   "source": [
    "a = np.array([1, 2, 3, 4, 5])\n",
    "a.dtype # returns data type of the array\n",
    "a.dtype = np.float32 # changing data type property"
   ]
  },
  {
   "cell_type": "markdown",
   "id": "3286522d",
   "metadata": {},
   "source": [
    "### itemsize"
   ]
  },
  {
   "cell_type": "code",
   "execution_count": null,
   "id": "12c0953b",
   "metadata": {},
   "outputs": [
    {
     "data": {
      "text/plain": [
       "8"
      ]
     },
     "execution_count": 102,
     "metadata": {},
     "output_type": "execute_result"
    }
   ],
   "source": [
    "a.itemsize # returns the size of an array element"
   ]
  },
  {
   "cell_type": "markdown",
   "id": "1bb0bc23",
   "metadata": {},
   "source": [
    "### ndim"
   ]
  },
  {
   "cell_type": "code",
   "execution_count": null,
   "id": "ebaecb26",
   "metadata": {},
   "outputs": [
    {
     "data": {
      "text/plain": [
       "3"
      ]
     },
     "execution_count": 103,
     "metadata": {},
     "output_type": "execute_result"
    }
   ],
   "source": [
    "b = np.zeros((3, 3, 3, 4))\n",
    "b.ndim # returns the dimentions of an array"
   ]
  },
  {
   "cell_type": "markdown",
   "id": "716fb1bb",
   "metadata": {},
   "source": [
    "### size"
   ]
  },
  {
   "cell_type": "code",
   "execution_count": null,
   "id": "d221c570",
   "metadata": {},
   "outputs": [
    {
     "data": {
      "text/plain": [
       "108"
      ]
     },
     "execution_count": 105,
     "metadata": {},
     "output_type": "execute_result"
    }
   ],
   "source": [
    "b = np.zeros((3, 3, 3, 4))\n",
    "b.size # returns the quanity of elements of the array"
   ]
  },
  {
   "cell_type": "markdown",
   "id": "d82c369b",
   "metadata": {},
   "source": [
    "### shape"
   ]
  },
  {
   "cell_type": "code",
   "execution_count": null,
   "id": "6d23085f",
   "metadata": {},
   "outputs": [],
   "source": [
    "b = np.zeros((3, 3, 3, 4))\n",
    "b.shape # returns the shape of an array\n",
    "b.shape = (4, 3, 3, 3)"
   ]
  },
  {
   "cell_type": "code",
   "execution_count": null,
   "id": "e7bf2c58",
   "metadata": {},
   "outputs": [
    {
     "data": {
      "text/plain": [
       "array([[[ 0,  1,  2,  3],\n",
       "        [ 4,  5,  6,  7],\n",
       "        [ 8,  9, 10, 11],\n",
       "        [12, 13, 14, 15],\n",
       "        [16, 17, 18, 19]],\n",
       "\n",
       "       [[20, 21, 22, 23],\n",
       "        [24, 25, 26, 27],\n",
       "        [28, 29, 30, 31],\n",
       "        [32, 33, 34, 35],\n",
       "        [36, 37, 38, 39]],\n",
       "\n",
       "       [[40, 41, 42, 43],\n",
       "        [44, 45, 46, 47],\n",
       "        [48, 49, 50, 51],\n",
       "        [52, 53, 54, 55],\n",
       "        [56, 57, 58, 59]],\n",
       "\n",
       "       [[60, 61, 62, 63],\n",
       "        [64, 65, 66, 67],\n",
       "        [68, 69, 70, 71],\n",
       "        [72, 73, 74, 75],\n",
       "        [76, 77, 78, 79]],\n",
       "\n",
       "       [[80, 81, 82, 83],\n",
       "        [84, 85, 86, 87],\n",
       "        [88, 89, 90, 91],\n",
       "        [92, 93, 94, 95],\n",
       "        [96, 97, 98, 99]]])"
      ]
     },
     "execution_count": 111,
     "metadata": {},
     "output_type": "execute_result"
    }
   ],
   "source": [
    "b = np.arange(100)\n",
    "b.shape = -1, 5, 4 # the first parameter will be chosen automatically\n",
    "b"
   ]
  },
  {
   "cell_type": "markdown",
   "id": "f3f6f2bb",
   "metadata": {},
   "source": [
    "### reshape"
   ]
  },
  {
   "cell_type": "code",
   "execution_count": null,
   "id": "64ca56f4",
   "metadata": {},
   "outputs": [],
   "source": [
    "b = np.zeros((3, 3, 3, 4))\n",
    "c = b.reshape(1, 108)\n",
    "\"\"\"\n",
    "    b and c are still linked to the same array\n",
    "\"\"\""
   ]
  },
  {
   "cell_type": "markdown",
   "id": "19d59e6d",
   "metadata": {},
   "source": [
    "### transponate"
   ]
  },
  {
   "cell_type": "code",
   "execution_count": null,
   "id": "4b5c93e3",
   "metadata": {},
   "outputs": [
    {
     "data": {
      "text/plain": [
       "array([[  0, 777,   2,   3,   4,   5,   6,   7,   8,   9],\n",
       "       [ 10, 777,  12,  13,  14,  15,  16,  17,  18,  19],\n",
       "       [ 20, 777,  22,  23,  24,  25,  26,  27,  28,  29],\n",
       "       [ 30, 777,  32,  33,  34,  35,  36,  37,  38,  39],\n",
       "       [ 40, 777,  42,  43,  44,  45,  46,  47,  48,  49],\n",
       "       [ 50, 777,  52,  53,  54,  55,  56,  57,  58,  59],\n",
       "       [ 60, 777,  62,  63,  64,  65,  66,  67,  68,  69],\n",
       "       [ 70, 777,  72,  73,  74,  75,  76,  77,  78,  79],\n",
       "       [ 80, 777,  82,  83,  84,  85,  86,  87,  88,  89],\n",
       "       [ 90, 777,  92,  93,  94,  95,  96,  97,  98,  99]])"
      ]
     },
     "execution_count": 107,
     "metadata": {},
     "output_type": "execute_result"
    }
   ],
   "source": [
    "b = np.arange((100))\n",
    "b.shape = (10, 10)\n",
    "d = b.T\n",
    "\"\"\"\n",
    "    b and d are still linked to the same data\n",
    "\"\"\"\n",
    "d[1] = 777\n",
    "b"
   ]
  },
  {
   "cell_type": "markdown",
   "id": "286ca75d",
   "metadata": {},
   "source": [
    "### view()"
   ]
  },
  {
   "cell_type": "code",
   "execution_count": null,
   "id": "62430ab6",
   "metadata": {},
   "outputs": [
    {
     "data": {
      "text/plain": [
       "array([[  0, 777,   2,   3,   4,   5,   6,   7,   8,   9],\n",
       "       [ 10, 777,  12,  13,  14,  15,  16,  17,  18,  19],\n",
       "       [ 20, 777,  22,  23,  24,  25,  26,  27,  28,  29],\n",
       "       [ 30, 777,  32,  33,  34,  35,  36,  37,  38,  39],\n",
       "       [ 40, 777,  42,  43,  44,  45,  46,  47,  48,  49],\n",
       "       [ 50, 777,  52,  53,  54,  55,  56,  57,  58,  59],\n",
       "       [ 60, 777,  62,  63,  64,  65,  66,  67,  68,  69],\n",
       "       [ 70, 777,  72,  73,  74,  75,  76,  77,  78,  79],\n",
       "       [ 80, 777,  82,  83,  84,  85,  86,  87,  88,  89],\n",
       "       [ 90, 777,  92,  93,  94,  95,  96,  97,  98,  99]])"
      ]
     },
     "metadata": {},
     "output_type": "display_data"
    }
   ],
   "source": [
    "b = np.arange((100))\n",
    "b.shape = (10, 10)\n",
    "c = b.T\n",
    "\"\"\"\n",
    "    c is linked to b directly\n",
    "\"\"\"\n",
    "c = b.view()\n",
    "\"\"\"\n",
    "    now c is linked to b`s data, but not to the b presentation directly\n",
    "\"\"\""
   ]
  },
  {
   "cell_type": "markdown",
   "id": "2ca2ee0e",
   "metadata": {},
   "source": [
    "### copying an array`s data"
   ]
  },
  {
   "cell_type": "code",
   "execution_count": null,
   "id": "b3c32366",
   "metadata": {},
   "outputs": [
    {
     "data": {
      "text/plain": [
       "array([[  0, 777,   2,   3,   4,   5,   6,   7,   8,   9],\n",
       "       [ 10, 777,  12,  13,  14,  15,  16,  17,  18,  19],\n",
       "       [ 20, 777,  22,  23,  24,  25,  26,  27,  28,  29],\n",
       "       [ 30, 777,  32,  33,  34,  35,  36,  37,  38,  39],\n",
       "       [ 40, 777,  42,  43,  44,  45,  46,  47,  48,  49],\n",
       "       [ 50, 777,  52,  53,  54,  55,  56,  57,  58,  59],\n",
       "       [ 60, 777,  62,  63,  64,  65,  66,  67,  68,  69],\n",
       "       [ 70, 777,  72,  73,  74,  75,  76,  77,  78,  79],\n",
       "       [ 80, 777,  82,  83,  84,  85,  86,  87,  88,  89],\n",
       "       [ 90, 777,  92,  93,  94,  95,  96,  97,  98,  99]])"
      ]
     },
     "metadata": {},
     "output_type": "display_data"
    }
   ],
   "source": [
    "b = np.arange((100))\n",
    "b.shape = (10, 10)\n",
    "c = np.array(b)\n",
    "\"\"\"\n",
    "    now c is not connected to b at all\n",
    "\"\"\"\n",
    "\n",
    "d = b.copy() #another way to create a copy"
   ]
  },
  {
   "cell_type": "markdown",
   "id": "49db5e52",
   "metadata": {},
   "source": [
    "### ravel"
   ]
  },
  {
   "cell_type": "code",
   "execution_count": null,
   "id": "50e30102",
   "metadata": {},
   "outputs": [
    {
     "data": {
      "text/plain": [
       "array([ 0,  1,  2,  3,  4,  5,  6,  7,  8,  9, 10, 11, 12, 13, 14, 15, 16,\n",
       "       17, 18, 19, 20, 21, 22, 23, 24, 25, 26, 27, 28, 29, 30, 31, 32, 33,\n",
       "       34, 35, 36, 37, 38, 39, 40, 41, 42, 43, 44, 45, 46, 47, 48, 49, 50,\n",
       "       51, 52, 53, 54, 55, 56, 57, 58, 59, 60, 61, 62, 63, 64, 65, 66, 67,\n",
       "       68, 69, 70, 71, 72, 73, 74, 75, 76, 77, 78, 79, 80, 81, 82, 83, 84,\n",
       "       85, 86, 87, 88, 89, 90, 91, 92, 93, 94, 95, 96, 97, 98, 99])"
      ]
     },
     "execution_count": 115,
     "metadata": {},
     "output_type": "execute_result"
    }
   ],
   "source": [
    "b = np.arange((100))\n",
    "b.shape = (10, 10)\n",
    "b.ravel() # turning matrix into vector\n",
    "b.shape = 10, 10\n",
    "b.shape = -1 # The same result"
   ]
  },
  {
   "cell_type": "markdown",
   "id": "fcc065f3",
   "metadata": {},
   "source": [
    "### resize"
   ]
  },
  {
   "cell_type": "code",
   "execution_count": null,
   "id": "bdbd3e61",
   "metadata": {},
   "outputs": [
    {
     "data": {
      "text/plain": [
       "array([[0, 1, 2, ..., 0, 0, 0],\n",
       "       [0, 0, 0, ..., 0, 0, 0],\n",
       "       [0, 0, 0, ..., 0, 0, 0],\n",
       "       ...,\n",
       "       [0, 0, 0, ..., 0, 0, 0],\n",
       "       [0, 0, 0, ..., 0, 0, 0],\n",
       "       [0, 0, 0, ..., 0, 0, 0]])"
      ]
     },
     "execution_count": 119,
     "metadata": {},
     "output_type": "execute_result"
    }
   ],
   "source": [
    "b = np.arange((100))\n",
    "b.resize(10, 10)\n",
    "# This method does not return any values but changes the presentation of an array itself\n",
    "\n",
    "b.resize(9, 9) # notice, that the number of elements is reduced\n",
    "b.resize(100, 100) # notice, that the number of elements is increased\n",
    "b"
   ]
  },
  {
   "cell_type": "markdown",
   "id": "3c5acd43",
   "metadata": {},
   "source": [
    "### append and delete"
   ]
  },
  {
   "cell_type": "code",
   "execution_count": null,
   "id": "18d64fa1",
   "metadata": {},
   "outputs": [
    {
     "data": {
      "text/plain": [
       "array([[ 10,  11,  12,  13,  14,  15,  16,  17,  18,  19],\n",
       "       [ 20,  21,  22,  23,  24,  25,  26,  27,  28,  29],\n",
       "       [ 30,  31,  32,  33,  34,  35,  36,  37,  38,  39],\n",
       "       [ 40,  41,  42,  43,  44,  45,  46,  47,  48,  49],\n",
       "       [ 50,  51,  52,  53,  54,  55,  56,  57,  58,  59],\n",
       "       [ 60,  61,  62,  63,  64,  65,  66,  67,  68,  69],\n",
       "       [ 70,  71,  72,  73,  74,  75,  76,  77,  78,  79],\n",
       "       [ 80,  81,  82,  83,  84,  85,  86,  87,  88,  89],\n",
       "       [ 90,  91,  92,  93,  94,  95,  96,  97,  98,  99],\n",
       "       [  1,   2,   3, 777, 777, 777, 777, 777, 777, 777]])"
      ]
     },
     "execution_count": 170,
     "metadata": {},
     "output_type": "execute_result"
    }
   ],
   "source": [
    "b = np.arange((100)).reshape(10, 10)\n",
    "b = np.append(b, [[1, 2, 3, 777, 777, 777, 777, 777, 777, 777]], axis=0)\n",
    "b = np.delete(b, 0, axis=0)\n",
    "b"
   ]
  },
  {
   "cell_type": "markdown",
   "id": "929623bc",
   "metadata": {},
   "source": [
    "### expand_dims"
   ]
  },
  {
   "cell_type": "code",
   "execution_count": null,
   "id": "61c12833",
   "metadata": {},
   "outputs": [
    {
     "data": {
      "text/plain": [
       "array([[[ 0,  1,  2,  3,  4,  5,  6,  7,  8,  9],\n",
       "        [10, 11, 12, 13, 14, 15, 16, 17, 18, 19],\n",
       "        [20, 21, 22, 23, 24, 25, 26, 27, 28, 29],\n",
       "        [30, 31, 32, 33, 34, 35, 36, 37, 38, 39],\n",
       "        [40, 41, 42, 43, 44, 45, 46, 47, 48, 49],\n",
       "        [50, 51, 52, 53, 54, 55, 56, 57, 58, 59],\n",
       "        [60, 61, 62, 63, 64, 65, 66, 67, 68, 69],\n",
       "        [70, 71, 72, 73, 74, 75, 76, 77, 78, 79],\n",
       "        [80, 81, 82, 83, 84, 85, 86, 87, 88, 89],\n",
       "        [90, 91, 92, 93, 94, 95, 96, 97, 98, 99]]])"
      ]
     },
     "execution_count": 159,
     "metadata": {},
     "output_type": "execute_result"
    }
   ],
   "source": [
    "b = np.arange((100)).reshape(10, 10)\n",
    "b = np.expand_dims(b, axis=0)\n",
    "# a new axis is added to b\n",
    "b = np.expand_dims(b, axis=-1)\n",
    "# adds a new axis to the end of the array\n"
   ]
  },
  {
   "cell_type": "markdown",
   "id": "07a0b928",
   "metadata": {},
   "source": [
    "### expand_dims"
   ]
  },
  {
   "cell_type": "code",
   "execution_count": null,
   "id": "c8026cad",
   "metadata": {},
   "outputs": [
    {
     "data": {
      "text/plain": [
       "array([[[ 0,  1,  2,  3,  4,  5,  6,  7,  8,  9],\n",
       "        [10, 11, 12, 13, 14, 15, 16, 17, 18, 19],\n",
       "        [20, 21, 22, 23, 24, 25, 26, 27, 28, 29],\n",
       "        [30, 31, 32, 33, 34, 35, 36, 37, 38, 39],\n",
       "        [40, 41, 42, 43, 44, 45, 46, 47, 48, 49],\n",
       "        [50, 51, 52, 53, 54, 55, 56, 57, 58, 59],\n",
       "        [60, 61, 62, 63, 64, 65, 66, 67, 68, 69],\n",
       "        [70, 71, 72, 73, 74, 75, 76, 77, 78, 79],\n",
       "        [80, 81, 82, 83, 84, 85, 86, 87, 88, 89],\n",
       "        [90, 91, 92, 93, 94, 95, 96, 97, 98, 99]]])"
      ]
     },
     "metadata": {},
     "output_type": "display_data"
    }
   ],
   "source": [
    "b = np.arange((100)).reshape(10, 10)\n",
    "b = np.expand_dims(b, axis=0)\n",
    "# a new axis is added to b\n",
    "b = np.expand_dims(b, axis=-1)\n",
    "# adds a new axis to the end of the array\n"
   ]
  },
  {
   "cell_type": "markdown",
   "id": "f3507c19",
   "metadata": {},
   "source": [
    "### squize"
   ]
  },
  {
   "cell_type": "code",
   "execution_count": null,
   "id": "1546552a",
   "metadata": {},
   "outputs": [
    {
     "data": {
      "text/plain": [
       "array([[ 0,  1,  2,  3,  4,  5,  6,  7,  8,  9],\n",
       "       [10, 11, 12, 13, 14, 15, 16, 17, 18, 19],\n",
       "       [20, 21, 22, 23, 24, 25, 26, 27, 28, 29],\n",
       "       [30, 31, 32, 33, 34, 35, 36, 37, 38, 39],\n",
       "       [40, 41, 42, 43, 44, 45, 46, 47, 48, 49],\n",
       "       [50, 51, 52, 53, 54, 55, 56, 57, 58, 59],\n",
       "       [60, 61, 62, 63, 64, 65, 66, 67, 68, 69],\n",
       "       [70, 71, 72, 73, 74, 75, 76, 77, 78, 79],\n",
       "       [80, 81, 82, 83, 84, 85, 86, 87, 88, 89],\n",
       "       [90, 91, 92, 93, 94, 95, 96, 97, 98, 99]])"
      ]
     },
     "execution_count": 179,
     "metadata": {},
     "output_type": "execute_result"
    }
   ],
   "source": [
    "b = np.arange((100)).reshape(10, 10)\n",
    "b = np.expand_dims(b, axis=-1)\n",
    "b = np.squeeze(b)\n",
    "b\n"
   ]
  },
  {
   "cell_type": "markdown",
   "id": "8fdf8bd3",
   "metadata": {},
   "source": [
    "### newaxis"
   ]
  },
  {
   "cell_type": "code",
   "execution_count": null,
   "id": "30b0ce6c",
   "metadata": {},
   "outputs": [
    {
     "data": {
      "text/plain": [
       "array([[[ 0,  1,  2,  3,  4,  5,  6,  7,  8,  9],\n",
       "        [10, 11, 12, 13, 14, 15, 16, 17, 18, 19],\n",
       "        [20, 21, 22, 23, 24, 25, 26, 27, 28, 29],\n",
       "        [30, 31, 32, 33, 34, 35, 36, 37, 38, 39],\n",
       "        [40, 41, 42, 43, 44, 45, 46, 47, 48, 49],\n",
       "        [50, 51, 52, 53, 54, 55, 56, 57, 58, 59],\n",
       "        [60, 61, 62, 63, 64, 65, 66, 67, 68, 69],\n",
       "        [70, 71, 72, 73, 74, 75, 76, 77, 78, 79],\n",
       "        [80, 81, 82, 83, 84, 85, 86, 87, 88, 89],\n",
       "        [90, 91, 92, 93, 94, 95, 96, 97, 98, 99]]])"
      ]
     },
     "execution_count": 183,
     "metadata": {},
     "output_type": "execute_result"
    }
   ],
   "source": [
    "a = np.arange(100).reshape((10, 10))\n",
    "b = a[np.newaxis, :]\n",
    "b"
   ]
  },
  {
   "cell_type": "markdown",
   "id": "e46a70e2",
   "metadata": {},
   "source": [
    "## Merging arrays"
   ]
  },
  {
   "cell_type": "markdown",
   "id": "8582e1d6",
   "metadata": {},
   "source": [
    "### hstack"
   ]
  },
  {
   "cell_type": "code",
   "execution_count": null,
   "id": "5879b64f",
   "metadata": {},
   "outputs": [
    {
     "data": {
      "text/plain": [
       "array([[1, 2, 5, 6],\n",
       "       [3, 4, 7, 8]])"
      ]
     },
     "execution_count": 184,
     "metadata": {},
     "output_type": "execute_result"
    }
   ],
   "source": [
    "# merges array by the 1 axis\n",
    "a = np.array(((1, 2), (3, 4)))\n",
    "b = np.array(((5, 6), (7, 8)))\n",
    "np.hstack([a, b])"
   ]
  },
  {
   "cell_type": "markdown",
   "id": "d240dd8c",
   "metadata": {},
   "source": [
    "### vstack"
   ]
  },
  {
   "cell_type": "code",
   "execution_count": null,
   "id": "fad4c1bb",
   "metadata": {},
   "outputs": [
    {
     "data": {
      "text/plain": [
       "array([[1, 2],\n",
       "       [3, 4],\n",
       "       [5, 6],\n",
       "       [7, 8]])"
      ]
     },
     "execution_count": 185,
     "metadata": {},
     "output_type": "execute_result"
    }
   ],
   "source": [
    "# merges array by the 0 axis\n",
    "a = np.array(((1, 2), (3, 4)))\n",
    "b = np.array(((5, 6), (7, 8)))\n",
    "np.vstack([a, b])"
   ]
  },
  {
   "cell_type": "markdown",
   "id": "f5019cd4",
   "metadata": {},
   "source": [
    "### column_stack"
   ]
  },
  {
   "cell_type": "code",
   "execution_count": null,
   "id": "04153d06",
   "metadata": {},
   "outputs": [
    {
     "data": {
      "text/plain": [
       "array([[1, 5],\n",
       "       [2, 6],\n",
       "       [3, 7],\n",
       "       [4, 8]])"
      ]
     },
     "execution_count": 192,
     "metadata": {},
     "output_type": "execute_result"
    }
   ],
   "source": [
    "# merges vectors as columns\n",
    "a = np.array(((1, 2, 3, 4))).reshape((-1))\n",
    "b = np.array(((5, 6, 7, 8))).reshape((-1))\n",
    "np.column_stack([a, b])"
   ]
  },
  {
   "cell_type": "markdown",
   "id": "90507d21",
   "metadata": {},
   "source": [
    "### row_stack"
   ]
  },
  {
   "cell_type": "code",
   "execution_count": null,
   "id": "16e71166",
   "metadata": {},
   "outputs": [
    {
     "data": {
      "text/plain": [
       "array([[1, 2, 3, 4],\n",
       "       [5, 6, 7, 8]])"
      ]
     },
     "execution_count": 193,
     "metadata": {},
     "output_type": "execute_result"
    }
   ],
   "source": [
    "# merges vectors as rows\n",
    "a = np.array(((1, 2, 3, 4))).reshape((-1))\n",
    "b = np.array(((5, 6, 7, 8))).reshape((-1))\n",
    "np.row_stack([a, b])"
   ]
  },
  {
   "cell_type": "markdown",
   "id": "2ddca039",
   "metadata": {},
   "source": [
    "### concatinate"
   ]
  },
  {
   "cell_type": "code",
   "execution_count": null,
   "id": "4a4cd749",
   "metadata": {},
   "outputs": [
    {
     "data": {
      "text/plain": [
       "array([[[ 1,  2],\n",
       "        [ 3,  4]],\n",
       "\n",
       "       [[ 5,  6],\n",
       "        [ 7,  8]],\n",
       "\n",
       "       [[ 9, 10],\n",
       "        [11, 12]],\n",
       "\n",
       "       [[13, 14],\n",
       "        [15, 16]],\n",
       "\n",
       "       [[17, 18],\n",
       "        [19, 20]],\n",
       "\n",
       "       [[21, 22],\n",
       "        [23, 24]]])"
      ]
     },
     "execution_count": 199,
     "metadata": {},
     "output_type": "execute_result"
    }
   ],
   "source": [
    "a = np.arange(1, 13).reshape((3, 2, 2))\n",
    "b = np.arange(13, 25).reshape((3, 2, 2))\n",
    "c0 = np.concatenate((a, b), 0)\n",
    "c1 = np.concatenate((a, b), 1)\n",
    "c2 = np.concatenate((a, b), 2)"
   ]
  },
  {
   "cell_type": "markdown",
   "id": "f1bf173b",
   "metadata": {},
   "source": [
    "### r_ and c_ objects"
   ]
  },
  {
   "cell_type": "code",
   "execution_count": null,
   "id": "2737fa20",
   "metadata": {},
   "outputs": [
    {
     "data": {
      "text/plain": [
       "array([[0, 1, 2, 3, 4],\n",
       "       [5, 6, 7, 8, 9],\n",
       "       [0, 1, 2, 3, 4],\n",
       "       [5, 6, 7, 8, 9]])"
      ]
     },
     "execution_count": 203,
     "metadata": {},
     "output_type": "execute_result"
    }
   ],
   "source": [
    "a = np.arange(10).reshape((2, 5))\n",
    "b = np.arange(10).reshape((2, 5))\n",
    "np.r_[(a, b)] # concatinates along the 0 axis"
   ]
  },
  {
   "cell_type": "code",
   "execution_count": null,
   "id": "96486689",
   "metadata": {},
   "outputs": [
    {
     "data": {
      "text/plain": [
       "array([[0, 1, 2, 3, 4, 0, 1, 2, 3, 4],\n",
       "       [5, 6, 7, 8, 9, 5, 6, 7, 8, 9]])"
      ]
     },
     "execution_count": 204,
     "metadata": {},
     "output_type": "execute_result"
    }
   ],
   "source": [
    "a = np.arange(10).reshape((2, 5))\n",
    "b = np.arange(10).reshape((2, 5))\n",
    "np.c_[(a, b)] # concatinates along the 1 axis"
   ]
  },
  {
   "cell_type": "markdown",
   "id": "6fbc1710",
   "metadata": {},
   "source": [
    "## Dividing arrays"
   ]
  },
  {
   "cell_type": "markdown",
   "id": "819f3df5",
   "metadata": {},
   "source": [
    "### hsplit"
   ]
  },
  {
   "cell_type": "code",
   "execution_count": null,
   "id": "1c30d00d",
   "metadata": {},
   "outputs": [
    {
     "data": {
      "text/plain": [
       "[array([0, 1]), array([2, 3]), array([4, 5]), array([6, 7]), array([8, 9])]"
      ]
     },
     "execution_count": 205,
     "metadata": {},
     "output_type": "execute_result"
    }
   ],
   "source": [
    "a = np.arange(10)\n",
    "np.hsplit(a, 5)"
   ]
  },
  {
   "cell_type": "code",
   "execution_count": null,
   "id": "aa521dba",
   "metadata": {},
   "outputs": [
    {
     "data": {
      "text/plain": [
       "[array([[ 0],\n",
       "        [10],\n",
       "        [20],\n",
       "        [30],\n",
       "        [40],\n",
       "        [50],\n",
       "        [60],\n",
       "        [70],\n",
       "        [80],\n",
       "        [90]]),\n",
       " array([[ 1],\n",
       "        [11],\n",
       "        [21],\n",
       "        [31],\n",
       "        [41],\n",
       "        [51],\n",
       "        [61],\n",
       "        [71],\n",
       "        [81],\n",
       "        [91]]),\n",
       " array([[ 2],\n",
       "        [12],\n",
       "        [22],\n",
       "        [32],\n",
       "        [42],\n",
       "        [52],\n",
       "        [62],\n",
       "        [72],\n",
       "        [82],\n",
       "        [92]]),\n",
       " array([[ 3],\n",
       "        [13],\n",
       "        [23],\n",
       "        [33],\n",
       "        [43],\n",
       "        [53],\n",
       "        [63],\n",
       "        [73],\n",
       "        [83],\n",
       "        [93]]),\n",
       " array([[ 4],\n",
       "        [14],\n",
       "        [24],\n",
       "        [34],\n",
       "        [44],\n",
       "        [54],\n",
       "        [64],\n",
       "        [74],\n",
       "        [84],\n",
       "        [94]]),\n",
       " array([[ 5],\n",
       "        [15],\n",
       "        [25],\n",
       "        [35],\n",
       "        [45],\n",
       "        [55],\n",
       "        [65],\n",
       "        [75],\n",
       "        [85],\n",
       "        [95]]),\n",
       " array([[ 6],\n",
       "        [16],\n",
       "        [26],\n",
       "        [36],\n",
       "        [46],\n",
       "        [56],\n",
       "        [66],\n",
       "        [76],\n",
       "        [86],\n",
       "        [96]]),\n",
       " array([[ 7],\n",
       "        [17],\n",
       "        [27],\n",
       "        [37],\n",
       "        [47],\n",
       "        [57],\n",
       "        [67],\n",
       "        [77],\n",
       "        [87],\n",
       "        [97]]),\n",
       " array([[ 8],\n",
       "        [18],\n",
       "        [28],\n",
       "        [38],\n",
       "        [48],\n",
       "        [58],\n",
       "        [68],\n",
       "        [78],\n",
       "        [88],\n",
       "        [98]]),\n",
       " array([[ 9],\n",
       "        [19],\n",
       "        [29],\n",
       "        [39],\n",
       "        [49],\n",
       "        [59],\n",
       "        [69],\n",
       "        [79],\n",
       "        [89],\n",
       "        [99]])]"
      ]
     },
     "execution_count": 208,
     "metadata": {},
     "output_type": "execute_result"
    }
   ],
   "source": [
    "a = np.arange(100).reshape((10, 10))\n",
    "np.hsplit(a, 10) # divides the horizontal axis"
   ]
  },
  {
   "cell_type": "markdown",
   "id": "fa9a3f2e",
   "metadata": {},
   "source": [
    "### vsplit"
   ]
  },
  {
   "cell_type": "code",
   "execution_count": null,
   "id": "06cd91c9",
   "metadata": {},
   "outputs": [
    {
     "data": {
      "text/plain": [
       "[array([[ 0,  1,  2,  3,  4,  5,  6,  7,  8,  9],\n",
       "        [10, 11, 12, 13, 14, 15, 16, 17, 18, 19]]),\n",
       " array([[20, 21, 22, 23, 24, 25, 26, 27, 28, 29],\n",
       "        [30, 31, 32, 33, 34, 35, 36, 37, 38, 39]]),\n",
       " array([[40, 41, 42, 43, 44, 45, 46, 47, 48, 49],\n",
       "        [50, 51, 52, 53, 54, 55, 56, 57, 58, 59]]),\n",
       " array([[60, 61, 62, 63, 64, 65, 66, 67, 68, 69],\n",
       "        [70, 71, 72, 73, 74, 75, 76, 77, 78, 79]]),\n",
       " array([[80, 81, 82, 83, 84, 85, 86, 87, 88, 89],\n",
       "        [90, 91, 92, 93, 94, 95, 96, 97, 98, 99]])]"
      ]
     },
     "execution_count": 209,
     "metadata": {},
     "output_type": "execute_result"
    }
   ],
   "source": [
    "# divides the vertical axis\n",
    "a = np.arange(100).reshape((10, 10))\n",
    "np.vsplit(a, 5)"
   ]
  },
  {
   "cell_type": "markdown",
   "id": "2c6233fa",
   "metadata": {},
   "source": [
    "### array_split"
   ]
  },
  {
   "cell_type": "code",
   "execution_count": null,
   "id": "300dcc9e",
   "metadata": {},
   "outputs": [
    {
     "data": {
      "text/plain": [
       "[array([[[  0,   1,   2,   3,   4,   5,   6,   7,   8,   9],\n",
       "         [ 10,  11,  12,  13,  14,  15,  16,  17,  18,  19]],\n",
       " \n",
       "        [[100, 101, 102, 103, 104, 105, 106, 107, 108, 109],\n",
       "         [110, 111, 112, 113, 114, 115, 116, 117, 118, 119]]]),\n",
       " array([[[ 20,  21,  22,  23,  24,  25,  26,  27,  28,  29],\n",
       "         [ 30,  31,  32,  33,  34,  35,  36,  37,  38,  39]],\n",
       " \n",
       "        [[120, 121, 122, 123, 124, 125, 126, 127, 128, 129],\n",
       "         [130, 131, 132, 133, 134, 135, 136, 137, 138, 139]]]),\n",
       " array([[[ 40,  41,  42,  43,  44,  45,  46,  47,  48,  49],\n",
       "         [ 50,  51,  52,  53,  54,  55,  56,  57,  58,  59]],\n",
       " \n",
       "        [[140, 141, 142, 143, 144, 145, 146, 147, 148, 149],\n",
       "         [150, 151, 152, 153, 154, 155, 156, 157, 158, 159]]]),\n",
       " array([[[ 60,  61,  62,  63,  64,  65,  66,  67,  68,  69],\n",
       "         [ 70,  71,  72,  73,  74,  75,  76,  77,  78,  79]],\n",
       " \n",
       "        [[160, 161, 162, 163, 164, 165, 166, 167, 168, 169],\n",
       "         [170, 171, 172, 173, 174, 175, 176, 177, 178, 179]]]),\n",
       " array([[[ 80,  81,  82,  83,  84,  85,  86,  87,  88,  89],\n",
       "         [ 90,  91,  92,  93,  94,  95,  96,  97,  98,  99]],\n",
       " \n",
       "        [[180, 181, 182, 183, 184, 185, 186, 187, 188, 189],\n",
       "         [190, 191, 192, 193, 194, 195, 196, 197, 198, 199]]])]"
      ]
     },
     "execution_count": 212,
     "metadata": {},
     "output_type": "execute_result"
    }
   ],
   "source": [
    "# divides the array into N parts by a given axis\n",
    "a = np.arange(200).reshape((2, 10, 10))\n",
    "np.array_split(a, 5, axis=1)"
   ]
  },
  {
   "cell_type": "markdown",
   "id": "15bb613a",
   "metadata": {},
   "source": [
    "## Slices and indexes"
   ]
  },
  {
   "cell_type": "code",
   "execution_count": null,
   "id": "5e37f48f",
   "metadata": {},
   "outputs": [],
   "source": [
    "matrix = np.arange(100).reshape(10, 10)"
   ]
  },
  {
   "cell_type": "code",
   "execution_count": null,
   "id": "43d7a0a7",
   "metadata": {},
   "outputs": [],
   "source": [
    "tensor = np.arange(1000).reshape(10, 10, 10)"
   ]
  },
  {
   "cell_type": "markdown",
   "id": "d5329dad",
   "metadata": {},
   "source": [
    "### multidimesional slices"
   ]
  },
  {
   "cell_type": "code",
   "execution_count": null,
   "id": "2fd9835e",
   "metadata": {},
   "outputs": [
    {
     "data": {
      "text/plain": [
       "array([[11, 12],\n",
       "       [21, 22]])"
      ]
     },
     "execution_count": 217,
     "metadata": {},
     "output_type": "execute_result"
    }
   ],
   "source": [
    "matrix[1:3, 1:3]"
   ]
  },
  {
   "cell_type": "code",
   "execution_count": null,
   "id": "93abef68",
   "metadata": {},
   "outputs": [
    {
     "data": {
      "text/plain": [
       "array([[[  0,   2,   4,   6,   8],\n",
       "        [ 20,  22,  24,  26,  28],\n",
       "        [ 40,  42,  44,  46,  48],\n",
       "        [ 60,  62,  64,  66,  68],\n",
       "        [ 80,  82,  84,  86,  88]],\n",
       "\n",
       "       [[500, 502, 504, 506, 508],\n",
       "        [520, 522, 524, 526, 528],\n",
       "        [540, 542, 544, 546, 548],\n",
       "        [560, 562, 564, 566, 568],\n",
       "        [580, 582, 584, 586, 588]]])"
      ]
     },
     "execution_count": 221,
     "metadata": {},
     "output_type": "execute_result"
    }
   ],
   "source": [
    "tensor [::5, ::2, ::2]"
   ]
  },
  {
   "cell_type": "code",
   "execution_count": null,
   "id": "d6d83368",
   "metadata": {},
   "outputs": [
    {
     "data": {
      "text/plain": [
       "True"
      ]
     },
     "execution_count": 225,
     "metadata": {},
     "output_type": "execute_result"
    }
   ],
   "source": [
    "### These are equivalent\n",
    "(tensor[..., 3] == tensor[:, :, 3])[0, 0]"
   ]
  },
  {
   "cell_type": "markdown",
   "id": "1b212ff7",
   "metadata": {},
   "source": [
    "### Boolean indexation"
   ]
  },
  {
   "cell_type": "code",
   "execution_count": null,
   "id": "d1cf8e24",
   "metadata": {},
   "outputs": [
    {
     "data": {
      "text/plain": [
       "array([0, 1, 3])"
      ]
     },
     "execution_count": 233,
     "metadata": {},
     "output_type": "execute_result"
    }
   ],
   "source": [
    "# we can pass a python list of bools or a numpy array to take only True elements \n",
    "a = np.arange(5)\n",
    "indexes = [True, True, False, True, False]\n",
    "a[indexes]"
   ]
  },
  {
   "cell_type": "code",
   "execution_count": null,
   "id": "2ff858cc",
   "metadata": {},
   "outputs": [
    {
     "data": {
      "text/plain": [
       "array([6, 7, 8, 9])"
      ]
     },
     "execution_count": 235,
     "metadata": {},
     "output_type": "execute_result"
    }
   ],
   "source": [
    "# we can form a boolean array ourselves\n",
    "a = np.arange(10)\n",
    "i = a > 5\n",
    "a[i]"
   ]
  },
  {
   "cell_type": "code",
   "execution_count": null,
   "id": "3538c098",
   "metadata": {},
   "outputs": [
    {
     "data": {
      "text/plain": [
       "array([6, 7, 8, 9])"
      ]
     },
     "execution_count": 237,
     "metadata": {},
     "output_type": "execute_result"
    }
   ],
   "source": [
    "# a shortened form, but equivalent\n",
    "a = np.arange(10)\n",
    "a[a > 5]"
   ]
  },
  {
   "cell_type": "markdown",
   "id": "99896cb8",
   "metadata": {},
   "source": [
    "### .any and .all"
   ]
  },
  {
   "cell_type": "code",
   "execution_count": null,
   "id": "30f34fe3",
   "metadata": {},
   "outputs": [
    {
     "data": {
      "text/plain": [
       "True"
      ]
     },
     "execution_count": 242,
     "metadata": {},
     "output_type": "execute_result"
    }
   ],
   "source": [
    "\n",
    "a = np.arange(10)\n",
    "np.any(a>5) # checks if at least one element of the array is true"
   ]
  },
  {
   "cell_type": "code",
   "execution_count": null,
   "id": "c039a601",
   "metadata": {},
   "outputs": [
    {
     "data": {
      "text/plain": [
       "False"
      ]
     },
     "execution_count": 243,
     "metadata": {},
     "output_type": "execute_result"
    }
   ],
   "source": [
    "\n",
    "a = np.arange(10)\n",
    "np.all(a>5) # checks if all elements of the array are true"
   ]
  },
  {
   "cell_type": "markdown",
   "id": "f75fd260",
   "metadata": {},
   "source": [
    "### List indexation"
   ]
  },
  {
   "cell_type": "code",
   "execution_count": null,
   "id": "2a5c7aed",
   "metadata": {},
   "outputs": [
    {
     "data": {
      "text/plain": [
       "array([101, 103, 104, 108])"
      ]
     },
     "metadata": {},
     "output_type": "display_data"
    }
   ],
   "source": [
    "a = np.arange(100, 110)\n",
    "b = a[[1, 3, 4, 8]]\n",
    "b # it is a copy of a, not connected to the origin"
   ]
  },
  {
   "cell_type": "code",
   "execution_count": null,
   "id": "12701820",
   "metadata": {},
   "outputs": [
    {
     "data": {
      "text/plain": [
       "array([    0, 77777,     2, 77777,     4, 77777,     6,     7,     8,\n",
       "           9])"
      ]
     },
     "metadata": {},
     "output_type": "display_data"
    }
   ],
   "source": [
    "# we can change the value of a few elements by giving their indexes as a list\n",
    "a = np.arange(10)\n",
    "a[[1, 3, 5]] = 77777\n",
    "a"
   ]
  },
  {
   "cell_type": "code",
   "execution_count": null,
   "id": "828ffb85",
   "metadata": {},
   "outputs": [
    {
     "data": {
      "text/plain": [
       "array([1, 1, 2, 2, 6, 6])"
      ]
     },
     "metadata": {},
     "output_type": "display_data"
    }
   ],
   "source": [
    "# we can pass a python list of indexes or a numpy array of indexes \n",
    "a = np.arange(10, 20)\n",
    "indexes = [1, 1, 2, 2, 6, 6]\n",
    "a[indexes]"
   ]
  },
  {
   "cell_type": "code",
   "execution_count": null,
   "id": "55b99d75",
   "metadata": {},
   "outputs": [
    {
     "data": {
      "text/plain": [
       "array([[5, 6],\n",
       "       [7, 8]])"
      ]
     },
     "metadata": {},
     "output_type": "display_data"
    }
   ],
   "source": [
    "#creating multi-dimensional arrays by list indexation os also possible\n",
    "a = np.arange(10)\n",
    "indexes = [[5, 6],[7, 8]]\n",
    "a[indexes]"
   ]
  },
  {
   "cell_type": "code",
   "execution_count": null,
   "id": "5974344a",
   "metadata": {},
   "outputs": [
    {
     "data": {
      "text/plain": [
       "array([[[10, 11, 12, 13, 14, 15, 16, 17, 18, 19],\n",
       "        [20, 21, 22, 23, 24, 25, 26, 27, 28, 29]]])"
      ]
     },
     "metadata": {},
     "output_type": "display_data"
    }
   ],
   "source": [
    "# taking exact lines of a matrix or tensor is also possible\n",
    "a = np.arange(100).reshape(10, 10)\n",
    "indexes = [[1, 2]]\n",
    "a[indexes]"
   ]
  },
  {
   "cell_type": "code",
   "execution_count": null,
   "id": "a9d75d12",
   "metadata": {},
   "outputs": [
    {
     "data": {
      "text/plain": [
       "array([12, 23])"
      ]
     },
     "execution_count": 241,
     "metadata": {},
     "output_type": "execute_result"
    }
   ],
   "source": [
    "# taking exact elements of a matrix or tensor is also possible\n",
    "a = np.arange(100).reshape(10, 10)\n",
    "lines = [1, 2] # selects 1 and 2 lines \n",
    "columns = [2, 3] # selects 3 and 2 columns\n",
    "a[lines, columns]"
   ]
  },
  {
   "cell_type": "markdown",
   "id": "f251bbef",
   "metadata": {},
   "source": [
    "## Math operations"
   ]
  },
  {
   "cell_type": "code",
   "execution_count": null,
   "id": "c6bd6c84",
   "metadata": {},
   "outputs": [
    {
     "data": {
      "text/plain": [
       "array([10, 11, 12, 13, 14])"
      ]
     },
     "execution_count": 245,
     "metadata": {},
     "output_type": "execute_result"
    }
   ],
   "source": [
    "a = np.arange(5)\n",
    "a + 10"
   ]
  },
  {
   "cell_type": "code",
   "execution_count": null,
   "id": "3c189900",
   "metadata": {},
   "outputs": [
    {
     "data": {
      "text/plain": [
       "array([ 0, 10, 20, 30, 40])"
      ]
     },
     "execution_count": 246,
     "metadata": {},
     "output_type": "execute_result"
    }
   ],
   "source": [
    "a = np.arange(5)\n",
    "a * 10"
   ]
  },
  {
   "cell_type": "code",
   "execution_count": null,
   "id": "ebabf6ac",
   "metadata": {},
   "outputs": [
    {
     "data": {
      "text/plain": [
       "array([0. , 0.1, 0.2, 0.3, 0.4])"
      ]
     },
     "execution_count": 247,
     "metadata": {},
     "output_type": "execute_result"
    }
   ],
   "source": [
    "a = np.arange(5)\n",
    "a / 10"
   ]
  },
  {
   "cell_type": "code",
   "execution_count": null,
   "id": "e3aa8ff3",
   "metadata": {},
   "outputs": [
    {
     "data": {
      "text/plain": [
       "array([0, 0, 0, 0, 0])"
      ]
     },
     "execution_count": 248,
     "metadata": {},
     "output_type": "execute_result"
    }
   ],
   "source": [
    "a = np.arange(5)\n",
    "a // 10"
   ]
  },
  {
   "cell_type": "code",
   "execution_count": null,
   "id": "4be0210d",
   "metadata": {},
   "outputs": [
    {
     "data": {
      "text/plain": [
       "array([0, 0, 0, 0, 0])"
      ]
     },
     "metadata": {},
     "output_type": "display_data"
    }
   ],
   "source": [
    "a = np.arange(5)\n",
    "a % 2"
   ]
  },
  {
   "cell_type": "code",
   "execution_count": null,
   "id": "4d0969cc",
   "metadata": {},
   "outputs": [
    {
     "data": {
      "text/plain": [
       "array([ 0,  1,  4,  9, 16])"
      ]
     },
     "execution_count": 249,
     "metadata": {},
     "output_type": "execute_result"
    }
   ],
   "source": [
    "a = np.arange(5)\n",
    "a ** 2"
   ]
  },
  {
   "cell_type": "code",
   "execution_count": 274,
   "id": "0848eed7",
   "metadata": {},
   "outputs": [
    {
     "data": {
      "text/plain": [
       "array([ 0, -1, -2, -3, -4])"
      ]
     },
     "execution_count": 274,
     "metadata": {},
     "output_type": "execute_result"
    }
   ],
   "source": [
    "a = np.arange(5)\n",
    "-a"
   ]
  },
  {
   "cell_type": "markdown",
   "id": "c73669ad",
   "metadata": {},
   "source": [
    "### Size restrictions"
   ]
  },
  {
   "cell_type": "code",
   "execution_count": 276,
   "id": "cc3c0352",
   "metadata": {},
   "outputs": [
    {
     "data": {
      "text/plain": [
       "array([[ 0,  2,  4,  6,  8],\n",
       "       [ 5,  7,  9, 11, 13]])"
      ]
     },
     "execution_count": 276,
     "metadata": {},
     "output_type": "execute_result"
    }
   ],
   "source": [
    "# a has the same row length as b, so the operation is possible\n",
    "a = np.arange(5)\n",
    "b = np.arange(10).reshape(2, 5)\n",
    "a + b"
   ]
  },
  {
   "cell_type": "markdown",
   "id": "5ef67b95",
   "metadata": {},
   "source": [
    "### array_equal"
   ]
  },
  {
   "cell_type": "code",
   "execution_count": 277,
   "id": "20496c74",
   "metadata": {},
   "outputs": [
    {
     "data": {
      "text/plain": [
       "array([False, False, False, False, False])"
      ]
     },
     "execution_count": 277,
     "metadata": {},
     "output_type": "execute_result"
    }
   ],
   "source": [
    "# regular == returns ndarray\n",
    "a = np.arange(5)\n",
    "b = np.arange(10, 15)\n",
    "a == b"
   ]
  },
  {
   "cell_type": "code",
   "execution_count": 278,
   "id": "616d227b",
   "metadata": {},
   "outputs": [
    {
     "data": {
      "text/plain": [
       "False"
      ]
     },
     "execution_count": 278,
     "metadata": {},
     "output_type": "execute_result"
    }
   ],
   "source": [
    "# array_equal returns bool\n",
    "a = np.arange(5)\n",
    "b = np.arange(10, 15)\n",
    "np.array_equal(a, b)"
   ]
  },
  {
   "cell_type": "markdown",
   "id": "5e4b112c",
   "metadata": {},
   "source": [
    "### inf and nan"
   ]
  },
  {
   "cell_type": "code",
   "execution_count": null,
   "id": "60c199eb",
   "metadata": {},
   "outputs": [
    {
     "name": "stderr",
     "output_type": "stream",
     "text": [
      "/var/folders/8g/hrr0dtn57lb04xhx37szq0k00000gn/T/ipykernel_57224/3515800213.py:2: RuntimeWarning: divide by zero encountered in divide\n",
      "  a / 0\n"
     ]
    },
    {
     "data": {
      "text/plain": [
       "array([inf])"
      ]
     },
     "execution_count": 279,
     "metadata": {},
     "output_type": "execute_result"
    }
   ],
   "source": [
    "a = np.array([1])\n",
    "a / 0\n",
    "# we get infinity as a result"
   ]
  },
  {
   "cell_type": "code",
   "execution_count": 282,
   "id": "a62e8266",
   "metadata": {},
   "outputs": [
    {
     "name": "stderr",
     "output_type": "stream",
     "text": [
      "/var/folders/8g/hrr0dtn57lb04xhx37szq0k00000gn/T/ipykernel_57224/4087425381.py:2: RuntimeWarning: invalid value encountered in multiply\n",
      "  a * 0\n"
     ]
    },
    {
     "data": {
      "text/plain": [
       "array([nan])"
      ]
     },
     "execution_count": 282,
     "metadata": {},
     "output_type": "execute_result"
    }
   ],
   "source": [
    "a = np.array([np.inf])\n",
    "a * 0\n",
    "# we get nan as a result"
   ]
  },
  {
   "cell_type": "code",
   "execution_count": 285,
   "id": "00af57d1",
   "metadata": {},
   "outputs": [
    {
     "data": {
      "text/plain": [
       "array([False,  True])"
      ]
     },
     "execution_count": 285,
     "metadata": {},
     "output_type": "execute_result"
    }
   ],
   "source": [
    "a = np.array([np.inf, np.nan])\n",
    "np.isinf(a) # looks for inf\n",
    "np.isnan(a) # looks for nan\n"
   ]
  },
  {
   "cell_type": "markdown",
   "id": "1522b501",
   "metadata": {},
   "source": [
    "## Math operations"
   ]
  },
  {
   "cell_type": "code",
   "execution_count": 286,
   "id": "83e028f8",
   "metadata": {},
   "outputs": [
    {
     "data": {
      "text/plain": [
       "10"
      ]
     },
     "execution_count": 286,
     "metadata": {},
     "output_type": "execute_result"
    }
   ],
   "source": [
    "a = np.arange(5)\n",
    "np.sum(a)"
   ]
  },
  {
   "cell_type": "code",
   "execution_count": 287,
   "id": "53fefe2a",
   "metadata": {},
   "outputs": [
    {
     "data": {
      "text/plain": [
       "4"
      ]
     },
     "execution_count": 287,
     "metadata": {},
     "output_type": "execute_result"
    }
   ],
   "source": [
    "a = np.arange(5)\n",
    "np.max(a)"
   ]
  },
  {
   "cell_type": "code",
   "execution_count": 291,
   "id": "790c291a",
   "metadata": {},
   "outputs": [
    {
     "data": {
      "text/plain": [
       "49.5"
      ]
     },
     "execution_count": 291,
     "metadata": {},
     "output_type": "execute_result"
    }
   ],
   "source": [
    "a = np.arange(100)\n",
    "np.mean(a)"
   ]
  },
  {
   "cell_type": "code",
   "execution_count": 290,
   "id": "8e83f1e6",
   "metadata": {},
   "outputs": [
    {
     "data": {
      "text/plain": [
       "array([[ 0, 10, 20, 30, 40, 50, 60, 70, 80, 90],\n",
       "       [ 1, 11, 21, 31, 41, 51, 61, 71, 81, 91],\n",
       "       [ 2, 12, 22, 32, 42, 52, 62, 72, 82, 92],\n",
       "       [ 3, 13, 23, 33, 43, 53, 63, 73, 83, 93],\n",
       "       [ 4, 14, 24, 34, 44, 54, 64, 74, 84, 94],\n",
       "       [ 5, 15, 25, 35, 45, 55, 65, 75, 85, 95],\n",
       "       [ 6, 16, 26, 36, 46, 56, 66, 76, 86, 96],\n",
       "       [ 7, 17, 27, 37, 47, 57, 67, 77, 87, 97],\n",
       "       [ 8, 18, 28, 38, 48, 58, 68, 78, 88, 98],\n",
       "       [ 9, 19, 29, 39, 49, 59, 69, 79, 89, 99]])"
      ]
     },
     "execution_count": 290,
     "metadata": {},
     "output_type": "execute_result"
    }
   ],
   "source": [
    "a = np.arange(100).reshape(10, 10)\n",
    "a.T"
   ]
  },
  {
   "cell_type": "code",
   "execution_count": 292,
   "id": "6819e20f",
   "metadata": {},
   "outputs": [
    {
     "data": {
      "text/plain": [
       "array([ 9, 19, 29, 39, 49, 59, 69, 79, 89, 99])"
      ]
     },
     "execution_count": 292,
     "metadata": {},
     "output_type": "execute_result"
    }
   ],
   "source": [
    "a = np.arange(100).reshape(10, 10)\n",
    "a.max(axis=1)"
   ]
  },
  {
   "cell_type": "code",
   "execution_count": 297,
   "id": "1a5de885",
   "metadata": {},
   "outputs": [
    {
     "data": {
      "text/plain": [
       "array([[100,  99,  98,  97,  96,  95,  94,  93,  92,  91],\n",
       "       [ 90,  89,  88,  87,  86,  85,  84,  83,  82,  81],\n",
       "       [ 80,  79,  78,  77,  76,  75,  74,  73,  72,  71],\n",
       "       [ 70,  69,  68,  67,  66,  65,  64,  63,  62,  61],\n",
       "       [ 60,  59,  58,  57,  56,  55,  54,  53,  52,  51],\n",
       "       [ 50,  49,  48,  47,  46,  45,  44,  43,  42,  41],\n",
       "       [ 40,  39,  38,  37,  36,  35,  34,  33,  32,  31],\n",
       "       [ 30,  29,  28,  27,  26,  25,  24,  23,  22,  21],\n",
       "       [ 20,  19,  18,  17,  16,  15,  14,  13,  12,  11],\n",
       "       [ 10,   9,   8,   7,   6,   5,   4,   3,   2,   1]])"
      ]
     },
     "execution_count": 297,
     "metadata": {},
     "output_type": "execute_result"
    }
   ],
   "source": [
    "a = np.arange(-100, 0).reshape(10, 10)\n",
    "np.abs(a)"
   ]
  },
  {
   "cell_type": "code",
   "execution_count": null,
   "id": "e54f7cf6",
   "metadata": {},
   "outputs": [
    {
     "data": {
      "text/plain": [
       "5"
      ]
     },
     "execution_count": 298,
     "metadata": {},
     "output_type": "execute_result"
    }
   ],
   "source": [
    "a = np.array([2, 4, 1, 33, 23, 87])\n",
    "np.argmax(a)\n",
    "# returns the index of max element"
   ]
  },
  {
   "cell_type": "markdown",
   "id": "cbf62151",
   "metadata": {},
   "source": [
    "### Random"
   ]
  },
  {
   "cell_type": "code",
   "execution_count": 342,
   "id": "b02a838d",
   "metadata": {},
   "outputs": [
    {
     "data": {
      "text/plain": [
       "array([[0.79785133, 0.84075511, 0.93288376],\n",
       "       [0.70417431, 0.82119964, 0.73084678]])"
      ]
     },
     "execution_count": 342,
     "metadata": {},
     "output_type": "execute_result"
    }
   ],
   "source": [
    "a = np.array([2, 4, 1, 33, 23, 87])\n",
    "np.random.rand(2, 3)\n",
    "# random float from [0, 1)"
   ]
  },
  {
   "cell_type": "code",
   "execution_count": 341,
   "id": "355bdd20",
   "metadata": {},
   "outputs": [
    {
     "data": {
      "text/plain": [
       "7"
      ]
     },
     "execution_count": 341,
     "metadata": {},
     "output_type": "execute_result"
    }
   ],
   "source": [
    "a = np.array([2, 4, 1, 33, 23, 87])\n",
    "np.random.randint(1, 10)\n",
    "# random int from [1, 10]"
   ]
  },
  {
   "cell_type": "code",
   "execution_count": 344,
   "id": "e9ceac35",
   "metadata": {},
   "outputs": [
    {
     "data": {
      "text/plain": [
       "array([6, 4, 7, 3, 5, 0, 8, 2, 1, 9])"
      ]
     },
     "execution_count": 344,
     "metadata": {},
     "output_type": "execute_result"
    }
   ],
   "source": [
    "a = np.arange(10)\n",
    "np.random.shuffle(a)\n",
    "a"
   ]
  },
  {
   "cell_type": "code",
   "execution_count": null,
   "id": "7a6e8fdf",
   "metadata": {},
   "outputs": [
    {
     "data": {
      "text/plain": [
       "array([6, 4, 7, 3, 5, 0, 8, 2, 1, 9])"
      ]
     },
     "metadata": {},
     "output_type": "display_data"
    }
   ],
   "source": [
    "a = np.arange(10)\n",
    "np.random.shuffle(a)\n",
    "a"
   ]
  },
  {
   "cell_type": "code",
   "execution_count": 345,
   "id": "7d11a867",
   "metadata": {},
   "outputs": [
    {
     "data": {
      "text/plain": [
       "array([7, 1, 9, 2, 8, 4, 0, 3, 6, 5])"
      ]
     },
     "execution_count": 345,
     "metadata": {},
     "output_type": "execute_result"
    }
   ],
   "source": [
    "np.random.permutation(10)\n"
   ]
  },
  {
   "cell_type": "markdown",
   "id": "d55d45c4",
   "metadata": {},
   "source": [
    "### Statistics"
   ]
  },
  {
   "cell_type": "code",
   "execution_count": null,
   "id": "ebd537fb",
   "metadata": {},
   "outputs": [],
   "source": [
    "x = np.random.permutation(100)\n",
    "y = np.random.permutation(100)"
   ]
  },
  {
   "cell_type": "code",
   "execution_count": 346,
   "id": "cf59a6f5",
   "metadata": {},
   "outputs": [
    {
     "data": {
      "text/plain": [
       "49.5"
      ]
     },
     "execution_count": 346,
     "metadata": {},
     "output_type": "execute_result"
    }
   ],
   "source": [
    "x = np.random.permutation(100)\n",
    "np.median(x)"
   ]
  },
  {
   "cell_type": "code",
   "execution_count": 347,
   "id": "876c2821",
   "metadata": {},
   "outputs": [
    {
     "data": {
      "text/plain": [
       "833.25"
      ]
     },
     "execution_count": 347,
     "metadata": {},
     "output_type": "execute_result"
    }
   ],
   "source": [
    "x = np.random.permutation(100)\n",
    "np.var(x)"
   ]
  },
  {
   "cell_type": "code",
   "execution_count": 348,
   "id": "4b435c60",
   "metadata": {},
   "outputs": [
    {
     "data": {
      "text/plain": [
       "28.86607004772212"
      ]
     },
     "execution_count": 348,
     "metadata": {},
     "output_type": "execute_result"
    }
   ],
   "source": [
    "x = np.random.permutation(100)\n",
    "np.std(x)"
   ]
  },
  {
   "cell_type": "code",
   "execution_count": null,
   "id": "002cd1e9",
   "metadata": {},
   "outputs": [
    {
     "data": {
      "text/plain": [
       "array([[ 1.        , -0.11563156],\n",
       "       [-0.11563156,  1.        ]])"
      ]
     },
     "execution_count": 352,
     "metadata": {},
     "output_type": "execute_result"
    }
   ],
   "source": [
    "x = np.random.permutation(100)\n",
    "y = np.random.permutation(100)\n",
    "xy = np.vstack((x, y))\n",
    "np.corrcoef(xy)"
   ]
  },
  {
   "cell_type": "code",
   "execution_count": 353,
   "id": "d4b093a2",
   "metadata": {},
   "outputs": [
    {
     "data": {
      "text/plain": [
       "array([[841.66666667,  75.32323232],\n",
       "       [ 75.32323232, 841.66666667]])"
      ]
     },
     "execution_count": 353,
     "metadata": {},
     "output_type": "execute_result"
    }
   ],
   "source": [
    "x = np.random.permutation(100)\n",
    "y = np.random.permutation(100)\n",
    "xy = np.vstack((x, y))\n",
    "np.cov(xy)"
   ]
  },
  {
   "cell_type": "code",
   "execution_count": 355,
   "id": "b677c41c",
   "metadata": {},
   "outputs": [
    {
     "data": {
      "text/plain": [
       "array([255157])"
      ]
     },
     "execution_count": 355,
     "metadata": {},
     "output_type": "execute_result"
    }
   ],
   "source": [
    "x = np.random.permutation(100)\n",
    "y = np.random.permutation(100)\n",
    "np.correlate(x, y)"
   ]
  },
  {
   "cell_type": "markdown",
   "id": "5f97934f",
   "metadata": {},
   "source": [
    "## Linear algebra"
   ]
  },
  {
   "cell_type": "markdown",
   "id": "cd5ad574",
   "metadata": {},
   "source": [
    "### Transponate"
   ]
  },
  {
   "cell_type": "code",
   "execution_count": 357,
   "id": "aa534f46",
   "metadata": {},
   "outputs": [
    {
     "data": {
      "text/plain": [
       "array([[ 0, 10, 20, 30, 40, 50, 60, 70, 80, 90],\n",
       "       [ 1, 11, 21, 31, 41, 51, 61, 71, 81, 91],\n",
       "       [ 2, 12, 22, 32, 42, 52, 62, 72, 82, 92],\n",
       "       [ 3, 13, 23, 33, 43, 53, 63, 73, 83, 93],\n",
       "       [ 4, 14, 24, 34, 44, 54, 64, 74, 84, 94],\n",
       "       [ 5, 15, 25, 35, 45, 55, 65, 75, 85, 95],\n",
       "       [ 6, 16, 26, 36, 46, 56, 66, 76, 86, 96],\n",
       "       [ 7, 17, 27, 37, 47, 57, 67, 77, 87, 97],\n",
       "       [ 8, 18, 28, 38, 48, 58, 68, 78, 88, 98],\n",
       "       [ 9, 19, 29, 39, 49, 59, 69, 79, 89, 99]])"
      ]
     },
     "execution_count": 357,
     "metadata": {},
     "output_type": "execute_result"
    }
   ],
   "source": [
    "a = np.arange(100).reshape(10, 10).T\n",
    "a"
   ]
  },
  {
   "cell_type": "markdown",
   "id": "df8e3de7",
   "metadata": {},
   "source": [
    "### Matrix multiplition"
   ]
  },
  {
   "cell_type": "code",
   "execution_count": 359,
   "id": "cd1434cd",
   "metadata": {},
   "outputs": [
    {
     "data": {
      "text/plain": [
       "array([[  7350,   7395,   7440,   7485,   7530,   7575,   7620,   7665,\n",
       "          7710,   7755],\n",
       "       [ 21850,  21995,  22140,  22285,  22430,  22575,  22720,  22865,\n",
       "         23010,  23155],\n",
       "       [ 36350,  36595,  36840,  37085,  37330,  37575,  37820,  38065,\n",
       "         38310,  38555],\n",
       "       [ 50850,  51195,  51540,  51885,  52230,  52575,  52920,  53265,\n",
       "         53610,  53955],\n",
       "       [ 65350,  65795,  66240,  66685,  67130,  67575,  68020,  68465,\n",
       "         68910,  69355],\n",
       "       [ 79850,  80395,  80940,  81485,  82030,  82575,  83120,  83665,\n",
       "         84210,  84755],\n",
       "       [ 94350,  94995,  95640,  96285,  96930,  97575,  98220,  98865,\n",
       "         99510, 100155],\n",
       "       [108850, 109595, 110340, 111085, 111830, 112575, 113320, 114065,\n",
       "        114810, 115555],\n",
       "       [123350, 124195, 125040, 125885, 126730, 127575, 128420, 129265,\n",
       "        130110, 130955],\n",
       "       [137850, 138795, 139740, 140685, 141630, 142575, 143520, 144465,\n",
       "        145410, 146355]])"
      ]
     },
     "execution_count": 359,
     "metadata": {},
     "output_type": "execute_result"
    }
   ],
   "source": [
    "a = np.arange(100).reshape(10, 10)\n",
    "b = np.arange(100, 200).reshape(10, 10)\n",
    "np.dot(a, b) # can also be used for scalar multiplition between vectors calculation"
   ]
  },
  {
   "cell_type": "code",
   "execution_count": 360,
   "id": "62f6ac62",
   "metadata": {},
   "outputs": [
    {
     "data": {
      "text/plain": [
       "array([[  7350,   7395,   7440,   7485,   7530,   7575,   7620,   7665,\n",
       "          7710,   7755],\n",
       "       [ 21850,  21995,  22140,  22285,  22430,  22575,  22720,  22865,\n",
       "         23010,  23155],\n",
       "       [ 36350,  36595,  36840,  37085,  37330,  37575,  37820,  38065,\n",
       "         38310,  38555],\n",
       "       [ 50850,  51195,  51540,  51885,  52230,  52575,  52920,  53265,\n",
       "         53610,  53955],\n",
       "       [ 65350,  65795,  66240,  66685,  67130,  67575,  68020,  68465,\n",
       "         68910,  69355],\n",
       "       [ 79850,  80395,  80940,  81485,  82030,  82575,  83120,  83665,\n",
       "         84210,  84755],\n",
       "       [ 94350,  94995,  95640,  96285,  96930,  97575,  98220,  98865,\n",
       "         99510, 100155],\n",
       "       [108850, 109595, 110340, 111085, 111830, 112575, 113320, 114065,\n",
       "        114810, 115555],\n",
       "       [123350, 124195, 125040, 125885, 126730, 127575, 128420, 129265,\n",
       "        130110, 130955],\n",
       "       [137850, 138795, 139740, 140685, 141630, 142575, 143520, 144465,\n",
       "        145410, 146355]])"
      ]
     },
     "execution_count": 360,
     "metadata": {},
     "output_type": "execute_result"
    }
   ],
   "source": [
    "a = np.arange(100).reshape(10, 10)\n",
    "b = np.arange(100, 200).reshape(10, 10)\n",
    "a @ b # the same result"
   ]
  },
  {
   "cell_type": "markdown",
   "id": "960f333f",
   "metadata": {},
   "source": [
    "### Linalg module"
   ]
  },
  {
   "cell_type": "code",
   "execution_count": null,
   "id": "c859840a",
   "metadata": {},
   "outputs": [
    {
     "data": {
      "text/plain": [
       "array([[ 1,  2,  3],\n",
       "       [ 1,  4,  9],\n",
       "       [ 1,  8, 27]])"
      ]
     },
     "execution_count": 363,
     "metadata": {},
     "output_type": "execute_result"
    }
   ],
   "source": [
    "a = np.array([1, 2, 3, 1, 4, 9, 1, 8, 27]).reshape((3, 3))"
   ]
  },
  {
   "cell_type": "markdown",
   "id": "8b67033c",
   "metadata": {},
   "source": [
    "### matrix rank"
   ]
  },
  {
   "cell_type": "code",
   "execution_count": null,
   "id": "236ced44",
   "metadata": {},
   "outputs": [
    {
     "data": {
      "text/plain": [
       "3"
      ]
     },
     "execution_count": 364,
     "metadata": {},
     "output_type": "execute_result"
    }
   ],
   "source": [
    "np.linalg.matrix_rank(a) # gets the rank of a mattrix"
   ]
  },
  {
   "cell_type": "markdown",
   "id": "45e5ca16",
   "metadata": {},
   "source": [
    "### linear equasions system"
   ]
  },
  {
   "cell_type": "code",
   "execution_count": 365,
   "id": "2044070e",
   "metadata": {},
   "outputs": [
    {
     "data": {
      "text/plain": [
       "array([-5.        , 10.        , -1.66666667])"
      ]
     },
     "execution_count": 365,
     "metadata": {},
     "output_type": "execute_result"
    }
   ],
   "source": [
    "a = np.array([1, 2, 3, 1, 4, 9, 1, 8, 27]).reshape((3, 3))\n",
    "y = np.array((10, 20, 30))\n",
    "np.linalg.solve(a, y)"
   ]
  },
  {
   "cell_type": "markdown",
   "id": "d36af2ec",
   "metadata": {},
   "source": [
    "### reverse matrix"
   ]
  },
  {
   "cell_type": "code",
   "execution_count": 366,
   "id": "f8e26e94",
   "metadata": {},
   "outputs": [
    {
     "data": {
      "text/plain": [
       "array([[ 3.        , -2.5       ,  0.5       ],\n",
       "       [-1.5       ,  2.        , -0.5       ],\n",
       "       [ 0.33333333, -0.5       ,  0.16666667]])"
      ]
     },
     "execution_count": 366,
     "metadata": {},
     "output_type": "execute_result"
    }
   ],
   "source": [
    "a = np.array([1, 2, 3, 1, 4, 9, 1, 8, 27]).reshape((3, 3))\n",
    "np.linalg.inv(a)"
   ]
  },
  {
   "cell_type": "markdown",
   "id": "b16b4254",
   "metadata": {},
   "source": [
    "## Numpy sets"
   ]
  },
  {
   "cell_type": "code",
   "execution_count": 367,
   "id": "b61f0d35",
   "metadata": {},
   "outputs": [
    {
     "data": {
      "text/plain": [
       "array([ 1,  2,  3,  4,  6, 66, 77])"
      ]
     },
     "execution_count": 367,
     "metadata": {},
     "output_type": "execute_result"
    }
   ],
   "source": [
    "x = np.array((1, 2, 6, 3, 2, 77, 1, 66, 4, 3))\n",
    "np.unique(x)"
   ]
  },
  {
   "cell_type": "code",
   "execution_count": 368,
   "id": "2592d3a9",
   "metadata": {},
   "outputs": [
    {
     "data": {
      "text/plain": [
       "(array([ 1,  2,  3,  4,  6, 66, 77]), array([2, 2, 2, 1, 1, 1, 1]))"
      ]
     },
     "execution_count": 368,
     "metadata": {},
     "output_type": "execute_result"
    }
   ],
   "source": [
    "# return counts also returns the number of reps\n",
    "x = np.array((1, 2, 6, 3, 2, 77, 1, 66, 4, 3))\n",
    "np.unique(x, return_counts=True)"
   ]
  },
  {
   "cell_type": "code",
   "execution_count": null,
   "id": "809e5e01",
   "metadata": {},
   "outputs": [
    {
     "data": {
      "text/plain": [
       "(array([ 1,  2,  3,  4,  6, 66, 77]), array([0, 1, 3, 8, 2, 7, 5]))"
      ]
     },
     "execution_count": 369,
     "metadata": {},
     "output_type": "execute_result"
    }
   ],
   "source": [
    "# return indexes of the first apperance in the array\n",
    "x = np.array((1, 2, 6, 3, 2, 77, 1, 66, 4, 3))\n",
    "np.unique(x, return_index=True)"
   ]
  },
  {
   "cell_type": "code",
   "execution_count": 370,
   "id": "806887ea",
   "metadata": {},
   "outputs": [
    {
     "data": {
      "text/plain": [
       "(array([ 1,  2,  3,  4,  6, 66, 77]), array([0, 1, 4, 2, 1, 6, 0, 5, 3, 2]))"
      ]
     },
     "execution_count": 370,
     "metadata": {},
     "output_type": "execute_result"
    }
   ],
   "source": [
    "# return indexes all elements in corresponding order\n",
    "x = np.array((1, 2, 6, 3, 2, 77, 1, 66, 4, 3))\n",
    "np.unique(x, return_inverse=True)"
   ]
  },
  {
   "cell_type": "code",
   "execution_count": 372,
   "id": "9015e758",
   "metadata": {},
   "outputs": [
    {
     "data": {
      "text/plain": [
       "array([[1, 2, 3],\n",
       "       [4, 5, 6]])"
      ]
     },
     "execution_count": 372,
     "metadata": {},
     "output_type": "execute_result"
    }
   ],
   "source": [
    "# return only unique rows\n",
    "x = np.array((1, 2, 3, 1, 2, 3, 4, 5, 6)).reshape(3, 3)\n",
    "np.unique(x, axis=0)"
   ]
  },
  {
   "cell_type": "markdown",
   "id": "47bfa0e8",
   "metadata": {},
   "source": [
    "### in1d"
   ]
  },
  {
   "cell_type": "code",
   "execution_count": null,
   "id": "8e18449b",
   "metadata": {},
   "outputs": [
    {
     "data": {
      "text/plain": [
       "array([ True,  True,  True,  True,  True])"
      ]
     },
     "execution_count": 373,
     "metadata": {},
     "output_type": "execute_result"
    }
   ],
   "source": [
    "x = np.arange(5)\n",
    "y = np.arange(10)\n",
    "np.in1d(x, y) # checks if the elem from x is present in y"
   ]
  },
  {
   "cell_type": "markdown",
   "id": "a1c35442",
   "metadata": {},
   "source": [
    "### intersect1d"
   ]
  },
  {
   "cell_type": "code",
   "execution_count": 374,
   "id": "eee90e35",
   "metadata": {},
   "outputs": [
    {
     "data": {
      "text/plain": [
       "array([0, 1, 2, 3, 4])"
      ]
     },
     "execution_count": 374,
     "metadata": {},
     "output_type": "execute_result"
    }
   ],
   "source": [
    "x = np.arange(5)\n",
    "y = np.arange(10)\n",
    "np.intersect1d(x, y) # intersects x and y sets"
   ]
  },
  {
   "cell_type": "markdown",
   "id": "59316abb",
   "metadata": {},
   "source": [
    "### setdiff1d"
   ]
  },
  {
   "cell_type": "code",
   "execution_count": null,
   "id": "aac3e750",
   "metadata": {},
   "outputs": [
    {
     "data": {
      "text/plain": [
       "array([0, 1, 2, 3, 4])"
      ]
     },
     "metadata": {},
     "output_type": "display_data"
    }
   ],
   "source": [
    "x = np.arange(5)\n",
    "y = np.arange(10)\n",
    "np.setdiff1d(x, y) # substracts y from x"
   ]
  },
  {
   "cell_type": "markdown",
   "id": "bf3c7003",
   "metadata": {},
   "source": [
    "### union1d"
   ]
  },
  {
   "cell_type": "code",
   "execution_count": 375,
   "id": "30999d04",
   "metadata": {},
   "outputs": [
    {
     "data": {
      "text/plain": [
       "array([0, 1, 2, 3, 4, 5, 6, 7, 8, 9])"
      ]
     },
     "execution_count": 375,
     "metadata": {},
     "output_type": "execute_result"
    }
   ],
   "source": [
    "x = np.arange(5)\n",
    "y = np.arange(10)\n",
    "np.union1d(x, y) # unites the sets"
   ]
  },
  {
   "cell_type": "markdown",
   "id": "ab5ac410",
   "metadata": {},
   "source": [
    "### setxor1d"
   ]
  },
  {
   "cell_type": "code",
   "execution_count": 376,
   "id": "88b1af01",
   "metadata": {},
   "outputs": [
    {
     "data": {
      "text/plain": [
       "array([5, 6, 7, 8, 9])"
      ]
     },
     "execution_count": 376,
     "metadata": {},
     "output_type": "execute_result"
    }
   ],
   "source": [
    "x = np.arange(5)\n",
    "y = np.arange(10)\n",
    "np.setxor1d(x, y) # xor between x and y"
   ]
  },
  {
   "cell_type": "markdown",
   "id": "957e88a7",
   "metadata": {},
   "source": [
    "## Translating arrays"
   ]
  },
  {
   "cell_type": "code",
   "execution_count": null,
   "id": "07e4dfca",
   "metadata": {},
   "outputs": [
    {
     "data": {
      "text/plain": [
       "array([  0,  10,  20,  30,  40,  50,  60,  70,  80,  90, 100, 110, 120,\n",
       "       130, 140, 150, 160, 170, 180, 190, 200, 210, 220, 230, 240, 250,\n",
       "       260, 270, 280, 290, 300, 310, 320, 330, 340, 350, 360, 370, 380,\n",
       "       390, 400, 410, 420, 430, 440, 450, 460, 470, 480, 490, 500, 510,\n",
       "       520, 530, 540, 550, 560, 570, 580, 590, 600, 610, 620, 630, 640,\n",
       "       650, 660, 670, 680, 690, 700, 710, 720, 730, 740, 750, 760, 770,\n",
       "       780, 790, 800, 810, 820, 830, 840, 850, 860, 870, 880, 890, 900,\n",
       "       910, 920, 930, 940, 950, 960, 970, 980, 990])"
      ]
     },
     "execution_count": 382,
     "metadata": {},
     "output_type": "execute_result"
    }
   ],
   "source": [
    "# 0-dimentional translation\n",
    "x = np.array([10])\n",
    "y = np.arange(100)\n",
    "x * y"
   ]
  },
  {
   "cell_type": "code",
   "execution_count": null,
   "id": "0bf7a7e5",
   "metadata": {},
   "outputs": [
    {
     "data": {
      "text/plain": [
       "array([[0. , 0.1, 0.2, 0.3, 0.4, 0.5, 0.6, 0.7, 0.8, 0.9],\n",
       "       [1. , 1.1, 1.2, 1.3, 1.4, 1.5, 1.6, 1.7, 1.8, 1.9],\n",
       "       [2. , 2.1, 2.2, 2.3, 2.4, 2.5, 2.6, 2.7, 2.8, 2.9],\n",
       "       [3. , 3.1, 3.2, 3.3, 3.4, 3.5, 3.6, 3.7, 3.8, 3.9],\n",
       "       [4. , 4.1, 4.2, 4.3, 4.4, 4.5, 4.6, 4.7, 4.8, 4.9],\n",
       "       [5. , 5.1, 5.2, 5.3, 5.4, 5.5, 5.6, 5.7, 5.8, 5.9],\n",
       "       [6. , 6.1, 6.2, 6.3, 6.4, 6.5, 6.6, 6.7, 6.8, 6.9],\n",
       "       [7. , 7.1, 7.2, 7.3, 7.4, 7.5, 7.6, 7.7, 7.8, 7.9],\n",
       "       [8. , 8.1, 8.2, 8.3, 8.4, 8.5, 8.6, 8.7, 8.8, 8.9],\n",
       "       [9. , 9.1, 9.2, 9.3, 9.4, 9.5, 9.6, 9.7, 9.8, 9.9]])"
      ]
     },
     "execution_count": 383,
     "metadata": {},
     "output_type": "execute_result"
    }
   ],
   "source": [
    "# 0-dimentional translation\n",
    "x = np.array(10)\n",
    "y = np.arange(100).reshape(10, 10)\n",
    "y / x\n",
    "# an axis was added to x, and x was translated downwards"
   ]
  },
  {
   "cell_type": "markdown",
   "id": "58fb4339",
   "metadata": {},
   "source": [
    "## Sorting"
   ]
  },
  {
   "cell_type": "code",
   "execution_count": null,
   "id": "0696d41b",
   "metadata": {},
   "outputs": [],
   "source": [
    "a = np.arange(100).reshape(10, 10)\n",
    "np.sort(a, axis=-1, kind=None, order=None)"
   ]
  },
  {
   "cell_type": "markdown",
   "id": "f38a93dc",
   "metadata": {},
   "source": [
    "axis: Опциональный параметр, указывающий ось, по которой нужно провести сортировку. По умолчанию -1, что означает сортировку по последней оси."
   ]
  },
  {
   "cell_type": "markdown",
   "id": "ce3f2e59",
   "metadata": {},
   "source": [
    "kind: Опциональный параметр, определяющий алгоритм сортировки. Может принимать значения 'quicksort', 'mergesort', 'heapsort' или None. По умолчанию используется 'quicksort'."
   ]
  },
  {
   "cell_type": "markdown",
   "id": "8c68184d",
   "metadata": {},
   "source": [
    "order: Опциональный параметр, применяется при сортировке структурированных массивов. Может содержать названия полей и направления сортировки для каждого поля."
   ]
  },
  {
   "cell_type": "code",
   "execution_count": 393,
   "id": "9de501a0",
   "metadata": {},
   "outputs": [
    {
     "data": {
      "text/plain": [
       "array([[10, 11, 12, 13, 14, 15, 16, 17, 18, 19],\n",
       "       [20, 21, 22, 23, 24, 25, 26, 27, 28, 29],\n",
       "       [30, 31, 32, 33, 34, 35, 36, 37, 38, 39],\n",
       "       [40, 41, 42, 43, 44, 45, 46, 47, 48, 49],\n",
       "       [50, 51, 52, 53, 54, 55, 56, 57, 58, 59],\n",
       "       [60, 61, 62, 63, 64, 65, 66, 67, 68, 69],\n",
       "       [70, 71, 72, 73, 74, 75, 76, 77, 78, 79],\n",
       "       [80, 81, 82, 83, 84, 85, 86, 87, 88, 89],\n",
       "       [90, 91, 92, 93, 94, 95, 96, 97, 98, 99]])"
      ]
     },
     "execution_count": 393,
     "metadata": {},
     "output_type": "execute_result"
    }
   ],
   "source": [
    "a = np.arange(100).reshape(10, 10)\n",
    "np.delete(a, [0], axis=0)"
   ]
  }
 ],
 "metadata": {
  "kernelspec": {
   "display_name": "base",
   "language": "python",
   "name": "python3"
  },
  "language_info": {
   "codemirror_mode": {
    "name": "ipython",
    "version": 3
   },
   "file_extension": ".py",
   "mimetype": "text/x-python",
   "name": "python",
   "nbconvert_exporter": "python",
   "pygments_lexer": "ipython3",
   "version": "3.12.7"
  }
 },
 "nbformat": 4,
 "nbformat_minor": 5
}
