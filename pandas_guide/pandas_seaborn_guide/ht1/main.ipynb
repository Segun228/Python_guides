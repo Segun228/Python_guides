{
 "cells": [
  {
   "cell_type": "code",
   "execution_count": null,
   "id": "6b2f152e",
   "metadata": {},
   "outputs": [
    {
     "data": {
      "text/plain": [
       "(44, 7)"
      ]
     },
     "execution_count": 4,
     "metadata": {},
     "output_type": "execute_result"
    }
   ],
   "source": [
    "import pandas as pd\n",
    "\n",
    "df = pd.read_csv(\n",
    "    filepath_or_buffer=\"https://drive.google.com/uc?export=download&id=1HIjPFp64E3uR_RxMFUJRXodmKCbOESIY\",\n",
    "    delimiter=\";\"\n",
    ")"
   ]
  },
  {
   "cell_type": "code",
   "execution_count": 20,
   "id": "22b18ec8",
   "metadata": {},
   "outputs": [
    {
     "name": "stdout",
     "output_type": "stream",
     "text": [
      "<class 'pandas.core.frame.DataFrame'>\n",
      "RangeIndex: 44 entries, 0 to 43\n",
      "Data columns (total 7 columns):\n",
      " #   Column      Non-Null Count  Dtype  \n",
      "---  ------      --------------  -----  \n",
      " 0   Name        44 non-null     object \n",
      " 1   Gender      27 non-null     object \n",
      " 2   Age         39 non-null     float64\n",
      " 3   Wage        33 non-null     float64\n",
      " 4   Occupation  30 non-null     object \n",
      " 5   City        34 non-null     object \n",
      " 6   Experience  35 non-null     float64\n",
      "dtypes: float64(3), object(4)\n",
      "memory usage: 2.5+ KB\n"
     ]
    },
    {
     "data": {
      "text/plain": [
       "np.float64(0.21428571428571427)"
      ]
     },
     "execution_count": 20,
     "metadata": {},
     "output_type": "execute_result"
    }
   ],
   "source": [
    "df.size\n",
    "df.shape\n",
    "df.info()\n",
    "df.describe()\n",
    "df.isnull().sum().sum() / df.size\n",
    "\n"
   ]
  }
 ],
 "metadata": {
  "kernelspec": {
   "display_name": "venv",
   "language": "python",
   "name": "python3"
  },
  "language_info": {
   "codemirror_mode": {
    "name": "ipython",
    "version": 3
   },
   "file_extension": ".py",
   "mimetype": "text/x-python",
   "name": "python",
   "nbconvert_exporter": "python",
   "pygments_lexer": "ipython3",
   "version": "3.12.7"
  }
 },
 "nbformat": 4,
 "nbformat_minor": 5
}
