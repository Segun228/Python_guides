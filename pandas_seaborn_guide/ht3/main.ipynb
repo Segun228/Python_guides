{
 "cells": [
  {
   "cell_type": "code",
   "execution_count": 5,
   "id": "d6bfb2b1",
   "metadata": {},
   "outputs": [
    {
     "data": {
      "text/plain": [
       "hour\n",
       "12    13\n",
       "9     12\n",
       "10    11\n",
       "16    10\n",
       "14     9\n",
       "11     9\n",
       "13     9\n",
       "15     9\n",
       "17     4\n",
       "Name: count, dtype: int64"
      ]
     },
     "execution_count": 5,
     "metadata": {},
     "output_type": "execute_result"
    }
   ],
   "source": [
    "import pandas as pd\n",
    "df = pd.read_csv(\n",
    "    filepath_or_buffer=\"data.csv\",\n",
    "    delimiter=\";\"\n",
    ")\n",
    "df[\"hour\"] = pd.to_datetime(df[\"Time of deal\"]).dt.hour\n",
    "df[\"hour\"].value_counts()"
   ]
  },
  {
   "cell_type": "code",
   "execution_count": 6,
   "id": "527117a9",
   "metadata": {},
   "outputs": [
    {
     "data": {
      "text/plain": [
       "count     86.00000\n",
       "mean     254.18314\n",
       "std       80.43214\n",
       "min      140.25000\n",
       "25%      185.36250\n",
       "50%      237.60000\n",
       "75%      310.36250\n",
       "max      450.30000\n",
       "Name: Price, dtype: float64"
      ]
     },
     "execution_count": 6,
     "metadata": {},
     "output_type": "execute_result"
    }
   ],
   "source": [
    "df[\"Price\"].describe()"
   ]
  },
  {
   "cell_type": "code",
   "execution_count": null,
   "id": "0c972ff2",
   "metadata": {},
   "outputs": [
    {
     "data": {
      "text/html": [
       "<div>\n",
       "<style scoped>\n",
       "    .dataframe tbody tr th:only-of-type {\n",
       "        vertical-align: middle;\n",
       "    }\n",
       "\n",
       "    .dataframe tbody tr th {\n",
       "        vertical-align: top;\n",
       "    }\n",
       "\n",
       "    .dataframe thead th {\n",
       "        text-align: right;\n",
       "    }\n",
       "</style>\n",
       "<table border=\"1\" class=\"dataframe\">\n",
       "  <thead>\n",
       "    <tr style=\"text-align: right;\">\n",
       "      <th></th>\n",
       "      <th>Agent Name</th>\n",
       "      <th>Agent age</th>\n",
       "      <th>Time of deal</th>\n",
       "      <th>Price</th>\n",
       "      <th>hour</th>\n",
       "    </tr>\n",
       "  </thead>\n",
       "  <tbody>\n",
       "    <tr>\n",
       "      <th>6</th>\n",
       "      <td>Daniel Evans</td>\n",
       "      <td>60</td>\n",
       "      <td>2024-10-30 13:45</td>\n",
       "      <td>340.90</td>\n",
       "      <td>13</td>\n",
       "    </tr>\n",
       "    <tr>\n",
       "      <th>15</th>\n",
       "      <td>Benjamin Green</td>\n",
       "      <td>58</td>\n",
       "      <td>2024-10-30 16:35</td>\n",
       "      <td>450.30</td>\n",
       "      <td>16</td>\n",
       "    </tr>\n",
       "    <tr>\n",
       "      <th>18</th>\n",
       "      <td>Jack Baker</td>\n",
       "      <td>63</td>\n",
       "      <td>2024-10-30 12:50</td>\n",
       "      <td>289.75</td>\n",
       "      <td>12</td>\n",
       "    </tr>\n",
       "    <tr>\n",
       "      <th>24</th>\n",
       "      <td>Mia Bell</td>\n",
       "      <td>59</td>\n",
       "      <td>2024-10-30 15:30</td>\n",
       "      <td>425.60</td>\n",
       "      <td>15</td>\n",
       "    </tr>\n",
       "    <tr>\n",
       "      <th>36</th>\n",
       "      <td>Amelia Torres</td>\n",
       "      <td>61</td>\n",
       "      <td>2024-10-30 11:10</td>\n",
       "      <td>278.00</td>\n",
       "      <td>11</td>\n",
       "    </tr>\n",
       "    <tr>\n",
       "      <th>40</th>\n",
       "      <td>William Gomez</td>\n",
       "      <td>59</td>\n",
       "      <td>2024-10-30 13:55</td>\n",
       "      <td>440.00</td>\n",
       "      <td>13</td>\n",
       "    </tr>\n",
       "    <tr>\n",
       "      <th>57</th>\n",
       "      <td>Isaac Bailey</td>\n",
       "      <td>61</td>\n",
       "      <td>2024-10-30 13:35</td>\n",
       "      <td>290.40</td>\n",
       "      <td>13</td>\n",
       "    </tr>\n",
       "    <tr>\n",
       "      <th>60</th>\n",
       "      <td>Emily Carter</td>\n",
       "      <td>62</td>\n",
       "      <td>2024-10-30 10:40</td>\n",
       "      <td>295.10</td>\n",
       "      <td>10</td>\n",
       "    </tr>\n",
       "    <tr>\n",
       "      <th>68</th>\n",
       "      <td>Charlotte Wright</td>\n",
       "      <td>58</td>\n",
       "      <td>2024-10-30 13:25</td>\n",
       "      <td>280.90</td>\n",
       "      <td>13</td>\n",
       "    </tr>\n",
       "    <tr>\n",
       "      <th>71</th>\n",
       "      <td>Emily Cox</td>\n",
       "      <td>60</td>\n",
       "      <td>2024-10-30 11:05</td>\n",
       "      <td>310.45</td>\n",
       "      <td>11</td>\n",
       "    </tr>\n",
       "    <tr>\n",
       "      <th>79</th>\n",
       "      <td>David Perez</td>\n",
       "      <td>62</td>\n",
       "      <td>2024-10-30 16:40</td>\n",
       "      <td>250.75</td>\n",
       "      <td>16</td>\n",
       "    </tr>\n",
       "    <tr>\n",
       "      <th>80</th>\n",
       "      <td>Mason Young</td>\n",
       "      <td>59</td>\n",
       "      <td>2024-10-30 09:00</td>\n",
       "      <td>375.25</td>\n",
       "      <td>9</td>\n",
       "    </tr>\n",
       "  </tbody>\n",
       "</table>\n",
       "</div>"
      ],
      "text/plain": [
       "          Agent Name  Agent age      Time of deal   Price  hour\n",
       "6       Daniel Evans         60  2024-10-30 13:45  340.90    13\n",
       "15    Benjamin Green         58  2024-10-30 16:35  450.30    16\n",
       "18        Jack Baker         63  2024-10-30 12:50  289.75    12\n",
       "24          Mia Bell         59  2024-10-30 15:30  425.60    15\n",
       "36     Amelia Torres         61  2024-10-30 11:10  278.00    11\n",
       "40     William Gomez         59  2024-10-30 13:55  440.00    13\n",
       "57      Isaac Bailey         61  2024-10-30 13:35  290.40    13\n",
       "60      Emily Carter         62  2024-10-30 10:40  295.10    10\n",
       "68  Charlotte Wright         58  2024-10-30 13:25  280.90    13\n",
       "71         Emily Cox         60  2024-10-30 11:05  310.45    11\n",
       "79       David Perez         62  2024-10-30 16:40  250.75    16\n",
       "80       Mason Young         59  2024-10-30 09:00  375.25     9"
      ]
     },
     "execution_count": 10,
     "metadata": {},
     "output_type": "execute_result"
    }
   ],
   "source": [
    "df[df[\"Agent age\"]<56]"
   ]
  }
 ],
 "metadata": {
  "language_info": {
   "name": "python"
  }
 },
 "nbformat": 4,
 "nbformat_minor": 5
}
