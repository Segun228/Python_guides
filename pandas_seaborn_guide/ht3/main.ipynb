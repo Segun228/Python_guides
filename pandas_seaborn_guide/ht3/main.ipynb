{
 "cells": [
  {
   "cell_type": "code",
   "execution_count": 2,
   "id": "7a9862c0",
   "metadata": {},
   "outputs": [
    {
     "data": {
      "text/html": [
       "<div>\n",
       "<style scoped>\n",
       "    .dataframe tbody tr th:only-of-type {\n",
       "        vertical-align: middle;\n",
       "    }\n",
       "\n",
       "    .dataframe tbody tr th {\n",
       "        vertical-align: top;\n",
       "    }\n",
       "\n",
       "    .dataframe thead th {\n",
       "        text-align: right;\n",
       "    }\n",
       "</style>\n",
       "<table border=\"1\" class=\"dataframe\">\n",
       "  <thead>\n",
       "    <tr style=\"text-align: right;\">\n",
       "      <th></th>\n",
       "      <th>Email</th>\n",
       "      <th>Address</th>\n",
       "      <th>Avatar</th>\n",
       "      <th>Avg. Session Length</th>\n",
       "      <th>Time on App</th>\n",
       "      <th>Time on Website</th>\n",
       "      <th>Length of Membership</th>\n",
       "      <th>Yearly Amount Spent</th>\n",
       "    </tr>\n",
       "  </thead>\n",
       "  <tbody>\n",
       "    <tr>\n",
       "      <th>0</th>\n",
       "      <td>mstephenson@fernandez.com</td>\n",
       "      <td>835 Frank Tunnel\\nWrightmouth, MI 82180-9605</td>\n",
       "      <td>Violet</td>\n",
       "      <td>34.497268</td>\n",
       "      <td>12.655651</td>\n",
       "      <td>39.577668</td>\n",
       "      <td>4.082621</td>\n",
       "      <td>587.951054</td>\n",
       "    </tr>\n",
       "    <tr>\n",
       "      <th>1</th>\n",
       "      <td>hduke@hotmail.com</td>\n",
       "      <td>4547 Archer Common\\nDiazchester, CA 06566-8576</td>\n",
       "      <td>DarkGreen</td>\n",
       "      <td>31.926272</td>\n",
       "      <td>11.109461</td>\n",
       "      <td>37.268959</td>\n",
       "      <td>2.664034</td>\n",
       "      <td>392.204933</td>\n",
       "    </tr>\n",
       "    <tr>\n",
       "      <th>2</th>\n",
       "      <td>pallen@yahoo.com</td>\n",
       "      <td>24645 Valerie Unions Suite 582\\nCobbborough, D...</td>\n",
       "      <td>Bisque</td>\n",
       "      <td>33.000915</td>\n",
       "      <td>11.330278</td>\n",
       "      <td>37.110597</td>\n",
       "      <td>4.104543</td>\n",
       "      <td>487.547505</td>\n",
       "    </tr>\n",
       "    <tr>\n",
       "      <th>3</th>\n",
       "      <td>riverarebecca@gmail.com</td>\n",
       "      <td>1414 David Throughway\\nPort Jason, OH 22070-1220</td>\n",
       "      <td>SaddleBrown</td>\n",
       "      <td>34.305557</td>\n",
       "      <td>13.717514</td>\n",
       "      <td>36.721283</td>\n",
       "      <td>3.120179</td>\n",
       "      <td>581.852344</td>\n",
       "    </tr>\n",
       "    <tr>\n",
       "      <th>4</th>\n",
       "      <td>mstephens@davidson-herman.com</td>\n",
       "      <td>14023 Rodriguez Passage\\nPort Jacobville, PR 3...</td>\n",
       "      <td>MediumAquaMarine</td>\n",
       "      <td>33.330673</td>\n",
       "      <td>12.795189</td>\n",
       "      <td>37.536653</td>\n",
       "      <td>4.446308</td>\n",
       "      <td>599.406092</td>\n",
       "    </tr>\n",
       "  </tbody>\n",
       "</table>\n",
       "</div>"
      ],
      "text/plain": [
       "                           Email  \\\n",
       "0      mstephenson@fernandez.com   \n",
       "1              hduke@hotmail.com   \n",
       "2               pallen@yahoo.com   \n",
       "3        riverarebecca@gmail.com   \n",
       "4  mstephens@davidson-herman.com   \n",
       "\n",
       "                                             Address            Avatar  \\\n",
       "0       835 Frank Tunnel\\nWrightmouth, MI 82180-9605            Violet   \n",
       "1     4547 Archer Common\\nDiazchester, CA 06566-8576         DarkGreen   \n",
       "2  24645 Valerie Unions Suite 582\\nCobbborough, D...            Bisque   \n",
       "3   1414 David Throughway\\nPort Jason, OH 22070-1220       SaddleBrown   \n",
       "4  14023 Rodriguez Passage\\nPort Jacobville, PR 3...  MediumAquaMarine   \n",
       "\n",
       "   Avg. Session Length  Time on App  Time on Website  Length of Membership  \\\n",
       "0            34.497268    12.655651        39.577668              4.082621   \n",
       "1            31.926272    11.109461        37.268959              2.664034   \n",
       "2            33.000915    11.330278        37.110597              4.104543   \n",
       "3            34.305557    13.717514        36.721283              3.120179   \n",
       "4            33.330673    12.795189        37.536653              4.446308   \n",
       "\n",
       "   Yearly Amount Spent  \n",
       "0           587.951054  \n",
       "1           392.204933  \n",
       "2           487.547505  \n",
       "3           581.852344  \n",
       "4           599.406092  "
      ]
     },
     "execution_count": 2,
     "metadata": {},
     "output_type": "execute_result"
    }
   ],
   "source": [
    "import pandas as pd\n",
    "df = pd.read_csv('https://drive.google.com/uc?export=download&id=1GztFVF32hUQkzDD-kHfH37vstbvwKJwp')\n",
    "df.head()"
   ]
  },
  {
   "cell_type": "code",
   "execution_count": 4,
   "id": "21526662",
   "metadata": {},
   "outputs": [
    {
     "data": {
      "text/plain": [
       "array(['Violet', 'DarkGreen', 'Bisque', 'SaddleBrown', 'MediumAquaMarine',\n",
       "       'FloralWhite', 'DarkSlateBlue', 'Aqua', 'Salmon', 'Brown',\n",
       "       'Tomato', 'Tomato', 'RoyalBlue', 'Bisque', 'DarkBlue', 'Peru',\n",
       "       'PowderBlue', 'OliveDrab', 'Cyan', 'LightSeaGreen', 'PeachPuff',\n",
       "       'Black', 'Olive', 'Silver', 'Wheat', 'Teal', 'Linen',\n",
       "       'MediumSlateBlue', 'LemonChiffon', 'DarkOrchid', 'SeaGreen',\n",
       "       'SteelBlue', 'DarkMagenta', 'DarkGoldenRod', 'DarkSeaGreen',\n",
       "       'Gainsboro', 'HotPink', 'LightSeaGreen', 'HoneyDew', 'WhiteSmoke',\n",
       "       'GhostWhite', 'DarkSlateBlue', 'Chocolate', 'HoneyDew', 'Snow',\n",
       "       'BurlyWood', 'Moccasin', 'BlueViolet', 'MediumBlue', 'GreenYellow',\n",
       "       'SandyBrown', 'MediumVioletRed', 'DarkBlue', 'SandyBrown',\n",
       "       'DarkOliveGreen', 'GreenYellow', 'DarkSalmon', 'DarkSeaGreen',\n",
       "       'DeepPink', 'Olive', 'SkyBlue', 'Magenta', 'DarkTurquoise',\n",
       "       'Silver', 'SpringGreen', 'OliveDrab', 'Aqua', 'OrangeRed',\n",
       "       'LimeGreen', 'SkyBlue', 'LightGreen', 'SandyBrown', 'Teal',\n",
       "       'LightYellow', 'MintCream', 'DimGray', 'Indigo', 'LightSalmon',\n",
       "       'GreenYellow', 'DeepSkyBlue', 'DarkGreen', 'LimeGreen',\n",
       "       'DarkGoldenRod', 'Turquoise', 'LightGreen', 'LightSteelBlue',\n",
       "       'Cornsilk', 'LemonChiffon', 'DarkKhaki', 'FireBrick',\n",
       "       'LightSeaGreen', 'SlateGray', 'Crimson', 'MidnightBlue',\n",
       "       'DarkGoldenRod', 'DarkCyan', 'SteelBlue', 'OldLace', 'MediumBlue',\n",
       "       'Gray', 'LightPink', 'BlanchedAlmond', 'Wheat', 'Aqua',\n",
       "       'BlueViolet', 'CadetBlue', 'PaleTurquoise', 'DimGray', 'Moccasin',\n",
       "       'Chartreuse', 'Khaki', 'MediumSpringGreen', 'LemonChiffon',\n",
       "       'PeachPuff', 'Lime', 'Tomato', 'SlateBlue', 'Orange', 'Fuchsia',\n",
       "       'GoldenRod', 'GreenYellow', 'ForestGreen', 'Moccasin', 'Indigo',\n",
       "       'SlateBlue', 'Cyan', 'MintCream', 'Lime', 'Moccasin', 'Green',\n",
       "       'LightSkyBlue', 'BlueViolet', 'Azure', 'LightGray', 'DarkCyan',\n",
       "       'GreenYellow', 'Crimson', 'MediumOrchid', 'Sienna', 'Aquamarine',\n",
       "       'FloralWhite', 'SlateBlue', 'Sienna', 'LimeGreen', 'Teal',\n",
       "       'WhiteSmoke', 'Purple', 'SlateGray', 'LightPink', 'LimeGreen',\n",
       "       'DarkSlateBlue', 'DimGray', 'CornflowerBlue', 'DarkSlateGray',\n",
       "       'MidnightBlue', 'LightSkyBlue', 'MediumBlue', 'Wheat',\n",
       "       'SpringGreen', 'DarkRed', 'Orange', 'LightGray', 'DarkViolet',\n",
       "       'LimeGreen', 'CadetBlue', 'DarkMagenta', 'ForestGreen',\n",
       "       'LightSkyBlue', 'MediumAquaMarine', 'Salmon', 'LavenderBlush',\n",
       "       'Green', 'SpringGreen', 'Navy', 'OliveDrab', 'LightSalmon',\n",
       "       'RosyBrown', 'DeepPink', 'Pink', 'LightGreen', 'GreenYellow',\n",
       "       'Sienna', 'DarkKhaki', 'LightGray', 'DarkRed', 'Aqua', 'Red',\n",
       "       'Lavender', 'DeepPink', 'White', 'MediumSeaGreen', 'MediumPurple',\n",
       "       'LightGreen', 'Tan', 'LawnGreen', 'LightSkyBlue', 'BurlyWood',\n",
       "       'Peru', 'Thistle', 'DarkMagenta', 'LemonChiffon',\n",
       "       'MediumVioletRed', 'Teal', 'SlateGray', 'Turquoise', 'Gainsboro',\n",
       "       'Orchid', 'Yellow', 'AntiqueWhite', 'AliceBlue', 'Tomato',\n",
       "       'PapayaWhip', 'MediumSeaGreen', 'BlueViolet', 'Tomato',\n",
       "       'DarkSlateGray', 'Gold', 'Moccasin', 'MediumSeaGreen',\n",
       "       'LightGreen', 'Orange', 'Cyan', 'SlateBlue', 'BlanchedAlmond',\n",
       "       'LavenderBlush', 'Navy', 'MediumBlue', 'Moccasin', 'CadetBlue',\n",
       "       'MediumTurquoise', 'DarkGreen', 'RoyalBlue', 'DarkGoldenRod',\n",
       "       'Thistle', 'White', 'MediumSpringGreen', 'WhiteSmoke', 'BurlyWood',\n",
       "       'YellowGreen', 'White', 'Cyan', 'SlateBlue', 'LightSkyBlue',\n",
       "       'DarkTurquoise', 'Gainsboro', 'LightCyan', 'LightCoral',\n",
       "       'Turquoise', 'DarkOliveGreen', 'Teal', 'DeepPink',\n",
       "       'MediumTurquoise', 'DarkCyan', 'PeachPuff', 'Aqua',\n",
       "       'MediumTurquoise', 'HotPink', 'SeaShell', 'Orange', 'CadetBlue',\n",
       "       'LightCoral', 'Orchid', 'Crimson', 'LightGoldenRodYellow',\n",
       "       'DarkGoldenRod', 'HotPink', 'Blue', 'Violet', 'Pink', 'SandyBrown',\n",
       "       'LightBlue', 'Gold', 'SteelBlue', 'FloralWhite', 'Green',\n",
       "       'PaleGoldenRod', 'Navy', 'Coral', 'DarkGreen', 'LightSteelBlue',\n",
       "       'Aquamarine', 'DarkViolet', 'MediumSpringGreen', 'OliveDrab',\n",
       "       'Purple', 'BlueViolet', 'RoyalBlue', 'DarkSeaGreen',\n",
       "       'AntiqueWhite', 'Blue', 'FloralWhite', 'Navy', 'DarkOrange',\n",
       "       'Aqua', 'Ivory', 'LavenderBlush', 'Cyan', 'Tan', 'PaleVioletRed',\n",
       "       'LightPink', 'Thistle', 'CadetBlue', 'AntiqueWhite', 'GhostWhite',\n",
       "       'DarkOrchid', 'DarkGray', 'Gainsboro', 'DarkSalmon', 'Ivory',\n",
       "       'MediumSlateBlue', 'Cyan', 'SeaGreen', 'Purple', 'LightBlue',\n",
       "       'Brown', 'Chocolate', 'Thistle', 'Purple', 'MistyRose', 'Indigo',\n",
       "       'Gold', 'PeachPuff', 'LightSalmon', 'DarkOrange', 'SlateBlue',\n",
       "       'MintCream', 'NavajoWhite', 'Tomato', 'DarkSeaGreen', 'Lavender',\n",
       "       'DodgerBlue', 'Wheat', 'MediumVioletRed', 'Magenta', 'SeaShell',\n",
       "       'HoneyDew', 'LightCyan', 'Khaki', 'Crimson', 'White', 'RoyalBlue',\n",
       "       'DarkViolet', 'DarkSeaGreen', 'Navy', 'Gray', 'Purple',\n",
       "       'RosyBrown', 'White', 'MediumTurquoise', 'Bisque', 'SaddleBrown',\n",
       "       'YellowGreen', 'LavenderBlush', 'IndianRed', 'DarkKhaki',\n",
       "       'SaddleBrown', 'Orchid', 'DarkCyan', 'Aquamarine', 'Brown',\n",
       "       'DarkMagenta', 'Cornsilk', 'LightSalmon', 'Chocolate',\n",
       "       'PaleVioletRed', 'Wheat', 'OldLace', 'SlateBlue', 'Orchid',\n",
       "       'MediumAquaMarine', 'SeaGreen', 'MediumSpringGreen',\n",
       "       'LightSeaGreen', 'DarkKhaki', 'SaddleBrown', 'Turquoise',\n",
       "       'AntiqueWhite', 'GoldenRod', 'Teal', 'Bisque', 'PaleGreen',\n",
       "       'RosyBrown', 'Crimson', 'Brown', 'Gold', 'SeaGreen', 'LightYellow',\n",
       "       'LemonChiffon', 'DarkOrange', 'LightCyan', 'Gray',\n",
       "       'MediumVioletRed', 'OrangeRed', 'DeepPink', 'DeepPink',\n",
       "       'GhostWhite', 'Green', 'CadetBlue', 'DarkOliveGreen', 'IndianRed',\n",
       "       'Snow', 'DarkSeaGreen', 'BlueViolet', 'OliveDrab',\n",
       "       'MediumSpringGreen', 'MediumSlateBlue', 'GhostWhite', 'Purple',\n",
       "       'SandyBrown', 'LightCyan', 'LightSalmon', 'Chartreuse',\n",
       "       'DarkGoldenRod', 'Cornsilk', 'Magenta', 'SaddleBrown',\n",
       "       'DarkViolet', 'Chocolate', 'DarkViolet', 'Magenta', 'HotPink',\n",
       "       'DodgerBlue', 'Turquoise', 'Blue', 'PaleVioletRed', 'MidnightBlue',\n",
       "       'BlanchedAlmond', 'Black', 'DodgerBlue', 'DarkGreen',\n",
       "       'BlanchedAlmond', 'Bisque', 'Cyan', 'Lavender', 'Violet',\n",
       "       'Fuchsia', 'MistyRose', 'CadetBlue', 'LightSteelBlue', 'Brown',\n",
       "       'Salmon', 'FireBrick', 'Lime', 'GreenYellow', 'DarkOrchid', 'Blue',\n",
       "       'Olive', 'Wheat', 'AliceBlue', 'OliveDrab', 'Linen',\n",
       "       'LightSlateGray', 'Indigo', 'Lime', 'SteelBlue', 'Olive',\n",
       "       'HoneyDew', 'MidnightBlue', 'DarkViolet', 'Sienna', 'Pink',\n",
       "       'LightSkyBlue', 'SaddleBrown', 'SteelBlue', 'Thistle',\n",
       "       'BlanchedAlmond', 'Turquoise', 'Orange', 'Beige', 'YellowGreen',\n",
       "       'SlateGray', 'Bisque', 'Orange', 'DimGray', 'MediumBlue',\n",
       "       'AntiqueWhite', 'Beige', 'Beige', 'PeachPuff', 'LightPink',\n",
       "       'WhiteSmoke', 'MediumOrchid', 'Olive', 'MistyRose', 'DarkRed',\n",
       "       'Pink', 'DarkGray', 'Orchid', 'PeachPuff', 'Magenta', 'GhostWhite',\n",
       "       'SeaShell', 'DarkBlue', 'MediumSeaGreen', 'DarkTurquoise', 'Tan',\n",
       "       'PaleVioletRed', 'Cornsilk', 'Teal', 'DarkMagenta'], dtype=object)"
      ]
     },
     "execution_count": 4,
     "metadata": {},
     "output_type": "execute_result"
    }
   ],
   "source": [
    "df['Avatar'].values # just returns values"
   ]
  },
  {
   "cell_type": "code",
   "execution_count": 5,
   "id": "d9a1b9a5",
   "metadata": {},
   "outputs": [
    {
     "data": {
      "text/plain": [
       "RangeIndex(start=0, stop=500, step=1)"
      ]
     },
     "execution_count": 5,
     "metadata": {},
     "output_type": "execute_result"
    }
   ],
   "source": [
    "df['Avatar'].index"
   ]
  },
  {
   "cell_type": "code",
   "execution_count": 9,
   "id": "fc618bc2",
   "metadata": {},
   "outputs": [
    {
     "data": {
      "text/plain": [
       "array(['Violet', 'DarkGreen', 'Bisque', 'SaddleBrown', 'MediumAquaMarine',\n",
       "       'FloralWhite', 'DarkSlateBlue', 'Aqua', 'Salmon', 'Brown',\n",
       "       'Tomato', 'RoyalBlue', 'DarkBlue', 'Peru', 'PowderBlue',\n",
       "       'OliveDrab', 'Cyan', 'LightSeaGreen', 'PeachPuff', 'Black',\n",
       "       'Olive', 'Silver', 'Wheat', 'Teal', 'Linen', 'MediumSlateBlue',\n",
       "       'LemonChiffon', 'DarkOrchid', 'SeaGreen', 'SteelBlue',\n",
       "       'DarkMagenta', 'DarkGoldenRod', 'DarkSeaGreen', 'Gainsboro',\n",
       "       'HotPink', 'HoneyDew', 'WhiteSmoke', 'GhostWhite', 'Chocolate',\n",
       "       'Snow', 'BurlyWood', 'Moccasin', 'BlueViolet', 'MediumBlue',\n",
       "       'GreenYellow', 'SandyBrown', 'MediumVioletRed', 'DarkOliveGreen',\n",
       "       'DarkSalmon', 'DeepPink', 'SkyBlue', 'Magenta', 'DarkTurquoise',\n",
       "       'SpringGreen', 'OrangeRed', 'LimeGreen', 'LightGreen',\n",
       "       'LightYellow', 'MintCream', 'DimGray', 'Indigo', 'LightSalmon',\n",
       "       'DeepSkyBlue', 'Turquoise', 'LightSteelBlue', 'Cornsilk',\n",
       "       'DarkKhaki', 'FireBrick', 'SlateGray', 'Crimson', 'MidnightBlue',\n",
       "       'DarkCyan', 'OldLace', 'Gray', 'LightPink', 'BlanchedAlmond',\n",
       "       'CadetBlue', 'PaleTurquoise', 'Chartreuse', 'Khaki',\n",
       "       'MediumSpringGreen', 'Lime', 'SlateBlue', 'Orange', 'Fuchsia',\n",
       "       'GoldenRod', 'ForestGreen', 'Green', 'LightSkyBlue', 'Azure',\n",
       "       'LightGray', 'MediumOrchid', 'Sienna', 'Aquamarine', 'Purple',\n",
       "       'CornflowerBlue', 'DarkSlateGray', 'DarkRed', 'DarkViolet',\n",
       "       'LavenderBlush', 'Navy', 'RosyBrown', 'Pink', 'Red', 'Lavender',\n",
       "       'White', 'MediumSeaGreen', 'MediumPurple', 'Tan', 'LawnGreen',\n",
       "       'Thistle', 'Orchid', 'Yellow', 'AntiqueWhite', 'AliceBlue',\n",
       "       'PapayaWhip', 'Gold', 'MediumTurquoise', 'YellowGreen',\n",
       "       'LightCyan', 'LightCoral', 'SeaShell', 'LightGoldenRodYellow',\n",
       "       'Blue', 'LightBlue', 'PaleGoldenRod', 'Coral', 'DarkOrange',\n",
       "       'Ivory', 'PaleVioletRed', 'DarkGray', 'MistyRose', 'NavajoWhite',\n",
       "       'DodgerBlue', 'IndianRed', 'PaleGreen', 'LightSlateGray', 'Beige'],\n",
       "      dtype=object)"
      ]
     },
     "execution_count": 9,
     "metadata": {},
     "output_type": "execute_result"
    }
   ],
   "source": [
    "df['Avatar'].unique()"
   ]
  },
  {
   "cell_type": "code",
   "execution_count": 12,
   "id": "cbf46e91",
   "metadata": {},
   "outputs": [
    {
     "data": {
      "text/html": [
       "<div>\n",
       "<style scoped>\n",
       "    .dataframe tbody tr th:only-of-type {\n",
       "        vertical-align: middle;\n",
       "    }\n",
       "\n",
       "    .dataframe tbody tr th {\n",
       "        vertical-align: top;\n",
       "    }\n",
       "\n",
       "    .dataframe thead th {\n",
       "        text-align: right;\n",
       "    }\n",
       "</style>\n",
       "<table border=\"1\" class=\"dataframe\">\n",
       "  <thead>\n",
       "    <tr style=\"text-align: right;\">\n",
       "      <th></th>\n",
       "      <th>Email</th>\n",
       "      <th>Address</th>\n",
       "      <th>Avatar</th>\n",
       "      <th>Avg. Session Length</th>\n",
       "      <th>Time on App</th>\n",
       "      <th>Time on Website</th>\n",
       "      <th>Length of Membership</th>\n",
       "      <th>Yearly Amount Spent</th>\n",
       "    </tr>\n",
       "  </thead>\n",
       "  <tbody>\n",
       "    <tr>\n",
       "      <th>154</th>\n",
       "      <td>nathan86@hotmail.com</td>\n",
       "      <td>748 Michael Plaza\\nWest Billyside, UT 20799</td>\n",
       "      <td>MidnightBlue</td>\n",
       "      <td>36.139662</td>\n",
       "      <td>12.050267</td>\n",
       "      <td>36.959643</td>\n",
       "      <td>3.864861</td>\n",
       "      <td>595.803819</td>\n",
       "    </tr>\n",
       "    <tr>\n",
       "      <th>12</th>\n",
       "      <td>knelson@gmail.com</td>\n",
       "      <td>6705 Miller Orchard Suite 186\\nLake Shanestad,...</td>\n",
       "      <td>RoyalBlue</td>\n",
       "      <td>29.532429</td>\n",
       "      <td>10.961298</td>\n",
       "      <td>37.420216</td>\n",
       "      <td>4.046423</td>\n",
       "      <td>408.640351</td>\n",
       "    </tr>\n",
       "  </tbody>\n",
       "</table>\n",
       "</div>"
      ],
      "text/plain": [
       "                    Email                                            Address  \\\n",
       "154  nathan86@hotmail.com        748 Michael Plaza\\nWest Billyside, UT 20799   \n",
       "12      knelson@gmail.com  6705 Miller Orchard Suite 186\\nLake Shanestad,...   \n",
       "\n",
       "           Avatar  Avg. Session Length  Time on App  Time on Website  \\\n",
       "154  MidnightBlue            36.139662    12.050267        36.959643   \n",
       "12      RoyalBlue            29.532429    10.961298        37.420216   \n",
       "\n",
       "     Length of Membership  Yearly Amount Spent  \n",
       "154              3.864861           595.803819  \n",
       "12               4.046423           408.640351  "
      ]
     },
     "execution_count": 12,
     "metadata": {},
     "output_type": "execute_result"
    }
   ],
   "source": [
    "df.iloc[[df['Avg. Session Length'].idxmax(), df['Avg. Session Length'].idxmin()]]"
   ]
  },
  {
   "cell_type": "code",
   "execution_count": 13,
   "id": "95c595f0",
   "metadata": {},
   "outputs": [
    {
     "data": {
      "text/plain": [
       "np.float64(29.532428967057943)"
      ]
     },
     "execution_count": 13,
     "metadata": {},
     "output_type": "execute_result"
    }
   ],
   "source": [
    "df['Avg. Session Length'].min()"
   ]
  },
  {
   "cell_type": "code",
   "execution_count": 11,
   "id": "2e1bbb6f",
   "metadata": {},
   "outputs": [
    {
     "data": {
      "text/plain": [
       "Index(['Name', 'Age', 'Salary', 'Occupation'], dtype='object')"
      ]
     },
     "execution_count": 11,
     "metadata": {},
     "output_type": "execute_result"
    }
   ],
   "source": [
    "data = {'Name': ['Anna', 'Boris', 'Polina'], 'Age': [28, 34, 27], 'Salary' : [1000, 1500, 1800], 'Occupation' : ['Data Scientist', 'Data Analyst', 'Data Engineer']}\n",
    "df2 = pd.DataFrame(data, index=['a', 'b', 'c'])\n",
    "df2.columns"
   ]
  },
  {
   "cell_type": "markdown",
   "id": "712a6365",
   "metadata": {},
   "source": [
    "### Quantiles"
   ]
  },
  {
   "cell_type": "code",
   "execution_count": 16,
   "id": "26146780",
   "metadata": {},
   "outputs": [
    {
     "data": {
      "text/plain": [
       "np.float64(32.34182200451777)"
      ]
     },
     "execution_count": 16,
     "metadata": {},
     "output_type": "execute_result"
    }
   ],
   "source": [
    "df['Avg. Session Length'].quantile(0.25)"
   ]
  },
  {
   "cell_type": "markdown",
   "id": "20f5789c",
   "metadata": {},
   "source": [
    "### Central tendention"
   ]
  },
  {
   "cell_type": "code",
   "execution_count": null,
   "id": "754daf24",
   "metadata": {},
   "outputs": [
    {
     "data": {
      "text/plain": [
       "0      29.532429\n",
       "1      30.393185\n",
       "2      30.492537\n",
       "3      30.574364\n",
       "4      30.737720\n",
       "         ...    \n",
       "495    35.530904\n",
       "496    35.630854\n",
       "497    35.742670\n",
       "498    35.860237\n",
       "499    36.139662\n",
       "Name: Avg. Session Length, Length: 500, dtype: float64"
      ]
     },
     "execution_count": 19,
     "metadata": {},
     "output_type": "execute_result"
    }
   ],
   "source": [
    "df['Avg. Session Length'].mean()\n",
    "df['Avg. Session Length'].median()\n",
    "df['Avg. Session Length'].mode()"
   ]
  },
  {
   "cell_type": "markdown",
   "id": "18ca82e1",
   "metadata": {},
   "source": [
    "### Changibility measure "
   ]
  },
  {
   "cell_type": "code",
   "execution_count": 20,
   "id": "a274a870",
   "metadata": {},
   "outputs": [
    {
     "data": {
      "text/plain": [
       "np.float64(6.607233521732578)"
      ]
     },
     "execution_count": 20,
     "metadata": {},
     "output_type": "execute_result"
    }
   ],
   "source": [
    "range = df['Avg. Session Length'].max() - df['Avg. Session Length'].min() \n",
    "range"
   ]
  },
  {
   "cell_type": "code",
   "execution_count": 21,
   "id": "4cd69c34",
   "metadata": {},
   "outputs": [
    {
     "data": {
      "text/plain": [
       "np.float64(1.3701630194366956)"
      ]
     },
     "execution_count": 21,
     "metadata": {},
     "output_type": "execute_result"
    }
   ],
   "source": [
    "Q1 = df['Avg. Session Length'].quantile(0.25)\n",
    "Q3 = df['Avg. Session Length'].quantile(0.75)\n",
    "\n",
    "IQR = Q3 - Q1\n",
    "IQR"
   ]
  },
  {
   "cell_type": "code",
   "execution_count": null,
   "id": "2cd0d63f",
   "metadata": {},
   "outputs": [],
   "source": [
    "df['Avg. Session Length'].var()\n",
    "df['Avg. Session Length'].std()"
   ]
  },
  {
   "cell_type": "markdown",
   "id": "d9bda389",
   "metadata": {},
   "source": [
    "### Correlation"
   ]
  },
  {
   "cell_type": "code",
   "execution_count": 22,
   "id": "9647637a",
   "metadata": {},
   "outputs": [
    {
     "data": {
      "text/plain": [
       "np.float64(-0.02782598355566168)"
      ]
     },
     "execution_count": 22,
     "metadata": {},
     "output_type": "execute_result"
    }
   ],
   "source": [
    "df['Avg. Session Length'].corr(df['Time on App'])"
   ]
  },
  {
   "cell_type": "code",
   "execution_count": 24,
   "id": "21ba7fd1",
   "metadata": {},
   "outputs": [
    {
     "ename": "ModuleNotFoundError",
     "evalue": "No module named 'scipy'",
     "output_type": "error",
     "traceback": [
      "\u001b[31m---------------------------------------------------------------------------\u001b[39m",
      "\u001b[31mModuleNotFoundError\u001b[39m                       Traceback (most recent call last)",
      "\u001b[36mCell\u001b[39m\u001b[36m \u001b[39m\u001b[32mIn[24]\u001b[39m\u001b[32m, line 1\u001b[39m\n\u001b[32m----> \u001b[39m\u001b[32m1\u001b[39m \u001b[43mdf\u001b[49m\u001b[43m[\u001b[49m\u001b[33;43m'\u001b[39;49m\u001b[33;43mAvg. Session Length\u001b[39;49m\u001b[33;43m'\u001b[39;49m\u001b[43m]\u001b[49m\u001b[43m.\u001b[49m\u001b[43mcorr\u001b[49m\u001b[43m(\u001b[49m\u001b[43mdf\u001b[49m\u001b[43m[\u001b[49m\u001b[33;43m'\u001b[39;49m\u001b[33;43mTime on App\u001b[39;49m\u001b[33;43m'\u001b[39;49m\u001b[43m]\u001b[49m\u001b[43m,\u001b[49m\u001b[43m \u001b[49m\u001b[43mmethod\u001b[49m\u001b[43m=\u001b[49m\u001b[33;43m'\u001b[39;49m\u001b[33;43mspearman\u001b[39;49m\u001b[33;43m'\u001b[39;49m\u001b[43m)\u001b[49m\n",
      "\u001b[36mFile \u001b[39m\u001b[32m~/проекты/Python/Python_guides/python_sql_guide/venv/lib/python3.12/site-packages/pandas/core/series.py:2988\u001b[39m, in \u001b[36mSeries.corr\u001b[39m\u001b[34m(self, other, method, min_periods)\u001b[39m\n\u001b[32m   2985\u001b[39m other_values = other.to_numpy(dtype=\u001b[38;5;28mfloat\u001b[39m, na_value=np.nan, copy=\u001b[38;5;28;01mFalse\u001b[39;00m)\n\u001b[32m   2987\u001b[39m \u001b[38;5;28;01mif\u001b[39;00m method \u001b[38;5;129;01min\u001b[39;00m [\u001b[33m\"\u001b[39m\u001b[33mpearson\u001b[39m\u001b[33m\"\u001b[39m, \u001b[33m\"\u001b[39m\u001b[33mspearman\u001b[39m\u001b[33m\"\u001b[39m, \u001b[33m\"\u001b[39m\u001b[33mkendall\u001b[39m\u001b[33m\"\u001b[39m] \u001b[38;5;129;01mor\u001b[39;00m \u001b[38;5;28mcallable\u001b[39m(method):\n\u001b[32m-> \u001b[39m\u001b[32m2988\u001b[39m     \u001b[38;5;28;01mreturn\u001b[39;00m \u001b[43mnanops\u001b[49m\u001b[43m.\u001b[49m\u001b[43mnancorr\u001b[49m\u001b[43m(\u001b[49m\n\u001b[32m   2989\u001b[39m \u001b[43m        \u001b[49m\u001b[43mthis_values\u001b[49m\u001b[43m,\u001b[49m\u001b[43m \u001b[49m\u001b[43mother_values\u001b[49m\u001b[43m,\u001b[49m\u001b[43m \u001b[49m\u001b[43mmethod\u001b[49m\u001b[43m=\u001b[49m\u001b[43mmethod\u001b[49m\u001b[43m,\u001b[49m\u001b[43m \u001b[49m\u001b[43mmin_periods\u001b[49m\u001b[43m=\u001b[49m\u001b[43mmin_periods\u001b[49m\n\u001b[32m   2990\u001b[39m \u001b[43m    \u001b[49m\u001b[43m)\u001b[49m\n\u001b[32m   2992\u001b[39m \u001b[38;5;28;01mraise\u001b[39;00m \u001b[38;5;167;01mValueError\u001b[39;00m(\n\u001b[32m   2993\u001b[39m     \u001b[33m\"\u001b[39m\u001b[33mmethod must be either \u001b[39m\u001b[33m'\u001b[39m\u001b[33mpearson\u001b[39m\u001b[33m'\u001b[39m\u001b[33m, \u001b[39m\u001b[33m\"\u001b[39m\n\u001b[32m   2994\u001b[39m     \u001b[33m\"\u001b[39m\u001b[33m'\u001b[39m\u001b[33mspearman\u001b[39m\u001b[33m'\u001b[39m\u001b[33m, \u001b[39m\u001b[33m'\u001b[39m\u001b[33mkendall\u001b[39m\u001b[33m'\u001b[39m\u001b[33m, or a callable, \u001b[39m\u001b[33m\"\u001b[39m\n\u001b[32m   2995\u001b[39m     \u001b[33mf\u001b[39m\u001b[33m\"\u001b[39m\u001b[33m'\u001b[39m\u001b[38;5;132;01m{\u001b[39;00mmethod\u001b[38;5;132;01m}\u001b[39;00m\u001b[33m'\u001b[39m\u001b[33m was supplied\u001b[39m\u001b[33m\"\u001b[39m\n\u001b[32m   2996\u001b[39m )\n",
      "\u001b[36mFile \u001b[39m\u001b[32m~/проекты/Python/Python_guides/python_sql_guide/venv/lib/python3.12/site-packages/pandas/core/nanops.py:85\u001b[39m, in \u001b[36mdisallow.__call__.<locals>._f\u001b[39m\u001b[34m(*args, **kwargs)\u001b[39m\n\u001b[32m     81\u001b[39m     \u001b[38;5;28;01mraise\u001b[39;00m \u001b[38;5;167;01mTypeError\u001b[39;00m(\n\u001b[32m     82\u001b[39m         \u001b[33mf\u001b[39m\u001b[33m\"\u001b[39m\u001b[33mreduction operation \u001b[39m\u001b[33m'\u001b[39m\u001b[38;5;132;01m{\u001b[39;00mf_name\u001b[38;5;132;01m}\u001b[39;00m\u001b[33m'\u001b[39m\u001b[33m not allowed for this dtype\u001b[39m\u001b[33m\"\u001b[39m\n\u001b[32m     83\u001b[39m     )\n\u001b[32m     84\u001b[39m \u001b[38;5;28;01mtry\u001b[39;00m:\n\u001b[32m---> \u001b[39m\u001b[32m85\u001b[39m     \u001b[38;5;28;01mreturn\u001b[39;00m \u001b[43mf\u001b[49m\u001b[43m(\u001b[49m\u001b[43m*\u001b[49m\u001b[43margs\u001b[49m\u001b[43m,\u001b[49m\u001b[43m \u001b[49m\u001b[43m*\u001b[49m\u001b[43m*\u001b[49m\u001b[43mkwargs\u001b[49m\u001b[43m)\u001b[49m\n\u001b[32m     86\u001b[39m \u001b[38;5;28;01mexcept\u001b[39;00m \u001b[38;5;167;01mValueError\u001b[39;00m \u001b[38;5;28;01mas\u001b[39;00m e:\n\u001b[32m     87\u001b[39m     \u001b[38;5;66;03m# we want to transform an object array\u001b[39;00m\n\u001b[32m     88\u001b[39m     \u001b[38;5;66;03m# ValueError message to the more typical TypeError\u001b[39;00m\n\u001b[32m     89\u001b[39m     \u001b[38;5;66;03m# e.g. this is normally a disallowed function on\u001b[39;00m\n\u001b[32m     90\u001b[39m     \u001b[38;5;66;03m# object arrays that contain strings\u001b[39;00m\n\u001b[32m     91\u001b[39m     \u001b[38;5;28;01mif\u001b[39;00m is_object_dtype(args[\u001b[32m0\u001b[39m]):\n",
      "\u001b[36mFile \u001b[39m\u001b[32m~/проекты/Python/Python_guides/python_sql_guide/venv/lib/python3.12/site-packages/pandas/core/nanops.py:1614\u001b[39m, in \u001b[36mnancorr\u001b[39m\u001b[34m(a, b, method, min_periods)\u001b[39m\n\u001b[32m   1611\u001b[39m a = _ensure_numeric(a)\n\u001b[32m   1612\u001b[39m b = _ensure_numeric(b)\n\u001b[32m-> \u001b[39m\u001b[32m1614\u001b[39m f = \u001b[43mget_corr_func\u001b[49m\u001b[43m(\u001b[49m\u001b[43mmethod\u001b[49m\u001b[43m)\u001b[49m\n\u001b[32m   1615\u001b[39m \u001b[38;5;28;01mreturn\u001b[39;00m f(a, b)\n",
      "\u001b[36mFile \u001b[39m\u001b[32m~/проекты/Python/Python_guides/python_sql_guide/venv/lib/python3.12/site-packages/pandas/core/nanops.py:1629\u001b[39m, in \u001b[36mget_corr_func\u001b[39m\u001b[34m(method)\u001b[39m\n\u001b[32m   1627\u001b[39m     \u001b[38;5;28;01mreturn\u001b[39;00m func\n\u001b[32m   1628\u001b[39m \u001b[38;5;28;01melif\u001b[39;00m method == \u001b[33m\"\u001b[39m\u001b[33mspearman\u001b[39m\u001b[33m\"\u001b[39m:\n\u001b[32m-> \u001b[39m\u001b[32m1629\u001b[39m     \u001b[38;5;28;01mfrom\u001b[39;00m\u001b[38;5;250m \u001b[39m\u001b[34;01mscipy\u001b[39;00m\u001b[34;01m.\u001b[39;00m\u001b[34;01mstats\u001b[39;00m\u001b[38;5;250m \u001b[39m\u001b[38;5;28;01mimport\u001b[39;00m spearmanr\n\u001b[32m   1631\u001b[39m     \u001b[38;5;28;01mdef\u001b[39;00m\u001b[38;5;250m \u001b[39m\u001b[34mfunc\u001b[39m(a, b):\n\u001b[32m   1632\u001b[39m         \u001b[38;5;28;01mreturn\u001b[39;00m spearmanr(a, b)[\u001b[32m0\u001b[39m]\n",
      "\u001b[31mModuleNotFoundError\u001b[39m: No module named 'scipy'"
     ]
    }
   ],
   "source": [
    "df['Avg. Session Length'].corr(df['Time on App'], method='spearman')"
   ]
  }
 ],
 "metadata": {
  "kernelspec": {
   "display_name": "venv",
   "language": "python",
   "name": "python3"
  },
  "language_info": {
   "codemirror_mode": {
    "name": "ipython",
    "version": 3
   },
   "file_extension": ".py",
   "mimetype": "text/x-python",
   "name": "python",
   "nbconvert_exporter": "python",
   "pygments_lexer": "ipython3",
   "version": "3.12.7"
  }
 },
 "nbformat": 4,
 "nbformat_minor": 5
}
