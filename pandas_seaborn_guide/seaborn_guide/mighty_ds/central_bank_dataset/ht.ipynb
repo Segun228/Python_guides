{
 "cells": [
  {
   "cell_type": "code",
   "execution_count": null,
   "id": "fd0ce742",
   "metadata": {},
   "outputs": [],
   "source": [
    "import numpy as np\n",
    "import pandas as pd\n",
    "import matplotlib as mplb\n",
    "import seaborn as sns\n",
    "import scypy as sp"
   ]
  },
  {
   "cell_type": "code",
   "execution_count": 39,
   "id": "e8015d53",
   "metadata": {},
   "outputs": [
    {
     "data": {
      "text/html": [
       "<div>\n",
       "<style scoped>\n",
       "    .dataframe tbody tr th:only-of-type {\n",
       "        vertical-align: middle;\n",
       "    }\n",
       "\n",
       "    .dataframe tbody tr th {\n",
       "        vertical-align: top;\n",
       "    }\n",
       "\n",
       "    .dataframe thead th {\n",
       "        text-align: right;\n",
       "    }\n",
       "</style>\n",
       "<table border=\"1\" class=\"dataframe\">\n",
       "  <thead>\n",
       "    <tr style=\"text-align: right;\">\n",
       "      <th></th>\n",
       "      <th>Date</th>\n",
       "      <th>Region</th>\n",
       "      <th>Product</th>\n",
       "      <th>SalesCount</th>\n",
       "    </tr>\n",
       "  </thead>\n",
       "  <tbody>\n",
       "    <tr>\n",
       "      <th>0</th>\n",
       "      <td>2022-01-03</td>\n",
       "      <td>South</td>\n",
       "      <td>Product C</td>\n",
       "      <td>716</td>\n",
       "    </tr>\n",
       "    <tr>\n",
       "      <th>1</th>\n",
       "      <td>2022-01-04</td>\n",
       "      <td>South</td>\n",
       "      <td>Product C</td>\n",
       "      <td>1623</td>\n",
       "    </tr>\n",
       "    <tr>\n",
       "      <th>2</th>\n",
       "      <td>2022-01-07</td>\n",
       "      <td>South</td>\n",
       "      <td>Product A</td>\n",
       "      <td>1159</td>\n",
       "    </tr>\n",
       "    <tr>\n",
       "      <th>3</th>\n",
       "      <td>2022-01-12</td>\n",
       "      <td>West</td>\n",
       "      <td>Product B</td>\n",
       "      <td>501</td>\n",
       "    </tr>\n",
       "    <tr>\n",
       "      <th>4</th>\n",
       "      <td>2022-01-21</td>\n",
       "      <td>East</td>\n",
       "      <td>Product B</td>\n",
       "      <td>1567</td>\n",
       "    </tr>\n",
       "  </tbody>\n",
       "</table>\n",
       "</div>"
      ],
      "text/plain": [
       "        Date Region    Product  SalesCount\n",
       "0 2022-01-03  South  Product C         716\n",
       "1 2022-01-04  South  Product C        1623\n",
       "2 2022-01-07  South  Product A        1159\n",
       "3 2022-01-12   West  Product B         501\n",
       "4 2022-01-21   East  Product B        1567"
      ]
     },
     "execution_count": 39,
     "metadata": {},
     "output_type": "execute_result"
    }
   ],
   "source": [
    "df = pd.read_csv(\n",
    "    filepath_or_buffer=\"data.csv\",\n",
    "    parse_dates=[\"Date\"]\n",
    ")\n",
    "df.head()"
   ]
  },
  {
   "cell_type": "code",
   "execution_count": 40,
   "id": "81ce3551",
   "metadata": {},
   "outputs": [
    {
     "data": {
      "text/plain": [
       "<Axes: xlabel='Product'>"
      ]
     },
     "execution_count": 40,
     "metadata": {},
     "output_type": "execute_result"
    },
    {
     "data": {
      "image/png": "[encoded data removed]",
      "text/plain": [
       "<Figure size 640x480 with 1 Axes>"
      ]
     },
     "metadata": {},
     "output_type": "display_data"
    }
   ],
   "source": [
    "df[(df.Date.dt.year == 2022) & (df.Region == \"South\")].groupby(\"Product\")[\"SalesCount\"].agg(\"sum\").plot(\n",
    "    x=\"Product\",\n",
    "    y=\"SalesCount\",\n",
    "    kind=\"bar\"\n",
    ")"
   ]
  },
  {
   "cell_type": "code",
   "execution_count": 41,
   "id": "b646e259",
   "metadata": {},
   "outputs": [
    {
     "data": {
      "text/html": [
       "<div>\n",
       "<style scoped>\n",
       "    .dataframe tbody tr th:only-of-type {\n",
       "        vertical-align: middle;\n",
       "    }\n",
       "\n",
       "    .dataframe tbody tr th {\n",
       "        vertical-align: top;\n",
       "    }\n",
       "\n",
       "    .dataframe thead th {\n",
       "        text-align: right;\n",
       "    }\n",
       "</style>\n",
       "<table border=\"1\" class=\"dataframe\">\n",
       "  <thead>\n",
       "    <tr style=\"text-align: right;\">\n",
       "      <th></th>\n",
       "      <th>Date</th>\n",
       "      <th>Region</th>\n",
       "      <th>Product</th>\n",
       "      <th>SalesCount</th>\n",
       "    </tr>\n",
       "  </thead>\n",
       "  <tbody>\n",
       "    <tr>\n",
       "      <th>0</th>\n",
       "      <td>2022-01-03</td>\n",
       "      <td>South</td>\n",
       "      <td>Product C</td>\n",
       "      <td>716</td>\n",
       "    </tr>\n",
       "    <tr>\n",
       "      <th>1</th>\n",
       "      <td>2022-01-04</td>\n",
       "      <td>South</td>\n",
       "      <td>Product C</td>\n",
       "      <td>1623</td>\n",
       "    </tr>\n",
       "    <tr>\n",
       "      <th>2</th>\n",
       "      <td>2022-01-07</td>\n",
       "      <td>South</td>\n",
       "      <td>Product A</td>\n",
       "      <td>1159</td>\n",
       "    </tr>\n",
       "    <tr>\n",
       "      <th>3</th>\n",
       "      <td>2022-01-12</td>\n",
       "      <td>West</td>\n",
       "      <td>Product B</td>\n",
       "      <td>501</td>\n",
       "    </tr>\n",
       "    <tr>\n",
       "      <th>4</th>\n",
       "      <td>2022-01-21</td>\n",
       "      <td>East</td>\n",
       "      <td>Product B</td>\n",
       "      <td>1567</td>\n",
       "    </tr>\n",
       "  </tbody>\n",
       "</table>\n",
       "</div>"
      ],
      "text/plain": [
       "        Date Region    Product  SalesCount\n",
       "0 2022-01-03  South  Product C         716\n",
       "1 2022-01-04  South  Product C        1623\n",
       "2 2022-01-07  South  Product A        1159\n",
       "3 2022-01-12   West  Product B         501\n",
       "4 2022-01-21   East  Product B        1567"
      ]
     },
     "execution_count": 41,
     "metadata": {},
     "output_type": "execute_result"
    }
   ],
   "source": [
    "df.head()"
   ]
  },
  {
   "cell_type": "code",
   "execution_count": 42,
   "id": "db344c08",
   "metadata": {},
   "outputs": [
    {
     "data": {
      "text/html": [
       "<div>\n",
       "<style scoped>\n",
       "    .dataframe tbody tr th:only-of-type {\n",
       "        vertical-align: middle;\n",
       "    }\n",
       "\n",
       "    .dataframe tbody tr th {\n",
       "        vertical-align: top;\n",
       "    }\n",
       "\n",
       "    .dataframe thead th {\n",
       "        text-align: right;\n",
       "    }\n",
       "</style>\n",
       "<table border=\"1\" class=\"dataframe\">\n",
       "  <thead>\n",
       "    <tr style=\"text-align: right;\">\n",
       "      <th></th>\n",
       "      <th>Date</th>\n",
       "      <th>Region</th>\n",
       "      <th>Product</th>\n",
       "      <th>SalesCount</th>\n",
       "      <th>weekday</th>\n",
       "    </tr>\n",
       "  </thead>\n",
       "  <tbody>\n",
       "    <tr>\n",
       "      <th>0</th>\n",
       "      <td>2022-01-03</td>\n",
       "      <td>South</td>\n",
       "      <td>Product C</td>\n",
       "      <td>716</td>\n",
       "      <td>0</td>\n",
       "    </tr>\n",
       "    <tr>\n",
       "      <th>1</th>\n",
       "      <td>2022-01-04</td>\n",
       "      <td>South</td>\n",
       "      <td>Product C</td>\n",
       "      <td>1623</td>\n",
       "      <td>1</td>\n",
       "    </tr>\n",
       "    <tr>\n",
       "      <th>2</th>\n",
       "      <td>2022-01-07</td>\n",
       "      <td>South</td>\n",
       "      <td>Product A</td>\n",
       "      <td>1159</td>\n",
       "      <td>4</td>\n",
       "    </tr>\n",
       "    <tr>\n",
       "      <th>3</th>\n",
       "      <td>2022-01-12</td>\n",
       "      <td>West</td>\n",
       "      <td>Product B</td>\n",
       "      <td>501</td>\n",
       "      <td>2</td>\n",
       "    </tr>\n",
       "    <tr>\n",
       "      <th>4</th>\n",
       "      <td>2022-01-21</td>\n",
       "      <td>East</td>\n",
       "      <td>Product B</td>\n",
       "      <td>1567</td>\n",
       "      <td>4</td>\n",
       "    </tr>\n",
       "  </tbody>\n",
       "</table>\n",
       "</div>"
      ],
      "text/plain": [
       "        Date Region    Product  SalesCount  weekday\n",
       "0 2022-01-03  South  Product C         716        0\n",
       "1 2022-01-04  South  Product C        1623        1\n",
       "2 2022-01-07  South  Product A        1159        4\n",
       "3 2022-01-12   West  Product B         501        2\n",
       "4 2022-01-21   East  Product B        1567        4"
      ]
     },
     "execution_count": 42,
     "metadata": {},
     "output_type": "execute_result"
    }
   ],
   "source": [
    "df[\"weekday\"] = df.Date.dt.day_of_week\n",
    "df.head()"
   ]
  },
  {
   "cell_type": "code",
   "execution_count": 43,
   "id": "38f97ae7",
   "metadata": {},
   "outputs": [
    {
     "data": {
      "text/plain": [
       "weekday\n",
       "0    1280.5\n",
       "1    1245.0\n",
       "2    1100.0\n",
       "3    1433.0\n",
       "4    1549.0\n",
       "5    1288.0\n",
       "6    1296.0\n",
       "Name: SalesCount, dtype: float64"
      ]
     },
     "execution_count": 43,
     "metadata": {},
     "output_type": "execute_result"
    }
   ],
   "source": [
    "df.groupby(\"weekday\")[\"SalesCount\"].agg('median')"
   ]
  },
  {
   "cell_type": "code",
   "execution_count": 46,
   "id": "10b1cd4b",
   "metadata": {},
   "outputs": [
    {
     "data": {
      "text/plain": [
       "np.int64(501)"
      ]
     },
     "execution_count": 46,
     "metadata": {},
     "output_type": "execute_result"
    }
   ],
   "source": [
    "df[df.SalesCount == df.SalesCount.min()]\n",
    "df.SalesCount.min()"
   ]
  },
  {
   "cell_type": "code",
   "execution_count": 45,
   "id": "2f1ed6ce",
   "metadata": {},
   "outputs": [
    {
     "data": {
      "text/plain": [
       "<Axes: xlabel='weekday', ylabel='Sales'>"
      ]
     },
     "execution_count": 45,
     "metadata": {},
     "output_type": "execute_result"
    },
    {
     "data": {
      "image/png": "[encoded data removed]",
      "text/plain": [
       "<Figure size 640x480 with 1 Axes>"
      ]
     },
     "metadata": {},
     "output_type": "display_data"
    }
   ],
   "source": [
    "datum = pd.DataFrame()\n",
    "datum[\"Sales\"] = df.groupby(\"weekday\")[\"SalesCount\"].agg('sum')\n",
    "datum.reset_index(inplace=True)\n",
    "sns.barplot(\n",
    "    data = datum,\n",
    "    x = datum.weekday,\n",
    "    y = datum.Sales,\n",
    ")"
   ]
  }
 ],
 "metadata": {
  "kernelspec": {
   "display_name": "venv (3.12.7)",
   "language": "python",
   "name": "python3"
  },
  "language_info": {
   "codemirror_mode": {
    "name": "ipython",
    "version": 3
   },
   "file_extension": ".py",
   "mimetype": "text/x-python",
   "name": "python",
   "nbconvert_exporter": "python",
   "pygments_lexer": "ipython3",
   "version": "3.12.7"
  }
 },
 "nbformat": 4,
 "nbformat_minor": 5
}
