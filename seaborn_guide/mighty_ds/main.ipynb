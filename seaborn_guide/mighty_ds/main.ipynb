{
 "cells": [
  {
   "cell_type": "code",
   "execution_count": 1,
   "id": "ebdcbd7e",
   "metadata": {},
   "outputs": [],
   "source": [
    "import numpy as np\n",
    "import pandas as pd\n",
    "import matplotlib as mplb\n",
    "import seaborn as sns\n",
    "import scypy as sp"
   ]
  },
  {
   "cell_type": "markdown",
   "id": "8d538f90",
   "metadata": {},
   "source": [
    "Вот вопросы, которые могут помочь вам в анализе:\n",
    "\n",
    " - Какие типы данных и основные параметры переменных вы видите? Есть ли пропущенные значения? А выбросы?\n",
    " - Посмотрите на описание переменных и выделите основные. Опишите их распределение. Какие тенденции и закономерности можно заметить в отдельных переменных?\n",
    " - Постройте матрицу корреляций и выявите возможные зависимости между переменными. Какие переменные, на ваш взгляд, могут иметь взаимное влияние? Можно ли описать эту связь логически?\n",
    " - На основе проведенного анализа сформулируйте гипотезу. Она должна быть связана с потенциальными взаимосвязями или закономерностями в данных."
   ]
  },
  {
   "cell_type": "code",
   "execution_count": null,
   "id": "2903faec",
   "metadata": {},
   "outputs": [
    {
     "ename": "AttributeError",
     "evalue": "module 'pandas' has no attribute 'read_xlsx'",
     "output_type": "error",
     "traceback": [
      "\u001b[31m---------------------------------------------------------------------------\u001b[39m",
      "\u001b[31mAttributeError\u001b[39m                            Traceback (most recent call last)",
      "\u001b[36mCell\u001b[39m\u001b[36m \u001b[39m\u001b[32mIn[6]\u001b[39m\u001b[32m, line 1\u001b[39m\n\u001b[32m----> \u001b[39m\u001b[32m1\u001b[39m df = \u001b[43mpd\u001b[49m\u001b[43m.\u001b[49m\u001b[43mread_xlsx\u001b[49m(\n\u001b[32m      2\u001b[39m     \u001b[33m\"\u001b[39m\u001b[33mdata.xlsx\u001b[39m\u001b[33m\"\u001b[39m\n\u001b[32m      3\u001b[39m )\n",
      "\u001b[31mAttributeError\u001b[39m: module 'pandas' has no attribute 'read_xlsx'"
     ]
    }
   ],
   "source": [
    "df = pd.read_xlsx(\n",
    "    \"data.csv\"\n",
    ")"
   ]
  }
 ],
 "metadata": {
  "kernelspec": {
   "display_name": "venv (3.12.7)",
   "language": "python",
   "name": "python3"
  },
  "language_info": {
   "codemirror_mode": {
    "name": "ipython",
    "version": 3
   },
   "file_extension": ".py",
   "mimetype": "text/x-python",
   "name": "python",
   "nbconvert_exporter": "python",
   "pygments_lexer": "ipython3",
   "version": "3.12.7"
  }
 },
 "nbformat": 4,
 "nbformat_minor": 5
}
